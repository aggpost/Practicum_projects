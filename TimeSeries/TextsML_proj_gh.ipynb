{
 "cells": [
  {
   "cell_type": "markdown",
   "id": "d308d235-b9c3-40ec-94a1-f650c0d30f94",
   "metadata": {},
   "source": [
    "# Проект для «Викишоп»"
   ]
  },
  {
   "cell_type": "markdown",
   "id": "51d1b48e-9215-4bb1-bd26-bba2c294440e",
   "metadata": {},
   "source": [
    "### Описание задачи"
   ]
  },
  {
   "cell_type": "markdown",
   "id": "f7cc5907-b4b3-402f-affa-c236eb372096",
   "metadata": {},
   "source": [
    "Интернет-магазин «Викишоп» запускает новый сервис.\n",
    "Теперь пользователи могут редактировать и дополнять описания товаров, как в вики-сообществах.\n",
    "То есть клиенты предлагают свои правки и комментируют изменения других.\n",
    "Магазину нужен инструмент, который будет искать токсичные комментарии и отправлять их на модерацию. "
   ]
  },
  {
   "cell_type": "markdown",
   "id": "5e07688e-e6e6-490f-aef5-3139add4993a",
   "metadata": {},
   "source": [
    "#### Постановка задачи"
   ]
  },
  {
   "cell_type": "markdown",
   "id": "e3461805-9591-4522-b56a-4fddc1bf6988",
   "metadata": {},
   "source": [
    "Необходимо построить модель классификации, разделяющую комментарии на позитивные и негативные, с целевым значением F1-меры не ниже 0.75"
   ]
  },
  {
   "cell_type": "markdown",
   "id": "b6e22e1c-c86b-4561-8916-ec1f0b67acbb",
   "metadata": {},
   "source": [
    "### Описание данных"
   ]
  },
  {
   "cell_type": "markdown",
   "id": "f2247a75-5a40-48d9-8dec-1bcda8cd7843",
   "metadata": {},
   "source": [
    "В нашем распоряжении имеется набор данных с разметкой о токсичности правок."
   ]
  },
  {
   "cell_type": "markdown",
   "id": "5e109915-b133-4fd3-a9d4-aaf88d26537d",
   "metadata": {},
   "source": [
    "Столбец «text» — текст комментария, а «toxic» — целевой признак."
   ]
  },
  {
   "cell_type": "markdown",
   "id": "6794817b-d30b-4b81-9e6c-a8d09ab6cce1",
   "metadata": {},
   "source": [
    "## Загрузка библиотек"
   ]
  },
  {
   "cell_type": "code",
   "execution_count": 1,
   "id": "5e883d54-7e6e-4a29-a742-0bf31afbea63",
   "metadata": {},
   "outputs": [
    {
     "name": "stdout",
     "output_type": "stream",
     "text": [
      "\u001b[33mDEPRECATION: Loading egg at /usr/lib64/python3.11/site-packages/TBB-2021.12.0-py3.11-linux-x86_64.egg is deprecated. pip 25.1 will enforce this behaviour change. A possible replacement is to use pip for package installation. Discussion can be found at https://github.com/pypa/pip/issues/12330\u001b[0m\u001b[33m\n",
      "\u001b[0m\u001b[1;31merror\u001b[0m: \u001b[1mexternally-managed-environment\u001b[0m\n",
      "\n",
      "\u001b[31m×\u001b[0m This environment is externally managed\n",
      "\u001b[31m╰─>\u001b[0m To install Python packages system-wide, try\n",
      "\u001b[31m   \u001b[0m zypper install python311-xyz, where xyz is the package\n",
      "\u001b[31m   \u001b[0m you are trying to install.\n",
      "\u001b[31m   \u001b[0m \n",
      "\u001b[31m   \u001b[0m If you wish to install a non-rpm packaged Python package,\n",
      "\u001b[31m   \u001b[0m create a virtual environment using python3.11 -m venv path/to/venv.\n",
      "\u001b[31m   \u001b[0m Then use path/to/venv/bin/python and path/to/venv/bin/pip.\n",
      "\u001b[31m   \u001b[0m \n",
      "\u001b[31m   \u001b[0m If you wish to install a non-rpm packaged Python application,\n",
      "\u001b[31m   \u001b[0m it may be easiest to use `pipx install xyz`, which will manage a\n",
      "\u001b[31m   \u001b[0m virtual environment for you. Install pipx via `zypper install python311-pipx` .\n",
      "\n",
      "\u001b[1;35mnote\u001b[0m: If you believe this is a mistake, please contact your Python installation or OS distribution provider. You can override this, at the risk of breaking your Python installation or OS, by passing --break-system-packages.\n",
      "\u001b[1;36mhint\u001b[0m: See PEP 668 for the detailed specification.\n"
     ]
    }
   ],
   "source": [
    "!pip install nltk"
   ]
  },
  {
   "cell_type": "code",
   "execution_count": 2,
   "id": "25789569-6e77-4eea-9c0b-ec44a5d077f0",
   "metadata": {},
   "outputs": [
    {
     "name": "stdout",
     "output_type": "stream",
     "text": [
      "\u001b[33mDEPRECATION: Loading egg at /usr/lib64/python3.11/site-packages/TBB-2021.12.0-py3.11-linux-x86_64.egg is deprecated. pip 25.1 will enforce this behaviour change. A possible replacement is to use pip for package installation. Discussion can be found at https://github.com/pypa/pip/issues/12330\u001b[0m\u001b[33m\n",
      "\u001b[0m\u001b[1;31merror\u001b[0m: \u001b[1mexternally-managed-environment\u001b[0m\n",
      "\n",
      "\u001b[31m×\u001b[0m This environment is externally managed\n",
      "\u001b[31m╰─>\u001b[0m To install Python packages system-wide, try\n",
      "\u001b[31m   \u001b[0m zypper install python311-xyz, where xyz is the package\n",
      "\u001b[31m   \u001b[0m you are trying to install.\n",
      "\u001b[31m   \u001b[0m \n",
      "\u001b[31m   \u001b[0m If you wish to install a non-rpm packaged Python package,\n",
      "\u001b[31m   \u001b[0m create a virtual environment using python3.11 -m venv path/to/venv.\n",
      "\u001b[31m   \u001b[0m Then use path/to/venv/bin/python and path/to/venv/bin/pip.\n",
      "\u001b[31m   \u001b[0m \n",
      "\u001b[31m   \u001b[0m If you wish to install a non-rpm packaged Python application,\n",
      "\u001b[31m   \u001b[0m it may be easiest to use `pipx install xyz`, which will manage a\n",
      "\u001b[31m   \u001b[0m virtual environment for you. Install pipx via `zypper install python311-pipx` .\n",
      "\n",
      "\u001b[1;35mnote\u001b[0m: If you believe this is a mistake, please contact your Python installation or OS distribution provider. You can override this, at the risk of breaking your Python installation or OS, by passing --break-system-packages.\n",
      "\u001b[1;36mhint\u001b[0m: See PEP 668 for the detailed specification.\n",
      "Note: you may need to restart the kernel to use updated packages.\n"
     ]
    }
   ],
   "source": [
    "pip install lightgbm"
   ]
  },
  {
   "cell_type": "code",
   "execution_count": 3,
   "id": "6070c437",
   "metadata": {},
   "outputs": [
    {
     "name": "stderr",
     "output_type": "stream",
     "text": [
      "[nltk_data] Downloading package averaged_perceptron_tagger to\n",
      "[nltk_data]     /home/tokej/nltk_data...\n",
      "[nltk_data]   Package averaged_perceptron_tagger is already up-to-\n",
      "[nltk_data]       date!\n",
      "[nltk_data] Downloading package averaged_perceptron_tagger_eng to\n",
      "[nltk_data]     /home/tokej/nltk_data...\n",
      "[nltk_data]   Package averaged_perceptron_tagger_eng is already up-to-\n",
      "[nltk_data]       date!\n"
     ]
    },
    {
     "data": {
      "text/plain": [
       "True"
      ]
     },
     "execution_count": 3,
     "metadata": {},
     "output_type": "execute_result"
    }
   ],
   "source": [
    "# требуется для работы pos_tag\n",
    "import nltk\n",
    "nltk.download('averaged_perceptron_tagger')\n",
    "nltk.download('averaged_perceptron_tagger_eng')"
   ]
  },
  {
   "cell_type": "code",
   "execution_count": 4,
   "id": "dcacc5e5-5985-4497-93b0-f80c5ce4966d",
   "metadata": {},
   "outputs": [],
   "source": [
    "from lightgbm import LGBMClassifier\n",
    "from nltk.corpus import wordnet\n",
    "from nltk.stem import WordNetLemmatizer\n",
    "import numpy as np\n",
    "import re\n",
    "import os\n",
    "import pandas as pd\n",
    "from sklearn.linear_model import LogisticRegression\n",
    "from sklearn.model_selection import (\n",
    "    train_test_split,\n",
    "    GridSearchCV\n",
    ")\n",
    "from sklearn.feature_extraction.text import TfidfVectorizer \n",
    "from sklearn.tree import DecisionTreeClassifier\n",
    "from sklearn.metrics import f1_score"
   ]
  },
  {
   "cell_type": "code",
   "execution_count": 5,
   "id": "39bf4ef6",
   "metadata": {},
   "outputs": [],
   "source": [
    "RANDOM_STATE = 12345"
   ]
  },
  {
   "cell_type": "markdown",
   "id": "ebd1504e-4731-4627-b84b-ed8f28502aa5",
   "metadata": {},
   "source": [
    "## Загрузка данных"
   ]
  },
  {
   "cell_type": "code",
   "execution_count": 6,
   "id": "47bbd878-15f6-4da3-84ce-27ddb71c82b6",
   "metadata": {},
   "outputs": [],
   "source": [
    "path1 = '/datasets/toxic_comments.csv'\n",
    "path2 = 'toxic_comments.csv'\n",
    "\n",
    "if os.path.exists(path1):\n",
    "    data = pd.read_csv(path1)\n",
    "elif os.path.exists(path2):\n",
    "    data = pd.read_csv(path2)\n",
    "else:\n",
    "    print('Нет файла с данными')"
   ]
  },
  {
   "cell_type": "markdown",
   "id": "2352db70-050e-496a-af07-5ab62b86ffed",
   "metadata": {},
   "source": [
    "#### Осмотр данных"
   ]
  },
  {
   "cell_type": "code",
   "execution_count": 7,
   "id": "20287780-2f39-49d2-9b8d-0a698efc46d5",
   "metadata": {},
   "outputs": [
    {
     "name": "stdout",
     "output_type": "stream",
     "text": [
      "<class 'pandas.core.frame.DataFrame'>\n",
      "RangeIndex: 159292 entries, 0 to 159291\n",
      "Data columns (total 3 columns):\n",
      " #   Column      Non-Null Count   Dtype \n",
      "---  ------      --------------   ----- \n",
      " 0   Unnamed: 0  159292 non-null  int64 \n",
      " 1   text        159292 non-null  object\n",
      " 2   toxic       159292 non-null  int64 \n",
      "dtypes: int64(2), object(1)\n",
      "memory usage: 3.6+ MB\n"
     ]
    }
   ],
   "source": [
    "data.info()"
   ]
  },
  {
   "cell_type": "markdown",
   "id": "2dbb7365-c09f-4872-9c7e-3c84a481dd03",
   "metadata": {},
   "source": [
    "Видим, что датасет полный, без NaN'ов.\n",
    "Видим также столбец «Unnamed: 0» неясного назначения: в описании данных его нет.\n",
    "\n",
    "Посмотрим на первые 5 строк датасета."
   ]
  },
  {
   "cell_type": "code",
   "execution_count": 8,
   "id": "116a7454-ee18-4521-b583-572a92fcb6ff",
   "metadata": {},
   "outputs": [
    {
     "data": {
      "text/html": [
       "<div>\n",
       "<style scoped>\n",
       "    .dataframe tbody tr th:only-of-type {\n",
       "        vertical-align: middle;\n",
       "    }\n",
       "\n",
       "    .dataframe tbody tr th {\n",
       "        vertical-align: top;\n",
       "    }\n",
       "\n",
       "    .dataframe thead th {\n",
       "        text-align: right;\n",
       "    }\n",
       "</style>\n",
       "<table border=\"1\" class=\"dataframe\">\n",
       "  <thead>\n",
       "    <tr style=\"text-align: right;\">\n",
       "      <th></th>\n",
       "      <th>Unnamed: 0</th>\n",
       "      <th>text</th>\n",
       "      <th>toxic</th>\n",
       "    </tr>\n",
       "  </thead>\n",
       "  <tbody>\n",
       "    <tr>\n",
       "      <th>0</th>\n",
       "      <td>0</td>\n",
       "      <td>Explanation\\nWhy the edits made under my usern...</td>\n",
       "      <td>0</td>\n",
       "    </tr>\n",
       "    <tr>\n",
       "      <th>1</th>\n",
       "      <td>1</td>\n",
       "      <td>D'aww! He matches this background colour I'm s...</td>\n",
       "      <td>0</td>\n",
       "    </tr>\n",
       "    <tr>\n",
       "      <th>2</th>\n",
       "      <td>2</td>\n",
       "      <td>Hey man, I'm really not trying to edit war. It...</td>\n",
       "      <td>0</td>\n",
       "    </tr>\n",
       "    <tr>\n",
       "      <th>3</th>\n",
       "      <td>3</td>\n",
       "      <td>\"\\nMore\\nI can't make any real suggestions on ...</td>\n",
       "      <td>0</td>\n",
       "    </tr>\n",
       "    <tr>\n",
       "      <th>4</th>\n",
       "      <td>4</td>\n",
       "      <td>You, sir, are my hero. Any chance you remember...</td>\n",
       "      <td>0</td>\n",
       "    </tr>\n",
       "  </tbody>\n",
       "</table>\n",
       "</div>"
      ],
      "text/plain": [
       "   Unnamed: 0                                               text  toxic\n",
       "0           0  Explanation\\nWhy the edits made under my usern...      0\n",
       "1           1  D'aww! He matches this background colour I'm s...      0\n",
       "2           2  Hey man, I'm really not trying to edit war. It...      0\n",
       "3           3  \"\\nMore\\nI can't make any real suggestions on ...      0\n",
       "4           4  You, sir, are my hero. Any chance you remember...      0"
      ]
     },
     "execution_count": 8,
     "metadata": {},
     "output_type": "execute_result"
    }
   ],
   "source": [
    "data.head()"
   ]
  },
  {
   "cell_type": "markdown",
   "id": "906ca0ae-4c9f-45b0-a721-e34d96c83f6a",
   "metadata": {},
   "source": [
    "Датасет загрузился корректно, столбцы соответствуют описанию данных.\n",
    "\n",
    "Есть, однако, столбец «Unnamed: 0», содержащий неясные числовые данные, и который на вид как будто бы дублирует индексы.\n",
    "К решению нашей задачи он отношения не имеет, избавимся от него на этапе предобработки данных."
   ]
  },
  {
   "cell_type": "markdown",
   "id": "04a6ed43-5431-49df-a35e-d4d3c076ee15",
   "metadata": {},
   "source": [
    "### Предобработка данных"
   ]
  },
  {
   "cell_type": "markdown",
   "id": "bb568c35-1c31-4b8b-9733-667c1da608f4",
   "metadata": {},
   "source": [
    "Удалим столбец «Unnamed: 0»."
   ]
  },
  {
   "cell_type": "code",
   "execution_count": 9,
   "id": "72e9699e-67ce-4634-a8e0-192cee066027",
   "metadata": {},
   "outputs": [],
   "source": [
    "data = data.drop('Unnamed: 0', axis=1)"
   ]
  },
  {
   "cell_type": "markdown",
   "id": "0066e947-6516-45c9-8c38-331371d9c706",
   "metadata": {},
   "source": [
    "#### Очистка и лемматизация"
   ]
  },
  {
   "cell_type": "markdown",
   "id": "9f8ae12e",
   "metadata": {},
   "source": [
    "Очистим данные от неподходящих символов: спецсимволов, лишних пробелов, символов из нелатинских алфавитов и т.д."
   ]
  },
  {
   "cell_type": "code",
   "execution_count": 10,
   "id": "03e70c36",
   "metadata": {},
   "outputs": [],
   "source": [
    "def clear_text(text):\n",
    "    text = re.sub(r'[^a-zA-Z]', ' ', text)\n",
    "    text = text.split()\n",
    "    return ' '.join(text)\n",
    "\n",
    "data['text'] = data['text'].apply(clear_text)"
   ]
  },
  {
   "cell_type": "markdown",
   "id": "603f3fa7",
   "metadata": {},
   "source": [
    "Посмотрим, сколько у нас строк, целиком состоявших из неподходящих символов (сейчас это пустые строки)"
   ]
  },
  {
   "cell_type": "code",
   "execution_count": 11,
   "id": "473888a9",
   "metadata": {},
   "outputs": [
    {
     "data": {
      "text/plain": [
       "11"
      ]
     },
     "execution_count": 11,
     "metadata": {},
     "output_type": "execute_result"
    }
   ],
   "source": [
    "len(data[data['text'] == ''])"
   ]
  },
  {
   "cell_type": "markdown",
   "id": "419ecf42",
   "metadata": {},
   "source": [
    "Немного.\n",
    "Удалим их."
   ]
  },
  {
   "cell_type": "code",
   "execution_count": 12,
   "id": "a824ce7d",
   "metadata": {},
   "outputs": [],
   "source": [
    "data = data[data['text'] != '']"
   ]
  },
  {
   "cell_type": "markdown",
   "id": "7238eff7-577a-40c2-8853-41bf7cc8e915",
   "metadata": {},
   "source": [
    "Лемматизируем очищенный текст"
   ]
  },
  {
   "cell_type": "code",
   "execution_count": 13,
   "id": "17a58ade",
   "metadata": {},
   "outputs": [
    {
     "name": "stdout",
     "output_type": "stream",
     "text": [
      "CPU times: user 3min 11s, sys: 56.5 ms, total: 3min 11s\n",
      "Wall time: 3min 11s\n"
     ]
    }
   ],
   "source": [
    "%%time\n",
    "def lemmatize_str(text, l):\n",
    "    def get_wordnet_pos(word):\n",
    "        tag = nltk.pos_tag([word])[0][1][0].upper()\n",
    "        tag_dict = {\"J\": wordnet.ADJ,\n",
    "                    \"N\": wordnet.NOUN,\n",
    "                    \"V\": wordnet.VERB,\n",
    "                    \"R\": wordnet.ADV}\n",
    "        \n",
    "        return tag_dict.get(tag, wordnet.NOUN)\n",
    "\n",
    "    return \" \".join([l.lemmatize(word, get_wordnet_pos(word)) for word in text.split()])\n",
    "\n",
    "\n",
    "l = WordNetLemmatizer()\n",
    "data['text'] = data['text'].apply(lambda x: lemmatize_str(x, l))"
   ]
  },
  {
   "cell_type": "markdown",
   "id": "2ac2ce6b-e3d0-4f1c-b9f2-902489c2c8bd",
   "metadata": {},
   "source": [
    "Проверим получившийся датасет на дубликаты"
   ]
  },
  {
   "cell_type": "code",
   "execution_count": 14,
   "id": "656daf32-3b72-4023-93e2-f389491e29ca",
   "metadata": {},
   "outputs": [
    {
     "data": {
      "text/plain": [
       "np.int64(1150)"
      ]
     },
     "execution_count": 14,
     "metadata": {},
     "output_type": "execute_result"
    }
   ],
   "source": [
    "data.duplicated().sum()"
   ]
  },
  {
   "cell_type": "markdown",
   "id": "af84994b",
   "metadata": {},
   "source": [
    "Удалим их."
   ]
  },
  {
   "cell_type": "code",
   "execution_count": 15,
   "id": "cf15b91d",
   "metadata": {},
   "outputs": [],
   "source": [
    "data = data.drop_duplicates()"
   ]
  },
  {
   "cell_type": "markdown",
   "id": "ca73340e-9bc4-43ee-a2bc-8715682506b1",
   "metadata": {},
   "source": [
    "Предобработка данных завершена."
   ]
  },
  {
   "cell_type": "markdown",
   "id": "7c028b0c-6891-4579-97a0-5aec40d538ba",
   "metadata": {},
   "source": [
    "### Анализ данных"
   ]
  },
  {
   "cell_type": "markdown",
   "id": "92d63ad2-7ea7-4c24-a15f-da02176af6e2",
   "metadata": {},
   "source": [
    "Посмотрим на баланс классов в нашем датасете"
   ]
  },
  {
   "cell_type": "code",
   "execution_count": 16,
   "id": "32b1720a-03d3-4f35-8aad-c8f07655e0eb",
   "metadata": {},
   "outputs": [
    {
     "data": {
      "image/png": "[encoded data removed]",
      "text/plain": [
       "<Figure size 640x480 with 1 Axes>"
      ]
     },
     "metadata": {},
     "output_type": "display_data"
    }
   ],
   "source": [
    "data['toxic'] \\\n",
    "    .value_counts() \\\n",
    "    .plot(kind='pie', ylabel='', title='Баланс классов', autopct='%1.1f%%');"
   ]
  },
  {
   "cell_type": "markdown",
   "id": "4eae866a-5c21-4fd5-adef-0c2bc2d75679",
   "metadata": {},
   "source": [
    "Видим, что наблюдается дисбаланс классов.\n",
    "Необходимо учитывать его при создании выборок."
   ]
  },
  {
   "cell_type": "markdown",
   "id": "1d8cd7c0",
   "metadata": {
    "vscode": {
     "languageId": "raw"
    }
   },
   "source": [
    "### Создание выборок"
   ]
  },
  {
   "cell_type": "markdown",
   "id": "dfa9c6fd-278e-4394-a93b-f45954cbfd02",
   "metadata": {},
   "source": [
    "Создадим выборки, заодно вычислив TF-IDF для нашего корпуса текстов."
   ]
  },
  {
   "cell_type": "code",
   "execution_count": 17,
   "id": "d3822b82-e223-4773-8fa1-d9f6ef3aa934",
   "metadata": {},
   "outputs": [],
   "source": [
    "X = data.drop(['toxic'], axis=1)\n",
    "y = data['toxic']"
   ]
  },
  {
   "cell_type": "code",
   "execution_count": 18,
   "id": "0e59502c-6f3a-4512-9c6a-17c464d634c7",
   "metadata": {},
   "outputs": [],
   "source": [
    "X_train, X_test, y_train, y_test = train_test_split(\n",
    "                                        X, \n",
    "                                        y, \n",
    "                                        test_size=0.25,\n",
    "                                        stratify=y,\n",
    "                                        random_state=RANDOM_STATE)"
   ]
  },
  {
   "cell_type": "code",
   "execution_count": 19,
   "id": "0e819ae6-6b83-427e-9f4a-ec50cf24e94f",
   "metadata": {},
   "outputs": [],
   "source": [
    "count_tf_idf = TfidfVectorizer(stop_words='english')\n",
    "X_train = count_tf_idf.fit_transform(X_train['text'].to_list())\n",
    "X_test = count_tf_idf.transform(X_test['text'].to_list())"
   ]
  },
  {
   "cell_type": "markdown",
   "id": "2112f3a7",
   "metadata": {},
   "source": [
    "Выборки готовы!"
   ]
  },
  {
   "cell_type": "markdown",
   "id": "a2e5a446-69d5-482b-8706-cc2dc8853162",
   "metadata": {},
   "source": [
    "### Обучение моделей"
   ]
  },
  {
   "cell_type": "markdown",
   "id": "71083f9b-dc42-4ec3-8cf1-6c2e38867d54",
   "metadata": {},
   "source": [
    "#### Логистическая регрессия"
   ]
  },
  {
   "cell_type": "markdown",
   "id": "6143235b-f58d-4739-a4a0-8fc6fb56d709",
   "metadata": {},
   "source": [
    "Рассмотрим модель логистической регрессии и найдем лучшие гиперпараметры для нее."
   ]
  },
  {
   "cell_type": "code",
   "execution_count": 20,
   "id": "d43c0c68-2d10-4c78-b917-a4478561fcab",
   "metadata": {},
   "outputs": [],
   "source": [
    "model_logr = LogisticRegression()"
   ]
  },
  {
   "cell_type": "code",
   "execution_count": 21,
   "id": "433bb488-feed-4e27-b7b0-a839d0e01cbc",
   "metadata": {},
   "outputs": [],
   "source": [
    "params = {'C': np.linspace(0.01, 100, 10),\n",
    "              'fit_intercept': [True, False],\n",
    "              'random_state': [RANDOM_STATE]}"
   ]
  },
  {
   "cell_type": "code",
   "execution_count": 22,
   "id": "f2616fa1-e8b1-4ae4-983d-504effe8515b",
   "metadata": {},
   "outputs": [],
   "source": [
    "grid_logr = GridSearchCV(\n",
    "    model_logr,\n",
    "    params,\n",
    "    scoring = 'f1'\n",
    ")"
   ]
  },
  {
   "cell_type": "code",
   "execution_count": 23,
   "id": "68a972cf-384e-4578-a5c3-dc247732e28e",
   "metadata": {},
   "outputs": [
    {
     "name": "stderr",
     "output_type": "stream",
     "text": [
      "/home/tokej/.local/lib/python3.11/site-packages/numpy/ma/core.py:2846: RuntimeWarning: invalid value encountered in cast\n",
      "  _data = np.array(data, dtype=dtype, copy=copy,\n"
     ]
    },
    {
     "name": "stdout",
     "output_type": "stream",
     "text": [
      "{'C': np.float64(22.23), 'fit_intercept': True, 'random_state': 12345}\n",
      "0.7611642124073127\n",
      "CPU times: user 1h 27min 44s, sys: 964 ms, total: 1h 27min 45s\n",
      "Wall time: 5min 36s\n"
     ]
    }
   ],
   "source": [
    "%%time\n",
    "grid_logr.fit(X_train, y_train)\n",
    "print(grid_logr.best_params_)\n",
    "print(grid_logr.best_score_)"
   ]
  },
  {
   "cell_type": "markdown",
   "id": "2c2d7063",
   "metadata": {},
   "source": [
    "Мы видим, что нам удалось выйти на целевое значение метрики F1 (не менее 0.75)."
   ]
  },
  {
   "cell_type": "markdown",
   "id": "5944a4bd",
   "metadata": {},
   "source": [
    "### Классификатор LightGBM"
   ]
  },
  {
   "cell_type": "markdown",
   "id": "788aad46",
   "metadata": {},
   "source": [
    "Рассмотрим модель LightGBM и найдем лучшие гиперпараметры для нее."
   ]
  },
  {
   "cell_type": "code",
   "execution_count": 24,
   "id": "1d399941",
   "metadata": {},
   "outputs": [],
   "source": [
    "lgbm = LGBMClassifier()"
   ]
  },
  {
   "cell_type": "code",
   "execution_count": 25,
   "id": "62f4cbac",
   "metadata": {},
   "outputs": [],
   "source": [
    "params = {\n",
    "    'n_estimators': [80, 100, 120],\n",
    "    'num_leaves': [20, 30, 40],\n",
    "    'random_state': [RANDOM_STATE]\n",
    "}"
   ]
  },
  {
   "cell_type": "code",
   "execution_count": 26,
   "id": "bb35b4a2",
   "metadata": {},
   "outputs": [],
   "source": [
    "grid_gbm = GridSearchCV(\n",
    "    lgbm,\n",
    "    params,\n",
    "    scoring = 'f1'\n",
    ")"
   ]
  },
  {
   "cell_type": "code",
   "execution_count": 27,
   "id": "c5d5c2ac",
   "metadata": {},
   "outputs": [
    {
     "name": "stdout",
     "output_type": "stream",
     "text": [
      "[LightGBM] [Info] Number of positive: 9653, number of negative: 85225\n",
      "[LightGBM] [Info] Auto-choosing col-wise multi-threading, the overhead of testing was 0.698011 seconds.\n",
      "You can set `force_col_wise=true` to remove the overhead.\n",
      "[LightGBM] [Info] Total Bins 421673\n",
      "[LightGBM] [Info] Number of data points in the train set: 94878, number of used features: 8458\n",
      "[LightGBM] [Info] [binary:BoostFromScore]: pavg=0.101741 -> initscore=-2.178026\n",
      "[LightGBM] [Info] Start training from score -2.178026\n",
      "[LightGBM] [Info] Number of positive: 9653, number of negative: 85225\n",
      "[LightGBM] [Info] Auto-choosing col-wise multi-threading, the overhead of testing was 0.784990 seconds.\n",
      "You can set `force_col_wise=true` to remove the overhead.\n",
      "[LightGBM] [Info] Total Bins 422130\n",
      "[LightGBM] [Info] Number of data points in the train set: 94878, number of used features: 8464\n",
      "[LightGBM] [Info] [binary:BoostFromScore]: pavg=0.101741 -> initscore=-2.178026\n",
      "[LightGBM] [Info] Start training from score -2.178026\n",
      "[LightGBM] [Info] Number of positive: 9652, number of negative: 85226\n",
      "[LightGBM] [Info] Auto-choosing col-wise multi-threading, the overhead of testing was 0.681312 seconds.\n",
      "You can set `force_col_wise=true` to remove the overhead.\n",
      "[LightGBM] [Info] Total Bins 421165\n",
      "[LightGBM] [Info] Number of data points in the train set: 94878, number of used features: 8431\n",
      "[LightGBM] [Info] [binary:BoostFromScore]: pavg=0.101731 -> initscore=-2.178141\n",
      "[LightGBM] [Info] Start training from score -2.178141\n",
      "[LightGBM] [Info] Number of positive: 9653, number of negative: 85226\n",
      "[LightGBM] [Info] Auto-choosing col-wise multi-threading, the overhead of testing was 0.729444 seconds.\n",
      "You can set `force_col_wise=true` to remove the overhead.\n",
      "[LightGBM] [Info] Total Bins 421812\n",
      "[LightGBM] [Info] Number of data points in the train set: 94879, number of used features: 8489\n",
      "[LightGBM] [Info] [binary:BoostFromScore]: pavg=0.101740 -> initscore=-2.178038\n",
      "[LightGBM] [Info] Start training from score -2.178038\n",
      "[LightGBM] [Info] Number of positive: 9653, number of negative: 85226\n",
      "[LightGBM] [Info] Auto-choosing col-wise multi-threading, the overhead of testing was 0.701379 seconds.\n",
      "You can set `force_col_wise=true` to remove the overhead.\n",
      "[LightGBM] [Info] Total Bins 421929\n",
      "[LightGBM] [Info] Number of data points in the train set: 94879, number of used features: 8492\n",
      "[LightGBM] [Info] [binary:BoostFromScore]: pavg=0.101740 -> initscore=-2.178038\n",
      "[LightGBM] [Info] Start training from score -2.178038\n",
      "[LightGBM] [Info] Number of positive: 9653, number of negative: 85225\n",
      "[LightGBM] [Info] Auto-choosing col-wise multi-threading, the overhead of testing was 0.778910 seconds.\n",
      "You can set `force_col_wise=true` to remove the overhead.\n",
      "[LightGBM] [Info] Total Bins 421673\n",
      "[LightGBM] [Info] Number of data points in the train set: 94878, number of used features: 8458\n",
      "[LightGBM] [Info] [binary:BoostFromScore]: pavg=0.101741 -> initscore=-2.178026\n",
      "[LightGBM] [Info] Start training from score -2.178026\n",
      "[LightGBM] [Info] Number of positive: 9653, number of negative: 85225\n",
      "[LightGBM] [Info] Auto-choosing col-wise multi-threading, the overhead of testing was 0.708492 seconds.\n",
      "You can set `force_col_wise=true` to remove the overhead.\n",
      "[LightGBM] [Info] Total Bins 422130\n",
      "[LightGBM] [Info] Number of data points in the train set: 94878, number of used features: 8464\n",
      "[LightGBM] [Info] [binary:BoostFromScore]: pavg=0.101741 -> initscore=-2.178026\n",
      "[LightGBM] [Info] Start training from score -2.178026\n",
      "[LightGBM] [Info] Number of positive: 9652, number of negative: 85226\n",
      "[LightGBM] [Info] Auto-choosing col-wise multi-threading, the overhead of testing was 0.706502 seconds.\n",
      "You can set `force_col_wise=true` to remove the overhead.\n",
      "[LightGBM] [Info] Total Bins 421165\n",
      "[LightGBM] [Info] Number of data points in the train set: 94878, number of used features: 8431\n",
      "[LightGBM] [Info] [binary:BoostFromScore]: pavg=0.101731 -> initscore=-2.178141\n",
      "[LightGBM] [Info] Start training from score -2.178141\n",
      "[LightGBM] [Info] Number of positive: 9653, number of negative: 85226\n",
      "[LightGBM] [Info] Auto-choosing col-wise multi-threading, the overhead of testing was 0.694157 seconds.\n",
      "You can set `force_col_wise=true` to remove the overhead.\n",
      "[LightGBM] [Info] Total Bins 421812\n",
      "[LightGBM] [Info] Number of data points in the train set: 94879, number of used features: 8489\n",
      "[LightGBM] [Info] [binary:BoostFromScore]: pavg=0.101740 -> initscore=-2.178038\n",
      "[LightGBM] [Info] Start training from score -2.178038\n",
      "[LightGBM] [Info] Number of positive: 9653, number of negative: 85226\n",
      "[LightGBM] [Info] Auto-choosing row-wise multi-threading, the overhead of testing was 0.711026 seconds.\n",
      "You can set `force_row_wise=true` to remove the overhead.\n",
      "And if memory is not enough, you can set `force_col_wise=true`.\n",
      "[LightGBM] [Info] Total Bins 421929\n",
      "[LightGBM] [Info] Number of data points in the train set: 94879, number of used features: 8492\n",
      "[LightGBM] [Info] [binary:BoostFromScore]: pavg=0.101740 -> initscore=-2.178038\n",
      "[LightGBM] [Info] Start training from score -2.178038\n",
      "[LightGBM] [Info] Number of positive: 9653, number of negative: 85225\n",
      "[LightGBM] [Info] Auto-choosing row-wise multi-threading, the overhead of testing was 0.709819 seconds.\n",
      "You can set `force_row_wise=true` to remove the overhead.\n",
      "And if memory is not enough, you can set `force_col_wise=true`.\n",
      "[LightGBM] [Info] Total Bins 421673\n",
      "[LightGBM] [Info] Number of data points in the train set: 94878, number of used features: 8458\n",
      "[LightGBM] [Info] [binary:BoostFromScore]: pavg=0.101741 -> initscore=-2.178026\n",
      "[LightGBM] [Info] Start training from score -2.178026\n",
      "[LightGBM] [Info] Number of positive: 9653, number of negative: 85225\n",
      "[LightGBM] [Info] Auto-choosing col-wise multi-threading, the overhead of testing was 0.705208 seconds.\n",
      "You can set `force_col_wise=true` to remove the overhead.\n",
      "[LightGBM] [Info] Total Bins 422130\n",
      "[LightGBM] [Info] Number of data points in the train set: 94878, number of used features: 8464\n",
      "[LightGBM] [Info] [binary:BoostFromScore]: pavg=0.101741 -> initscore=-2.178026\n",
      "[LightGBM] [Info] Start training from score -2.178026\n",
      "[LightGBM] [Info] Number of positive: 9652, number of negative: 85226\n",
      "[LightGBM] [Info] Auto-choosing col-wise multi-threading, the overhead of testing was 0.765217 seconds.\n",
      "You can set `force_col_wise=true` to remove the overhead.\n",
      "[LightGBM] [Info] Total Bins 421165\n",
      "[LightGBM] [Info] Number of data points in the train set: 94878, number of used features: 8431\n",
      "[LightGBM] [Info] [binary:BoostFromScore]: pavg=0.101731 -> initscore=-2.178141\n",
      "[LightGBM] [Info] Start training from score -2.178141\n",
      "[LightGBM] [Info] Number of positive: 9653, number of negative: 85226\n",
      "[LightGBM] [Info] Auto-choosing row-wise multi-threading, the overhead of testing was 0.704193 seconds.\n",
      "You can set `force_row_wise=true` to remove the overhead.\n",
      "And if memory is not enough, you can set `force_col_wise=true`.\n",
      "[LightGBM] [Info] Total Bins 421812\n",
      "[LightGBM] [Info] Number of data points in the train set: 94879, number of used features: 8489\n",
      "[LightGBM] [Info] [binary:BoostFromScore]: pavg=0.101740 -> initscore=-2.178038\n",
      "[LightGBM] [Info] Start training from score -2.178038\n",
      "[LightGBM] [Info] Number of positive: 9653, number of negative: 85226\n",
      "[LightGBM] [Info] Auto-choosing col-wise multi-threading, the overhead of testing was 0.766518 seconds.\n",
      "You can set `force_col_wise=true` to remove the overhead.\n",
      "[LightGBM] [Info] Total Bins 421929\n",
      "[LightGBM] [Info] Number of data points in the train set: 94879, number of used features: 8492\n",
      "[LightGBM] [Info] [binary:BoostFromScore]: pavg=0.101740 -> initscore=-2.178038\n",
      "[LightGBM] [Info] Start training from score -2.178038\n",
      "[LightGBM] [Info] Number of positive: 9653, number of negative: 85225\n",
      "[LightGBM] [Info] Auto-choosing col-wise multi-threading, the overhead of testing was 0.795683 seconds.\n",
      "You can set `force_col_wise=true` to remove the overhead.\n",
      "[LightGBM] [Info] Total Bins 421673\n",
      "[LightGBM] [Info] Number of data points in the train set: 94878, number of used features: 8458\n",
      "[LightGBM] [Info] [binary:BoostFromScore]: pavg=0.101741 -> initscore=-2.178026\n",
      "[LightGBM] [Info] Start training from score -2.178026\n",
      "[LightGBM] [Info] Number of positive: 9653, number of negative: 85225\n",
      "[LightGBM] [Info] Auto-choosing row-wise multi-threading, the overhead of testing was 0.693033 seconds.\n",
      "You can set `force_row_wise=true` to remove the overhead.\n",
      "And if memory is not enough, you can set `force_col_wise=true`.\n",
      "[LightGBM] [Info] Total Bins 422130\n",
      "[LightGBM] [Info] Number of data points in the train set: 94878, number of used features: 8464\n",
      "[LightGBM] [Info] [binary:BoostFromScore]: pavg=0.101741 -> initscore=-2.178026\n",
      "[LightGBM] [Info] Start training from score -2.178026\n",
      "[LightGBM] [Info] Number of positive: 9652, number of negative: 85226\n",
      "[LightGBM] [Info] Auto-choosing row-wise multi-threading, the overhead of testing was 0.689587 seconds.\n",
      "You can set `force_row_wise=true` to remove the overhead.\n",
      "And if memory is not enough, you can set `force_col_wise=true`.\n",
      "[LightGBM] [Info] Total Bins 421165\n",
      "[LightGBM] [Info] Number of data points in the train set: 94878, number of used features: 8431\n",
      "[LightGBM] [Info] [binary:BoostFromScore]: pavg=0.101731 -> initscore=-2.178141\n",
      "[LightGBM] [Info] Start training from score -2.178141\n",
      "[LightGBM] [Info] Number of positive: 9653, number of negative: 85226\n",
      "[LightGBM] [Info] Auto-choosing row-wise multi-threading, the overhead of testing was 0.678951 seconds.\n",
      "You can set `force_row_wise=true` to remove the overhead.\n",
      "And if memory is not enough, you can set `force_col_wise=true`.\n",
      "[LightGBM] [Info] Total Bins 421812\n",
      "[LightGBM] [Info] Number of data points in the train set: 94879, number of used features: 8489\n",
      "[LightGBM] [Info] [binary:BoostFromScore]: pavg=0.101740 -> initscore=-2.178038\n",
      "[LightGBM] [Info] Start training from score -2.178038\n",
      "[LightGBM] [Info] Number of positive: 9653, number of negative: 85226\n",
      "[LightGBM] [Info] Auto-choosing row-wise multi-threading, the overhead of testing was 0.757024 seconds.\n",
      "You can set `force_row_wise=true` to remove the overhead.\n",
      "And if memory is not enough, you can set `force_col_wise=true`.\n",
      "[LightGBM] [Info] Total Bins 421929\n",
      "[LightGBM] [Info] Number of data points in the train set: 94879, number of used features: 8492\n",
      "[LightGBM] [Info] [binary:BoostFromScore]: pavg=0.101740 -> initscore=-2.178038\n",
      "[LightGBM] [Info] Start training from score -2.178038\n",
      "[LightGBM] [Info] Number of positive: 9653, number of negative: 85225\n",
      "[LightGBM] [Info] Auto-choosing col-wise multi-threading, the overhead of testing was 0.774867 seconds.\n",
      "You can set `force_col_wise=true` to remove the overhead.\n",
      "[LightGBM] [Info] Total Bins 421673\n",
      "[LightGBM] [Info] Number of data points in the train set: 94878, number of used features: 8458\n",
      "[LightGBM] [Info] [binary:BoostFromScore]: pavg=0.101741 -> initscore=-2.178026\n",
      "[LightGBM] [Info] Start training from score -2.178026\n",
      "[LightGBM] [Info] Number of positive: 9653, number of negative: 85225\n",
      "[LightGBM] [Info] Auto-choosing col-wise multi-threading, the overhead of testing was 0.751718 seconds.\n",
      "You can set `force_col_wise=true` to remove the overhead.\n",
      "[LightGBM] [Info] Total Bins 422130\n",
      "[LightGBM] [Info] Number of data points in the train set: 94878, number of used features: 8464\n",
      "[LightGBM] [Info] [binary:BoostFromScore]: pavg=0.101741 -> initscore=-2.178026\n",
      "[LightGBM] [Info] Start training from score -2.178026\n",
      "[LightGBM] [Info] Number of positive: 9652, number of negative: 85226\n",
      "[LightGBM] [Info] Auto-choosing col-wise multi-threading, the overhead of testing was 0.787782 seconds.\n",
      "You can set `force_col_wise=true` to remove the overhead.\n",
      "[LightGBM] [Info] Total Bins 421165\n",
      "[LightGBM] [Info] Number of data points in the train set: 94878, number of used features: 8431\n",
      "[LightGBM] [Info] [binary:BoostFromScore]: pavg=0.101731 -> initscore=-2.178141\n",
      "[LightGBM] [Info] Start training from score -2.178141\n",
      "[LightGBM] [Info] Number of positive: 9653, number of negative: 85226\n",
      "[LightGBM] [Info] Auto-choosing row-wise multi-threading, the overhead of testing was 0.887769 seconds.\n",
      "You can set `force_row_wise=true` to remove the overhead.\n",
      "And if memory is not enough, you can set `force_col_wise=true`.\n",
      "[LightGBM] [Info] Total Bins 421812\n",
      "[LightGBM] [Info] Number of data points in the train set: 94879, number of used features: 8489\n",
      "[LightGBM] [Info] [binary:BoostFromScore]: pavg=0.101740 -> initscore=-2.178038\n",
      "[LightGBM] [Info] Start training from score -2.178038\n",
      "[LightGBM] [Info] Number of positive: 9653, number of negative: 85226\n",
      "[LightGBM] [Info] Auto-choosing col-wise multi-threading, the overhead of testing was 0.696594 seconds.\n",
      "You can set `force_col_wise=true` to remove the overhead.\n",
      "[LightGBM] [Info] Total Bins 421929\n",
      "[LightGBM] [Info] Number of data points in the train set: 94879, number of used features: 8492\n",
      "[LightGBM] [Info] [binary:BoostFromScore]: pavg=0.101740 -> initscore=-2.178038\n",
      "[LightGBM] [Info] Start training from score -2.178038\n",
      "[LightGBM] [Info] Number of positive: 9653, number of negative: 85225\n",
      "[LightGBM] [Info] Auto-choosing col-wise multi-threading, the overhead of testing was 0.692716 seconds.\n",
      "You can set `force_col_wise=true` to remove the overhead.\n",
      "[LightGBM] [Info] Total Bins 421673\n",
      "[LightGBM] [Info] Number of data points in the train set: 94878, number of used features: 8458\n",
      "[LightGBM] [Info] [binary:BoostFromScore]: pavg=0.101741 -> initscore=-2.178026\n",
      "[LightGBM] [Info] Start training from score -2.178026\n",
      "[LightGBM] [Info] Number of positive: 9653, number of negative: 85225\n",
      "[LightGBM] [Info] Auto-choosing col-wise multi-threading, the overhead of testing was 0.684067 seconds.\n",
      "You can set `force_col_wise=true` to remove the overhead.\n",
      "[LightGBM] [Info] Total Bins 422130\n",
      "[LightGBM] [Info] Number of data points in the train set: 94878, number of used features: 8464\n",
      "[LightGBM] [Info] [binary:BoostFromScore]: pavg=0.101741 -> initscore=-2.178026\n",
      "[LightGBM] [Info] Start training from score -2.178026\n",
      "[LightGBM] [Info] Number of positive: 9652, number of negative: 85226\n",
      "[LightGBM] [Info] Auto-choosing col-wise multi-threading, the overhead of testing was 0.761983 seconds.\n",
      "You can set `force_col_wise=true` to remove the overhead.\n",
      "[LightGBM] [Info] Total Bins 421165\n",
      "[LightGBM] [Info] Number of data points in the train set: 94878, number of used features: 8431\n",
      "[LightGBM] [Info] [binary:BoostFromScore]: pavg=0.101731 -> initscore=-2.178141\n",
      "[LightGBM] [Info] Start training from score -2.178141\n",
      "[LightGBM] [Info] Number of positive: 9653, number of negative: 85226\n",
      "[LightGBM] [Info] Auto-choosing col-wise multi-threading, the overhead of testing was 0.698090 seconds.\n",
      "You can set `force_col_wise=true` to remove the overhead.\n",
      "[LightGBM] [Info] Total Bins 421812\n",
      "[LightGBM] [Info] Number of data points in the train set: 94879, number of used features: 8489\n",
      "[LightGBM] [Info] [binary:BoostFromScore]: pavg=0.101740 -> initscore=-2.178038\n",
      "[LightGBM] [Info] Start training from score -2.178038\n",
      "[LightGBM] [Info] Number of positive: 9653, number of negative: 85226\n",
      "[LightGBM] [Info] Auto-choosing col-wise multi-threading, the overhead of testing was 0.704478 seconds.\n",
      "You can set `force_col_wise=true` to remove the overhead.\n",
      "[LightGBM] [Info] Total Bins 421929\n",
      "[LightGBM] [Info] Number of data points in the train set: 94879, number of used features: 8492\n",
      "[LightGBM] [Info] [binary:BoostFromScore]: pavg=0.101740 -> initscore=-2.178038\n",
      "[LightGBM] [Info] Start training from score -2.178038\n",
      "[LightGBM] [Info] Number of positive: 9653, number of negative: 85225\n",
      "[LightGBM] [Info] Auto-choosing row-wise multi-threading, the overhead of testing was 0.676690 seconds.\n",
      "You can set `force_row_wise=true` to remove the overhead.\n",
      "And if memory is not enough, you can set `force_col_wise=true`.\n",
      "[LightGBM] [Info] Total Bins 421673\n",
      "[LightGBM] [Info] Number of data points in the train set: 94878, number of used features: 8458\n",
      "[LightGBM] [Info] [binary:BoostFromScore]: pavg=0.101741 -> initscore=-2.178026\n",
      "[LightGBM] [Info] Start training from score -2.178026\n",
      "[LightGBM] [Info] Number of positive: 9653, number of negative: 85225\n",
      "[LightGBM] [Info] Auto-choosing col-wise multi-threading, the overhead of testing was 0.688506 seconds.\n",
      "You can set `force_col_wise=true` to remove the overhead.\n",
      "[LightGBM] [Info] Total Bins 422130\n",
      "[LightGBM] [Info] Number of data points in the train set: 94878, number of used features: 8464\n",
      "[LightGBM] [Info] [binary:BoostFromScore]: pavg=0.101741 -> initscore=-2.178026\n",
      "[LightGBM] [Info] Start training from score -2.178026\n",
      "[LightGBM] [Info] Number of positive: 9652, number of negative: 85226\n",
      "[LightGBM] [Info] Auto-choosing row-wise multi-threading, the overhead of testing was 0.702783 seconds.\n",
      "You can set `force_row_wise=true` to remove the overhead.\n",
      "And if memory is not enough, you can set `force_col_wise=true`.\n",
      "[LightGBM] [Info] Total Bins 421165\n",
      "[LightGBM] [Info] Number of data points in the train set: 94878, number of used features: 8431\n",
      "[LightGBM] [Info] [binary:BoostFromScore]: pavg=0.101731 -> initscore=-2.178141\n",
      "[LightGBM] [Info] Start training from score -2.178141\n",
      "[LightGBM] [Info] Number of positive: 9653, number of negative: 85226\n",
      "[LightGBM] [Info] Auto-choosing row-wise multi-threading, the overhead of testing was 0.706853 seconds.\n",
      "You can set `force_row_wise=true` to remove the overhead.\n",
      "And if memory is not enough, you can set `force_col_wise=true`.\n",
      "[LightGBM] [Info] Total Bins 421812\n",
      "[LightGBM] [Info] Number of data points in the train set: 94879, number of used features: 8489\n",
      "[LightGBM] [Info] [binary:BoostFromScore]: pavg=0.101740 -> initscore=-2.178038\n",
      "[LightGBM] [Info] Start training from score -2.178038\n",
      "[LightGBM] [Info] Number of positive: 9653, number of negative: 85226\n",
      "[LightGBM] [Info] Auto-choosing col-wise multi-threading, the overhead of testing was 0.700284 seconds.\n",
      "You can set `force_col_wise=true` to remove the overhead.\n",
      "[LightGBM] [Info] Total Bins 421929\n",
      "[LightGBM] [Info] Number of data points in the train set: 94879, number of used features: 8492\n",
      "[LightGBM] [Info] [binary:BoostFromScore]: pavg=0.101740 -> initscore=-2.178038\n",
      "[LightGBM] [Info] Start training from score -2.178038\n",
      "[LightGBM] [Info] Number of positive: 9653, number of negative: 85225\n",
      "[LightGBM] [Info] Auto-choosing row-wise multi-threading, the overhead of testing was 0.688165 seconds.\n",
      "You can set `force_row_wise=true` to remove the overhead.\n",
      "And if memory is not enough, you can set `force_col_wise=true`.\n",
      "[LightGBM] [Info] Total Bins 421673\n",
      "[LightGBM] [Info] Number of data points in the train set: 94878, number of used features: 8458\n",
      "[LightGBM] [Info] [binary:BoostFromScore]: pavg=0.101741 -> initscore=-2.178026\n",
      "[LightGBM] [Info] Start training from score -2.178026\n",
      "[LightGBM] [Info] Number of positive: 9653, number of negative: 85225\n",
      "[LightGBM] [Info] Auto-choosing row-wise multi-threading, the overhead of testing was 0.705457 seconds.\n",
      "You can set `force_row_wise=true` to remove the overhead.\n",
      "And if memory is not enough, you can set `force_col_wise=true`.\n",
      "[LightGBM] [Info] Total Bins 422130\n",
      "[LightGBM] [Info] Number of data points in the train set: 94878, number of used features: 8464\n",
      "[LightGBM] [Info] [binary:BoostFromScore]: pavg=0.101741 -> initscore=-2.178026\n",
      "[LightGBM] [Info] Start training from score -2.178026\n",
      "[LightGBM] [Info] Number of positive: 9652, number of negative: 85226\n",
      "[LightGBM] [Info] Auto-choosing col-wise multi-threading, the overhead of testing was 0.674708 seconds.\n",
      "You can set `force_col_wise=true` to remove the overhead.\n",
      "[LightGBM] [Info] Total Bins 421165\n",
      "[LightGBM] [Info] Number of data points in the train set: 94878, number of used features: 8431\n",
      "[LightGBM] [Info] [binary:BoostFromScore]: pavg=0.101731 -> initscore=-2.178141\n",
      "[LightGBM] [Info] Start training from score -2.178141\n",
      "[LightGBM] [Info] Number of positive: 9653, number of negative: 85226\n",
      "[LightGBM] [Info] Auto-choosing col-wise multi-threading, the overhead of testing was 0.689548 seconds.\n",
      "You can set `force_col_wise=true` to remove the overhead.\n",
      "[LightGBM] [Info] Total Bins 421812\n",
      "[LightGBM] [Info] Number of data points in the train set: 94879, number of used features: 8489\n",
      "[LightGBM] [Info] [binary:BoostFromScore]: pavg=0.101740 -> initscore=-2.178038\n",
      "[LightGBM] [Info] Start training from score -2.178038\n",
      "[LightGBM] [Info] Number of positive: 9653, number of negative: 85226\n",
      "[LightGBM] [Info] Auto-choosing row-wise multi-threading, the overhead of testing was 0.705891 seconds.\n",
      "You can set `force_row_wise=true` to remove the overhead.\n",
      "And if memory is not enough, you can set `force_col_wise=true`.\n",
      "[LightGBM] [Info] Total Bins 421929\n",
      "[LightGBM] [Info] Number of data points in the train set: 94879, number of used features: 8492\n",
      "[LightGBM] [Info] [binary:BoostFromScore]: pavg=0.101740 -> initscore=-2.178038\n",
      "[LightGBM] [Info] Start training from score -2.178038\n",
      "[LightGBM] [Info] Number of positive: 9653, number of negative: 85225\n",
      "[LightGBM] [Info] Auto-choosing col-wise multi-threading, the overhead of testing was 0.679894 seconds.\n",
      "You can set `force_col_wise=true` to remove the overhead.\n",
      "[LightGBM] [Info] Total Bins 421673\n",
      "[LightGBM] [Info] Number of data points in the train set: 94878, number of used features: 8458\n",
      "[LightGBM] [Info] [binary:BoostFromScore]: pavg=0.101741 -> initscore=-2.178026\n",
      "[LightGBM] [Info] Start training from score -2.178026\n",
      "[LightGBM] [Info] Number of positive: 9653, number of negative: 85225\n",
      "[LightGBM] [Info] Auto-choosing col-wise multi-threading, the overhead of testing was 0.721538 seconds.\n",
      "You can set `force_col_wise=true` to remove the overhead.\n",
      "[LightGBM] [Info] Total Bins 422130\n",
      "[LightGBM] [Info] Number of data points in the train set: 94878, number of used features: 8464\n",
      "[LightGBM] [Info] [binary:BoostFromScore]: pavg=0.101741 -> initscore=-2.178026\n",
      "[LightGBM] [Info] Start training from score -2.178026\n",
      "[LightGBM] [Info] Number of positive: 9652, number of negative: 85226\n",
      "[LightGBM] [Info] Auto-choosing col-wise multi-threading, the overhead of testing was 0.694363 seconds.\n",
      "You can set `force_col_wise=true` to remove the overhead.\n",
      "[LightGBM] [Info] Total Bins 421165\n",
      "[LightGBM] [Info] Number of data points in the train set: 94878, number of used features: 8431\n",
      "[LightGBM] [Info] [binary:BoostFromScore]: pavg=0.101731 -> initscore=-2.178141\n",
      "[LightGBM] [Info] Start training from score -2.178141\n",
      "[LightGBM] [Info] Number of positive: 9653, number of negative: 85226\n",
      "[LightGBM] [Info] Auto-choosing row-wise multi-threading, the overhead of testing was 0.694803 seconds.\n",
      "You can set `force_row_wise=true` to remove the overhead.\n",
      "And if memory is not enough, you can set `force_col_wise=true`.\n",
      "[LightGBM] [Info] Total Bins 421812\n",
      "[LightGBM] [Info] Number of data points in the train set: 94879, number of used features: 8489\n",
      "[LightGBM] [Info] [binary:BoostFromScore]: pavg=0.101740 -> initscore=-2.178038\n",
      "[LightGBM] [Info] Start training from score -2.178038\n",
      "[LightGBM] [Info] Number of positive: 9653, number of negative: 85226\n",
      "[LightGBM] [Info] Auto-choosing col-wise multi-threading, the overhead of testing was 0.688242 seconds.\n",
      "You can set `force_col_wise=true` to remove the overhead.\n",
      "[LightGBM] [Info] Total Bins 421929\n",
      "[LightGBM] [Info] Number of data points in the train set: 94879, number of used features: 8492\n",
      "[LightGBM] [Info] [binary:BoostFromScore]: pavg=0.101740 -> initscore=-2.178038\n",
      "[LightGBM] [Info] Start training from score -2.178038\n",
      "[LightGBM] [Info] Number of positive: 12066, number of negative: 106532\n",
      "[LightGBM] [Info] Auto-choosing row-wise multi-threading, the overhead of testing was 1.016177 seconds.\n",
      "You can set `force_row_wise=true` to remove the overhead.\n",
      "And if memory is not enough, you can set `force_col_wise=true`.\n",
      "[LightGBM] [Info] Total Bins 499811\n",
      "[LightGBM] [Info] Number of data points in the train set: 118598, number of used features: 9756\n",
      "[LightGBM] [Info] [binary:BoostFromScore]: pavg=0.101739 -> initscore=-2.178054\n",
      "[LightGBM] [Info] Start training from score -2.178054\n",
      "{'n_estimators': 120, 'num_leaves': 40, 'random_state': 12345}\n",
      "0.7496945252731219\n",
      "CPU times: user 39min 55s, sys: 1min 9s, total: 41min 5s\n",
      "Wall time: 6min 10s\n"
     ]
    }
   ],
   "source": [
    "%%time\n",
    "grid_gbm.fit(X_train, y_train)\n",
    "print(grid_gbm.best_params_)\n",
    "print(grid_gbm.best_score_)"
   ]
  },
  {
   "cell_type": "markdown",
   "id": "17cf50d9",
   "metadata": {},
   "source": [
    "Мы видим, что удалось выйти на целевое значение метрики F1 (0.75), однако полученное значение метрики, тем не менее, хуже таковой у логистической регрессии."
   ]
  },
  {
   "cell_type": "markdown",
   "id": "ff45c641",
   "metadata": {},
   "source": [
    "### Решающее дерево"
   ]
  },
  {
   "cell_type": "markdown",
   "id": "0e41b6e8",
   "metadata": {},
   "source": [
    "Рассмотрим модель решающего дерева и подберем наилучшие гиперпараметры."
   ]
  },
  {
   "cell_type": "code",
   "execution_count": 28,
   "id": "04f1b657",
   "metadata": {},
   "outputs": [],
   "source": [
    "model_dt = DecisionTreeClassifier()"
   ]
  },
  {
   "cell_type": "code",
   "execution_count": 29,
   "id": "783b8be4",
   "metadata": {},
   "outputs": [],
   "source": [
    "params = {\n",
    "    'max_depth': [60],\n",
    "    'min_samples_split': range(2, 4),\n",
    "    'min_samples_leaf': range(1, 3),\n",
    "    'random_state': [RANDOM_STATE]\n",
    "}"
   ]
  },
  {
   "cell_type": "code",
   "execution_count": 30,
   "id": "41c53245",
   "metadata": {},
   "outputs": [],
   "source": [
    "grid = GridSearchCV(\n",
    "    model_dt,\n",
    "    params,\n",
    "    scoring = 'f1'\n",
    ")"
   ]
  },
  {
   "cell_type": "code",
   "execution_count": 31,
   "id": "bb6448de",
   "metadata": {},
   "outputs": [
    {
     "name": "stdout",
     "output_type": "stream",
     "text": [
      "{'max_depth': 60, 'min_samples_leaf': 1, 'min_samples_split': 2, 'random_state': 12345}\n",
      "0.7034025001537783\n"
     ]
    }
   ],
   "source": [
    "grid.fit(X_train, y_train)\n",
    "print(grid.best_params_)\n",
    "print(grid.best_score_)"
   ]
  },
  {
   "cell_type": "markdown",
   "id": "7af9a86b-a0c4-416b-af9c-5c222db3884d",
   "metadata": {},
   "source": [
    "Видим, что показатель метрики не достигает целевого.\n",
    "Эта модель не подходит."
   ]
  },
  {
   "cell_type": "markdown",
   "id": "a99f20fe-3c84-4db9-80e1-42a48b16f3fc",
   "metadata": {},
   "source": [
    "В целом, наилучший показатель метрики F1 продемострировала модель логистической регрессии.\n",
    "Выберем ее в качестве лучшей и оценим результат работы на тестовой выборке."
   ]
  },
  {
   "cell_type": "markdown",
   "id": "38c39090-199e-460c-a2c4-e62f812ffa73",
   "metadata": {},
   "source": [
    "### Качество лучшей модели на тестовой выборке"
   ]
  },
  {
   "cell_type": "code",
   "execution_count": 32,
   "id": "38ebe4a3-1f37-4c06-bdc8-8ea12b7aa51e",
   "metadata": {},
   "outputs": [
    {
     "name": "stdout",
     "output_type": "stream",
     "text": [
      "Значение F1-метрики лучшей модели — логистической регрессии на тестовой выборке: 0.77\n"
     ]
    }
   ],
   "source": [
    "print(f'Значение F1-метрики лучшей модели — логистической регрессии на тестовой выборке: '\n",
    "      f'{round(f1_score(y_test, grid_logr.best_estimator_.predict(X_test)), 2)}')"
   ]
  },
  {
   "cell_type": "markdown",
   "id": "480fa487-9ad6-444e-a17f-2ac0c36f27fc",
   "metadata": {},
   "source": [
    "Целевое значение метрики достигнуто!"
   ]
  },
  {
   "cell_type": "markdown",
   "id": "18971aa6-a460-4762-b535-24a0b3252866",
   "metadata": {},
   "source": [
    "## Вывод"
   ]
  },
  {
   "cell_type": "markdown",
   "id": "fbd9d4d8",
   "metadata": {},
   "source": [
    "Был проведен анализ корпуса текстов и получены следующие результаты.\n",
    "\n",
    "На этапе предобработки данных был удален посторонний столбец, не имевший отношения к решению нашей задачи.\n",
    "Также была проведена очистка данных, лемматизация корпуса текстов и проверка данных на полные дубликаты.\n",
    "\n",
    "Были обучены три модели классификации — логистическая регрессия, LightGBM, решающее дерево — и найдены лучшие значения гиперпарамтеров этих моделей.\n",
    "Лучшее значение метрики F1 продемонстрировала модель логистической регрессии, которая и была выбрана в качестве лучшей.\n",
    "\n",
    "Проверка качества на тестовой выборке также продемонстрировала отвечающий условиям задачи результат в смысле целевого значения метрики F1."
   ]
  },
  {
   "cell_type": "markdown",
   "id": "747a3aec",
   "metadata": {},
   "source": []
  }
 ],
 "metadata": {
  "kernelspec": {
   "display_name": "Python 3 (ipykernel)",
   "language": "python",
   "name": "python3"
  },
  "language_info": {
   "codemirror_mode": {
    "name": "ipython",
    "version": 3
   },
   "file_extension": ".py",
   "mimetype": "text/x-python",
   "name": "python",
   "nbconvert_exporter": "python",
   "pygments_lexer": "ipython3",
   "version": "3.13.2"
  },
  "toc": {
   "base_numbering": 1,
   "nav_menu": {},
   "number_sections": true,
   "sideBar": true,
   "skip_h1_title": true,
   "title_cell": "Table of Contents",
   "title_sidebar": "Contents",
   "toc_cell": false,
   "toc_position": {},
   "toc_section_display": true,
   "toc_window_display": false
  }
 },
 "nbformat": 4,
 "nbformat_minor": 5
}

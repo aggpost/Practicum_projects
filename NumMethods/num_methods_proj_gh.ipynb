{
 "cells": [
  {
   "cell_type": "markdown",
   "id": "d796b9ce-98bd-412a-b6a8-fce845119de2",
   "metadata": {},
   "source": [
    "# Проект «Определение стоимости автомобилей»"
   ]
  },
  {
   "cell_type": "markdown",
   "id": "944e0cf6-51d0-44b7-8f4c-4e3d7e34515f",
   "metadata": {},
   "source": [
    "### Описание задачи"
   ]
  },
  {
   "cell_type": "markdown",
   "id": "b194a2ac-839d-4f6c-924a-c909ec5e57cf",
   "metadata": {},
   "source": [
    "Сервис по продаже автомобилей с пробегом «Не бит, не крашен» разрабатывает приложение, чтобы привлечь новых клиентов.\n",
    "В нём можно будет узнать рыночную стоимость своего автомобиля.\n",
    "\n",
    "Нам необходимо построить модель, которая умеет её определять."
   ]
  },
  {
   "cell_type": "markdown",
   "id": "92ba4eb0-dc6a-4c83-bfe8-8ce2f707039f",
   "metadata": {},
   "source": [
    "### Описание данных"
   ]
  },
  {
   "cell_type": "markdown",
   "id": "1fb10aab-6d45-4818-9709-9fae54b03146",
   "metadata": {},
   "source": [
    "В нашем распоряжении имеются данные о технических характеристиках, комплектации и ценах других автомобилей."
   ]
  },
  {
   "cell_type": "markdown",
   "id": "98ebd712-9596-4d43-9301-525ddfb5e4fe",
   "metadata": {},
   "source": [
    "##### Признаки"
   ]
  },
  {
   "cell_type": "markdown",
   "id": "2c236cbd-3511-467a-95f3-f08dfccd14b2",
   "metadata": {},
   "source": [
    "* DateCrawled — дата скачивания анкеты из базы\n",
    "* VehicleType — тип автомобильного кузова\n",
    "* RegistrationYear — год регистрации автомобиля\n",
    "* Gearbox — тип коробки передач\n",
    "* Power — мощность (л. с.)\n",
    "* Model — модель автомобиля\n",
    "* Kilometer — пробег (км)\n",
    "* RegistrationMonth — месяц регистрации автомобиля\n",
    "* FuelType — тип топлива\n",
    "* Brand — марка автомобиля\n",
    "* Repaired — была машина в ремонте или нет\n",
    "* DateCreated — дата создания анкеты\n",
    "* NumberOfPictures — количество фотографий автомобиля\n",
    "* PostalCode — почтовый индекс владельца анкеты (пользователя)\n",
    "* LastSeen — дата последней активности пользователя"
   ]
  },
  {
   "cell_type": "markdown",
   "id": "43c7a6fa-627b-4a1d-a9ed-1fb1c8e5f7f3",
   "metadata": {},
   "source": [
    "##### Целевой признак"
   ]
  },
  {
   "cell_type": "markdown",
   "id": "64a49105-5799-47c8-a2f8-06e88aaa98a8",
   "metadata": {},
   "source": [
    "* Price — цена (евро)"
   ]
  },
  {
   "cell_type": "markdown",
   "id": "5e417daf-6680-4d16-b6a1-875747663623",
   "metadata": {},
   "source": [
    "## Загрузка библиотек"
   ]
  },
  {
   "cell_type": "code",
   "execution_count": 1,
   "id": "e4f1be9d-bd43-4ebc-8fde-7c9a1726bbce",
   "metadata": {},
   "outputs": [
    {
     "name": "stdout",
     "output_type": "stream",
     "text": [
      "\u001b[33mDEPRECATION: Loading egg at /usr/lib64/python3.11/site-packages/TBB-2021.12.0-py3.11-linux-x86_64.egg is deprecated. pip 24.3 will enforce this behaviour change. A possible replacement is to use pip for package installation. Discussion can be found at https://github.com/pypa/pip/issues/12330\u001b[0m\u001b[33m\n",
      "\u001b[0m\n",
      "\u001b[1m[\u001b[0m\u001b[34;49mnotice\u001b[0m\u001b[1;39;49m]\u001b[0m\u001b[39;49m A new release of pip is available: \u001b[0m\u001b[31;49m24.2\u001b[0m\u001b[39;49m -> \u001b[0m\u001b[32;49m24.3.1\u001b[0m\n",
      "\u001b[1m[\u001b[0m\u001b[34;49mnotice\u001b[0m\u001b[1;39;49m]\u001b[0m\u001b[39;49m To update, run: \u001b[0m\u001b[32;49mpip install --upgrade pip\u001b[0m\n",
      "\u001b[1;31merror\u001b[0m: \u001b[1mexternally-managed-environment\u001b[0m\n",
      "\n",
      "\u001b[31m×\u001b[0m This environment is externally managed\n",
      "\u001b[31m╰─>\u001b[0m To install Python packages system-wide, try\n",
      "\u001b[31m   \u001b[0m zypper install python311-xyz, where xyz is the package\n",
      "\u001b[31m   \u001b[0m you are trying to install.\n",
      "\u001b[31m   \u001b[0m \n",
      "\u001b[31m   \u001b[0m If you wish to install a non-rpm packaged Python package,\n",
      "\u001b[31m   \u001b[0m create a virtual environment using python3.11 -m venv path/to/venv.\n",
      "\u001b[31m   \u001b[0m Then use path/to/venv/bin/python and path/to/venv/bin/pip.\n",
      "\u001b[31m   \u001b[0m \n",
      "\u001b[31m   \u001b[0m If you wish to install a non-rpm packaged Python application,\n",
      "\u001b[31m   \u001b[0m it may be easiest to use `pipx install xyz`, which will manage a\n",
      "\u001b[31m   \u001b[0m virtual environment for you. Install pipx via `zypper install python311-pipx` .\n",
      "\n",
      "\u001b[1;35mnote\u001b[0m: If you believe this is a mistake, please contact your Python installation or OS distribution provider. You can override this, at the risk of breaking your Python installation or OS, by passing --break-system-packages.\n",
      "\u001b[1;36mhint\u001b[0m: See PEP 668 for the detailed specification.\n"
     ]
    }
   ],
   "source": [
    "!pip install lightgbm"
   ]
  },
  {
   "cell_type": "code",
   "execution_count": 2,
   "id": "f07e00c7-2f2f-42b1-a9f1-3fc55394e08c",
   "metadata": {},
   "outputs": [],
   "source": [
    "import matplotlib.pyplot as plt\n",
    "import numpy as np\n",
    "import pandas as pd\n",
    "import math\n",
    "\n",
    "from lightgbm import LGBMRegressor\n",
    "\n",
    "from sklearn.model_selection import GridSearchCV\n",
    "from sklearn.model_selection import train_test_split\n",
    "from sklearn.preprocessing import OneHotEncoder\n",
    "from sklearn.preprocessing import OrdinalEncoder\n",
    "from sklearn.preprocessing import StandardScaler\n",
    "from sklearn.linear_model import LinearRegression\n",
    "from sklearn.metrics import mean_absolute_error\n",
    "from sklearn.tree import DecisionTreeRegressor\n",
    "from sklearn.ensemble import RandomForestRegressor"
   ]
  },
  {
   "cell_type": "code",
   "execution_count": 3,
   "id": "fcd64036-e743-4501-9b58-a947d1bcee70",
   "metadata": {},
   "outputs": [],
   "source": [
    "# Примечание: в новой версии библиотеки sklearn вычисление RMSE будет производится иначе (не как указано в теории)\n",
    "# На всякий случай, добавил оба варианта."
   ]
  },
  {
   "cell_type": "code",
   "execution_count": 4,
   "id": "719ee260-e375-4123-a586-cd9c6fc25f52",
   "metadata": {},
   "outputs": [],
   "source": [
    "try:\n",
    "    from sklearn.metrics import mean_squared_error\n",
    "except:\n",
    "    from sklearn.metrics import root_mean_squared_error"
   ]
  },
  {
   "cell_type": "code",
   "execution_count": 1,
   "id": "b08fcf31-092e-40ba-abb5-b5f17527dd76",
   "metadata": {},
   "outputs": [],
   "source": [
    "RANDOM_STATE = 12345"
   ]
  },
  {
   "cell_type": "markdown",
   "id": "d9d15636-2f67-4593-bfeb-1139f1a04763",
   "metadata": {},
   "source": [
    "## Загрузка данных"
   ]
  },
  {
   "cell_type": "code",
   "execution_count": 6,
   "id": "57a94f02-2dad-4e36-b5ba-a9d84bda929e",
   "metadata": {},
   "outputs": [],
   "source": [
    "filename = 'autos.csv'"
   ]
  },
  {
   "cell_type": "code",
   "execution_count": 7,
   "id": "c601cbc1-5b11-4873-a027-fdd81ad8e43a",
   "metadata": {},
   "outputs": [],
   "source": [
    "try:\n",
    "    data = pd.read_csv('/datasets/' + filename)\n",
    "except:\n",
    "    data = pd.read_csv(filename)"
   ]
  },
  {
   "cell_type": "markdown",
   "id": "a7dcdbf1-d6a9-48a2-a559-c9db26de1e33",
   "metadata": {},
   "source": [
    "#### Осмотр данных"
   ]
  },
  {
   "cell_type": "code",
   "execution_count": 8,
   "id": "5c9f48af-7dea-4b80-9908-befe1e112b90",
   "metadata": {},
   "outputs": [
    {
     "name": "stdout",
     "output_type": "stream",
     "text": [
      "<class 'pandas.core.frame.DataFrame'>\n",
      "RangeIndex: 354369 entries, 0 to 354368\n",
      "Data columns (total 16 columns):\n",
      " #   Column             Non-Null Count   Dtype \n",
      "---  ------             --------------   ----- \n",
      " 0   DateCrawled        354369 non-null  object\n",
      " 1   Price              354369 non-null  int64 \n",
      " 2   VehicleType        316879 non-null  object\n",
      " 3   RegistrationYear   354369 non-null  int64 \n",
      " 4   Gearbox            334536 non-null  object\n",
      " 5   Power              354369 non-null  int64 \n",
      " 6   Model              334664 non-null  object\n",
      " 7   Kilometer          354369 non-null  int64 \n",
      " 8   RegistrationMonth  354369 non-null  int64 \n",
      " 9   FuelType           321474 non-null  object\n",
      " 10  Brand              354369 non-null  object\n",
      " 11  Repaired           283215 non-null  object\n",
      " 12  DateCreated        354369 non-null  object\n",
      " 13  NumberOfPictures   354369 non-null  int64 \n",
      " 14  PostalCode         354369 non-null  int64 \n",
      " 15  LastSeen           354369 non-null  object\n",
      "dtypes: int64(7), object(9)\n",
      "memory usage: 43.3+ MB\n"
     ]
    }
   ],
   "source": [
    "data.info()"
   ]
  },
  {
   "cell_type": "markdown",
   "id": "ef6ae467-29e2-4d5a-933d-752bb7fedcf0",
   "metadata": {},
   "source": [
    "Видим, что датасет далеко не полный: есть пропуски в нескольких столбцах.\n",
    "Кроме того, названия столбцов не соответствуют стандартному стилю."
   ]
  },
  {
   "cell_type": "markdown",
   "id": "ed32f793-96b3-436b-9411-8c17e99e38d1",
   "metadata": {},
   "source": [
    "Посмотрим на первые 5 строк датасета."
   ]
  },
  {
   "cell_type": "code",
   "execution_count": 9,
   "id": "c318bb68-289d-4cf2-b8b1-4ff09bc51211",
   "metadata": {},
   "outputs": [
    {
     "data": {
      "text/html": [
       "<div>\n",
       "<style scoped>\n",
       "    .dataframe tbody tr th:only-of-type {\n",
       "        vertical-align: middle;\n",
       "    }\n",
       "\n",
       "    .dataframe tbody tr th {\n",
       "        vertical-align: top;\n",
       "    }\n",
       "\n",
       "    .dataframe thead th {\n",
       "        text-align: right;\n",
       "    }\n",
       "</style>\n",
       "<table border=\"1\" class=\"dataframe\">\n",
       "  <thead>\n",
       "    <tr style=\"text-align: right;\">\n",
       "      <th></th>\n",
       "      <th>DateCrawled</th>\n",
       "      <th>Price</th>\n",
       "      <th>VehicleType</th>\n",
       "      <th>RegistrationYear</th>\n",
       "      <th>Gearbox</th>\n",
       "      <th>Power</th>\n",
       "      <th>Model</th>\n",
       "      <th>Kilometer</th>\n",
       "      <th>RegistrationMonth</th>\n",
       "      <th>FuelType</th>\n",
       "      <th>Brand</th>\n",
       "      <th>Repaired</th>\n",
       "      <th>DateCreated</th>\n",
       "      <th>NumberOfPictures</th>\n",
       "      <th>PostalCode</th>\n",
       "      <th>LastSeen</th>\n",
       "    </tr>\n",
       "  </thead>\n",
       "  <tbody>\n",
       "    <tr>\n",
       "      <th>0</th>\n",
       "      <td>2016-03-24 11:52:17</td>\n",
       "      <td>480</td>\n",
       "      <td>NaN</td>\n",
       "      <td>1993</td>\n",
       "      <td>manual</td>\n",
       "      <td>0</td>\n",
       "      <td>golf</td>\n",
       "      <td>150000</td>\n",
       "      <td>0</td>\n",
       "      <td>petrol</td>\n",
       "      <td>volkswagen</td>\n",
       "      <td>NaN</td>\n",
       "      <td>2016-03-24 00:00:00</td>\n",
       "      <td>0</td>\n",
       "      <td>70435</td>\n",
       "      <td>2016-04-07 03:16:57</td>\n",
       "    </tr>\n",
       "    <tr>\n",
       "      <th>1</th>\n",
       "      <td>2016-03-24 10:58:45</td>\n",
       "      <td>18300</td>\n",
       "      <td>coupe</td>\n",
       "      <td>2011</td>\n",
       "      <td>manual</td>\n",
       "      <td>190</td>\n",
       "      <td>NaN</td>\n",
       "      <td>125000</td>\n",
       "      <td>5</td>\n",
       "      <td>gasoline</td>\n",
       "      <td>audi</td>\n",
       "      <td>yes</td>\n",
       "      <td>2016-03-24 00:00:00</td>\n",
       "      <td>0</td>\n",
       "      <td>66954</td>\n",
       "      <td>2016-04-07 01:46:50</td>\n",
       "    </tr>\n",
       "    <tr>\n",
       "      <th>2</th>\n",
       "      <td>2016-03-14 12:52:21</td>\n",
       "      <td>9800</td>\n",
       "      <td>suv</td>\n",
       "      <td>2004</td>\n",
       "      <td>auto</td>\n",
       "      <td>163</td>\n",
       "      <td>grand</td>\n",
       "      <td>125000</td>\n",
       "      <td>8</td>\n",
       "      <td>gasoline</td>\n",
       "      <td>jeep</td>\n",
       "      <td>NaN</td>\n",
       "      <td>2016-03-14 00:00:00</td>\n",
       "      <td>0</td>\n",
       "      <td>90480</td>\n",
       "      <td>2016-04-05 12:47:46</td>\n",
       "    </tr>\n",
       "    <tr>\n",
       "      <th>3</th>\n",
       "      <td>2016-03-17 16:54:04</td>\n",
       "      <td>1500</td>\n",
       "      <td>small</td>\n",
       "      <td>2001</td>\n",
       "      <td>manual</td>\n",
       "      <td>75</td>\n",
       "      <td>golf</td>\n",
       "      <td>150000</td>\n",
       "      <td>6</td>\n",
       "      <td>petrol</td>\n",
       "      <td>volkswagen</td>\n",
       "      <td>no</td>\n",
       "      <td>2016-03-17 00:00:00</td>\n",
       "      <td>0</td>\n",
       "      <td>91074</td>\n",
       "      <td>2016-03-17 17:40:17</td>\n",
       "    </tr>\n",
       "    <tr>\n",
       "      <th>4</th>\n",
       "      <td>2016-03-31 17:25:20</td>\n",
       "      <td>3600</td>\n",
       "      <td>small</td>\n",
       "      <td>2008</td>\n",
       "      <td>manual</td>\n",
       "      <td>69</td>\n",
       "      <td>fabia</td>\n",
       "      <td>90000</td>\n",
       "      <td>7</td>\n",
       "      <td>gasoline</td>\n",
       "      <td>skoda</td>\n",
       "      <td>no</td>\n",
       "      <td>2016-03-31 00:00:00</td>\n",
       "      <td>0</td>\n",
       "      <td>60437</td>\n",
       "      <td>2016-04-06 10:17:21</td>\n",
       "    </tr>\n",
       "  </tbody>\n",
       "</table>\n",
       "</div>"
      ],
      "text/plain": [
       "           DateCrawled  Price VehicleType  RegistrationYear Gearbox  Power  \\\n",
       "0  2016-03-24 11:52:17    480         NaN              1993  manual      0   \n",
       "1  2016-03-24 10:58:45  18300       coupe              2011  manual    190   \n",
       "2  2016-03-14 12:52:21   9800         suv              2004    auto    163   \n",
       "3  2016-03-17 16:54:04   1500       small              2001  manual     75   \n",
       "4  2016-03-31 17:25:20   3600       small              2008  manual     69   \n",
       "\n",
       "   Model  Kilometer  RegistrationMonth  FuelType       Brand Repaired  \\\n",
       "0   golf     150000                  0    petrol  volkswagen      NaN   \n",
       "1    NaN     125000                  5  gasoline        audi      yes   \n",
       "2  grand     125000                  8  gasoline        jeep      NaN   \n",
       "3   golf     150000                  6    petrol  volkswagen       no   \n",
       "4  fabia      90000                  7  gasoline       skoda       no   \n",
       "\n",
       "           DateCreated  NumberOfPictures  PostalCode             LastSeen  \n",
       "0  2016-03-24 00:00:00                 0       70435  2016-04-07 03:16:57  \n",
       "1  2016-03-24 00:00:00                 0       66954  2016-04-07 01:46:50  \n",
       "2  2016-03-14 00:00:00                 0       90480  2016-04-05 12:47:46  \n",
       "3  2016-03-17 00:00:00                 0       91074  2016-03-17 17:40:17  \n",
       "4  2016-03-31 00:00:00                 0       60437  2016-04-06 10:17:21  "
      ]
     },
     "execution_count": 9,
     "metadata": {},
     "output_type": "execute_result"
    }
   ],
   "source": [
    "data.head()"
   ]
  },
  {
   "cell_type": "markdown",
   "id": "dae1a262-c368-4fa3-bb23-3f875af6dbc0",
   "metadata": {},
   "source": [
    "Датасет загрузился корректно.\n",
    "Данные в датасете соответствуют описанию."
   ]
  },
  {
   "cell_type": "markdown",
   "id": "c905b7f0-d8fa-4698-8d6a-b86a954f1146",
   "metadata": {},
   "source": [
    "#### Переименование столбцов"
   ]
  },
  {
   "cell_type": "markdown",
   "id": "78eedd13-0b02-4b14-8781-4a305bf93162",
   "metadata": {},
   "source": [
    "Приведем названия столбцов к стандартному стилю, в ряде случаев незначительно изменив их названия."
   ]
  },
  {
   "cell_type": "markdown",
   "id": "9360e6e2-1d3b-4f0c-ac73-54769c040504",
   "metadata": {},
   "source": [
    "Сначала введем символ «_», поставив его на место предполагаемого пропуска в CamelCase."
   ]
  },
  {
   "cell_type": "code",
   "execution_count": 10,
   "id": "9590c745-365c-4daa-8d73-0c169c7940a5",
   "metadata": {},
   "outputs": [],
   "source": [
    "data = data.rename(columns={\n",
    "    'DateCrawled': 'date_crawled',\n",
    "    'VehicleType': 'vehicle_type',\n",
    "    'RegistrationYear': 'reg_year',\n",
    "    'RegistrationMonth': 'reg_month',\n",
    "    'FuelType': 'fuel_type',\n",
    "    'DateCreated': 'date_created',\n",
    "    'NumberOfPictures': 'num_of_pics',\n",
    "    'PostalCode': 'postal_code',\n",
    "    'LastSeen': 'last_seen'\n",
    "})"
   ]
  },
  {
   "cell_type": "markdown",
   "id": "88dbba2a-146c-4331-9399-adb4409c8352",
   "metadata": {},
   "source": [
    "Затем приведем названия всех столбцов в нижний регистр."
   ]
  },
  {
   "cell_type": "code",
   "execution_count": 11,
   "id": "db94fc77-15f0-4548-a03e-c3c516a5aca2",
   "metadata": {},
   "outputs": [],
   "source": [
    "data.columns = map(str.lower, data.columns)"
   ]
  },
  {
   "cell_type": "markdown",
   "id": "6181649b-de6a-4c6c-85d6-51cb484c2bea",
   "metadata": {},
   "source": [
    "Готово.\n",
    "Названия столбцов соответствуют стандартному стилю."
   ]
  },
  {
   "cell_type": "markdown",
   "id": "d074f1ef-94f5-4569-b620-56964fb86a6d",
   "metadata": {},
   "source": [
    "## Предобработка данных"
   ]
  },
  {
   "cell_type": "markdown",
   "id": "b60f96c7-738e-4eb8-a176-ee5b529deb09",
   "metadata": {},
   "source": [
    "Посмотрим еще раз на датасет"
   ]
  },
  {
   "cell_type": "code",
   "execution_count": 12,
   "id": "0df4361b-c260-45e7-933d-746c4e73f5b9",
   "metadata": {},
   "outputs": [
    {
     "name": "stdout",
     "output_type": "stream",
     "text": [
      "<class 'pandas.core.frame.DataFrame'>\n",
      "RangeIndex: 354369 entries, 0 to 354368\n",
      "Data columns (total 16 columns):\n",
      " #   Column        Non-Null Count   Dtype \n",
      "---  ------        --------------   ----- \n",
      " 0   date_crawled  354369 non-null  object\n",
      " 1   price         354369 non-null  int64 \n",
      " 2   vehicle_type  316879 non-null  object\n",
      " 3   reg_year      354369 non-null  int64 \n",
      " 4   gearbox       334536 non-null  object\n",
      " 5   power         354369 non-null  int64 \n",
      " 6   model         334664 non-null  object\n",
      " 7   kilometer     354369 non-null  int64 \n",
      " 8   reg_month     354369 non-null  int64 \n",
      " 9   fuel_type     321474 non-null  object\n",
      " 10  brand         354369 non-null  object\n",
      " 11  repaired      283215 non-null  object\n",
      " 12  date_created  354369 non-null  object\n",
      " 13  num_of_pics   354369 non-null  int64 \n",
      " 14  postal_code   354369 non-null  int64 \n",
      " 15  last_seen     354369 non-null  object\n",
      "dtypes: int64(7), object(9)\n",
      "memory usage: 43.3+ MB\n"
     ]
    }
   ],
   "source": [
    "data.info()"
   ]
  },
  {
   "cell_type": "markdown",
   "id": "f07a25b7-f1da-4e6e-b7c1-b63a7aaa0297",
   "metadata": {},
   "source": [
    "Т.к. мы решаем задачу определения цены автомобиля, оставим в датасете признаки, имеющие отношение к состоянию самого автомобиля, а не к пользователю или анкете.\n",
    "Кроме того, бессмысленнен признак «reg_month», т.к. сам месяц регистрации ни о чем не говорит, т.к. в любом случае должен быть привязан к году."
   ]
  },
  {
   "cell_type": "code",
   "execution_count": 13,
   "id": "b8da30da-b688-4952-91b0-01c7f1240f81",
   "metadata": {},
   "outputs": [],
   "source": [
    "non_informative_features = ['date_crawled', 'reg_month', 'date_created', 'num_of_pics', 'postal_code', 'last_seen']"
   ]
  },
  {
   "cell_type": "code",
   "execution_count": 14,
   "id": "bd8407d0-548d-486c-b267-5bf58fb7abfa",
   "metadata": {},
   "outputs": [],
   "source": [
    "data = data.drop(non_informative_features, axis=1)"
   ]
  },
  {
   "cell_type": "code",
   "execution_count": 15,
   "id": "5c726c90-8111-4a69-bf55-e922f3c8b48f",
   "metadata": {},
   "outputs": [
    {
     "data": {
      "text/html": [
       "<div>\n",
       "<style scoped>\n",
       "    .dataframe tbody tr th:only-of-type {\n",
       "        vertical-align: middle;\n",
       "    }\n",
       "\n",
       "    .dataframe tbody tr th {\n",
       "        vertical-align: top;\n",
       "    }\n",
       "\n",
       "    .dataframe thead th {\n",
       "        text-align: right;\n",
       "    }\n",
       "</style>\n",
       "<table border=\"1\" class=\"dataframe\">\n",
       "  <thead>\n",
       "    <tr style=\"text-align: right;\">\n",
       "      <th></th>\n",
       "      <th>price</th>\n",
       "      <th>vehicle_type</th>\n",
       "      <th>reg_year</th>\n",
       "      <th>gearbox</th>\n",
       "      <th>power</th>\n",
       "      <th>model</th>\n",
       "      <th>kilometer</th>\n",
       "      <th>fuel_type</th>\n",
       "      <th>brand</th>\n",
       "      <th>repaired</th>\n",
       "    </tr>\n",
       "  </thead>\n",
       "  <tbody>\n",
       "    <tr>\n",
       "      <th>0</th>\n",
       "      <td>480</td>\n",
       "      <td>NaN</td>\n",
       "      <td>1993</td>\n",
       "      <td>manual</td>\n",
       "      <td>0</td>\n",
       "      <td>golf</td>\n",
       "      <td>150000</td>\n",
       "      <td>petrol</td>\n",
       "      <td>volkswagen</td>\n",
       "      <td>NaN</td>\n",
       "    </tr>\n",
       "    <tr>\n",
       "      <th>1</th>\n",
       "      <td>18300</td>\n",
       "      <td>coupe</td>\n",
       "      <td>2011</td>\n",
       "      <td>manual</td>\n",
       "      <td>190</td>\n",
       "      <td>NaN</td>\n",
       "      <td>125000</td>\n",
       "      <td>gasoline</td>\n",
       "      <td>audi</td>\n",
       "      <td>yes</td>\n",
       "    </tr>\n",
       "    <tr>\n",
       "      <th>2</th>\n",
       "      <td>9800</td>\n",
       "      <td>suv</td>\n",
       "      <td>2004</td>\n",
       "      <td>auto</td>\n",
       "      <td>163</td>\n",
       "      <td>grand</td>\n",
       "      <td>125000</td>\n",
       "      <td>gasoline</td>\n",
       "      <td>jeep</td>\n",
       "      <td>NaN</td>\n",
       "    </tr>\n",
       "    <tr>\n",
       "      <th>3</th>\n",
       "      <td>1500</td>\n",
       "      <td>small</td>\n",
       "      <td>2001</td>\n",
       "      <td>manual</td>\n",
       "      <td>75</td>\n",
       "      <td>golf</td>\n",
       "      <td>150000</td>\n",
       "      <td>petrol</td>\n",
       "      <td>volkswagen</td>\n",
       "      <td>no</td>\n",
       "    </tr>\n",
       "    <tr>\n",
       "      <th>4</th>\n",
       "      <td>3600</td>\n",
       "      <td>small</td>\n",
       "      <td>2008</td>\n",
       "      <td>manual</td>\n",
       "      <td>69</td>\n",
       "      <td>fabia</td>\n",
       "      <td>90000</td>\n",
       "      <td>gasoline</td>\n",
       "      <td>skoda</td>\n",
       "      <td>no</td>\n",
       "    </tr>\n",
       "  </tbody>\n",
       "</table>\n",
       "</div>"
      ],
      "text/plain": [
       "   price vehicle_type  reg_year gearbox  power  model  kilometer fuel_type  \\\n",
       "0    480          NaN      1993  manual      0   golf     150000    petrol   \n",
       "1  18300        coupe      2011  manual    190    NaN     125000  gasoline   \n",
       "2   9800          suv      2004    auto    163  grand     125000  gasoline   \n",
       "3   1500        small      2001  manual     75   golf     150000    petrol   \n",
       "4   3600        small      2008  manual     69  fabia      90000  gasoline   \n",
       "\n",
       "        brand repaired  \n",
       "0  volkswagen      NaN  \n",
       "1        audi      yes  \n",
       "2        jeep      NaN  \n",
       "3  volkswagen       no  \n",
       "4       skoda       no  "
      ]
     },
     "execution_count": 15,
     "metadata": {},
     "output_type": "execute_result"
    }
   ],
   "source": [
    "data.head()"
   ]
  },
  {
   "cell_type": "markdown",
   "id": "ceaefa61-e880-4245-a5bf-6a6402c28118",
   "metadata": {},
   "source": [
    "Посмотрим на уникальные значения признака vehicle_type («тип автомобильного кузова»)."
   ]
  },
  {
   "cell_type": "code",
   "execution_count": 16,
   "id": "0b4263b9-4268-478f-bbe5-38fea57d016c",
   "metadata": {},
   "outputs": [
    {
     "data": {
      "text/plain": [
       "array([nan, 'coupe', 'suv', 'small', 'sedan', 'convertible', 'bus',\n",
       "       'wagon', 'other'], dtype=object)"
      ]
     },
     "execution_count": 16,
     "metadata": {},
     "output_type": "execute_result"
    }
   ],
   "source": [
    "data['vehicle_type'].unique()"
   ]
  },
  {
   "cell_type": "markdown",
   "id": "e945ec01-589c-48a2-8fe5-4c051fce92f8",
   "metadata": {},
   "source": [
    "Скрытых дубликатов нет."
   ]
  },
  {
   "cell_type": "markdown",
   "id": "c4a266e6-ca11-4970-87ca-ea1df146f6c7",
   "metadata": {},
   "source": [
    "Посмотрим на уникальные значения признака reg_year («год регистрации автомобиля»)."
   ]
  },
  {
   "cell_type": "code",
   "execution_count": 17,
   "id": "21615454-32d2-4894-ad63-c6c3aaff7466",
   "metadata": {},
   "outputs": [
    {
     "data": {
      "text/plain": [
       "array([1000, 1001, 1039, 1111, 1200, 1234, 1253, 1255, 1300, 1400, 1500,\n",
       "       1600, 1602, 1688, 1800, 1910, 1915, 1919, 1920, 1923, 1925, 1927,\n",
       "       1928, 1929, 1930, 1931, 1932, 1933, 1934, 1935, 1936, 1937, 1938,\n",
       "       1940, 1941, 1942, 1943, 1944, 1945, 1946, 1947, 1948, 1949, 1950,\n",
       "       1951, 1952, 1953, 1954, 1955, 1956, 1957, 1958, 1959, 1960, 1961,\n",
       "       1962, 1963, 1964, 1965, 1966, 1967, 1968, 1969, 1970, 1971, 1972,\n",
       "       1973, 1974, 1975, 1976, 1977, 1978, 1979, 1980, 1981, 1982, 1983,\n",
       "       1984, 1985, 1986, 1987, 1988, 1989, 1990, 1991, 1992, 1993, 1994,\n",
       "       1995, 1996, 1997, 1998, 1999, 2000, 2001, 2002, 2003, 2004, 2005,\n",
       "       2006, 2007, 2008, 2009, 2010, 2011, 2012, 2013, 2014, 2015, 2016,\n",
       "       2017, 2018, 2019, 2066, 2200, 2222, 2290, 2500, 2800, 2900, 3000,\n",
       "       3200, 3500, 3700, 3800, 4000, 4100, 4500, 4800, 5000, 5300, 5555,\n",
       "       5600, 5900, 5911, 6000, 6500, 7000, 7100, 7500, 7800, 8000, 8200,\n",
       "       8455, 8500, 8888, 9000, 9229, 9450, 9996, 9999])"
      ]
     },
     "execution_count": 17,
     "metadata": {},
     "output_type": "execute_result"
    }
   ],
   "source": [
    "data['reg_year'].sort_values().unique()"
   ]
  },
  {
   "cell_type": "markdown",
   "id": "6c8a71b1-18e0-4841-9e02-a6853935abeb",
   "metadata": {},
   "source": [
    "Видим, очевидно, аномальные значения года регистрации автомобиля.\n",
    "Оценим их количество, взяв в качестве нижней границы 1970й год."
   ]
  },
  {
   "cell_type": "code",
   "execution_count": 18,
   "id": "7a52751f-f17c-41ea-af61-fa7ed3d60b1e",
   "metadata": {},
   "outputs": [
    {
     "name": "stdout",
     "output_type": "stream",
     "text": [
      "Доля автомобилей с аномальным годом регистрации:  0.41 %\n"
     ]
    }
   ],
   "source": [
    "print('Доля автомобилей с аномальным годом регистрации: ', \n",
    "      round(len(data[(data['reg_year'] < 1970) | (data['reg_year'] > 2019)]) / len(data) * 100, 2), '%')"
   ]
  },
  {
   "cell_type": "markdown",
   "id": "b8a50662-d355-4936-82d0-2e93b334a5e9",
   "metadata": {},
   "source": [
    "Процент очень мал, поэтому просто удалим их."
   ]
  },
  {
   "cell_type": "code",
   "execution_count": 19,
   "id": "4a87b759-b20b-41c8-8107-17ed01b6519b",
   "metadata": {},
   "outputs": [],
   "source": [
    "data = data[(data['reg_year'] > 1970) & (data['reg_year'] <= 2019)]"
   ]
  },
  {
   "cell_type": "markdown",
   "id": "4c56051a-b5d0-49e5-b4b1-886a23015244",
   "metadata": {},
   "source": [
    "Посмотрим на уникальные значения признака gearbox («тип коробки передач»)"
   ]
  },
  {
   "cell_type": "code",
   "execution_count": 20,
   "id": "aaa832b4-aa29-4ac9-ad1c-877cfc36b819",
   "metadata": {},
   "outputs": [
    {
     "data": {
      "text/plain": [
       "array(['manual', 'auto', nan], dtype=object)"
      ]
     },
     "execution_count": 20,
     "metadata": {},
     "output_type": "execute_result"
    }
   ],
   "source": [
    "data['gearbox'].unique()"
   ]
  },
  {
   "cell_type": "markdown",
   "id": "621d1f52-6a70-4ba3-bd63-42b9ec69cd92",
   "metadata": {},
   "source": [
    "Скрытых повторов нет."
   ]
  },
  {
   "cell_type": "markdown",
   "id": "a8dcb61d-32cd-4c01-826a-2f3d164b5186",
   "metadata": {},
   "source": [
    "Посмотрим на признак power («мощность»)"
   ]
  },
  {
   "cell_type": "code",
   "execution_count": 21,
   "id": "39cd483e-e094-45e6-9217-3effdc591c2e",
   "metadata": {},
   "outputs": [
    {
     "data": {
      "text/plain": [
       "count    352593.000000\n",
       "mean        110.279733\n",
       "std         187.916640\n",
       "min           0.000000\n",
       "25%          69.000000\n",
       "50%         105.000000\n",
       "75%         143.000000\n",
       "max       20000.000000\n",
       "Name: power, dtype: float64"
      ]
     },
     "execution_count": 21,
     "metadata": {},
     "output_type": "execute_result"
    }
   ],
   "source": [
    "data['power'].describe()"
   ]
  },
  {
   "cell_type": "markdown",
   "id": "32498fd8-9c8e-4f12-803c-cbcb666a9b3f",
   "metadata": {},
   "source": [
    "Выберем в качестве верхней границы значение в 500 л.с., что соответствует очень мощному спорткару и оценим число автомобилей в датасете с\n",
    "двигателем мощностью выше этого значения."
   ]
  },
  {
   "cell_type": "code",
   "execution_count": 22,
   "id": "a630abff-cb4c-4386-9ba1-f0eca7dac3ba",
   "metadata": {},
   "outputs": [
    {
     "name": "stdout",
     "output_type": "stream",
     "text": [
      "Доля автомобилей с аномально мощным двигателем:  0.13 %\n"
     ]
    }
   ],
   "source": [
    "print('Доля автомобилей с аномально мощным двигателем: ', \n",
    "      round(len(data[data['power'] > 500]) / len(data) * 100, 2), '%')"
   ]
  },
  {
   "cell_type": "markdown",
   "id": "9293c0b1-3f0e-463a-aa70-ad76e2de40d2",
   "metadata": {},
   "source": [
    "Удалим эти записи из датасета"
   ]
  },
  {
   "cell_type": "code",
   "execution_count": 23,
   "id": "73369b06-df4e-41bc-8d9d-a6b45182a074",
   "metadata": {},
   "outputs": [],
   "source": [
    "data = data[data['power'] < 500]"
   ]
  },
  {
   "cell_type": "markdown",
   "id": "5c0beaec-a16f-44bf-87fe-ae28c3dd8347",
   "metadata": {},
   "source": [
    "C автомобилями с двигателями якобы нулевой мощности решим вопрос позднее, на этапе заполнения пропусков."
   ]
  },
  {
   "cell_type": "markdown",
   "id": "8c47549a-0dac-4d16-9f24-2aba079ab466",
   "metadata": {},
   "source": [
    "Модели удобно просматривать применительно к марке автомобиля:"
   ]
  },
  {
   "cell_type": "code",
   "execution_count": 24,
   "id": "1392e168-8a33-4165-8158-5659d86c6fcf",
   "metadata": {
    "scrolled": true
   },
   "outputs": [
    {
     "name": "stdout",
     "output_type": "stream",
     "text": [
      "Марка автомобиля: volkswagen : ['golf' 'other' 'passat' 'polo' 'scirocco' 'transporter' 'jetta' nan 'eos'\n",
      " 'touran' 'lupo' 'caddy' 'tiguan' 'sharan' 'up' 'fox' 'beetle' 'touareg'\n",
      " 'kaefer' 'phaeton' 'cc' 'bora' 'amarok']\n",
      "Марка автомобиля: audi : [nan 'a8' 'a4' 'a1' 'tt' 'a6' '80' '100' 'a3' 'a2' 'a5' 'other' '90' 'q7'\n",
      " 'q3' '200' 'q5']\n",
      "Марка автомобиля: jeep : ['grand' 'wrangler' 'cherokee' 'other' nan]\n",
      "Марка автомобиля: skoda : ['fabia' 'yeti' 'octavia' 'roomster' 'other' nan 'superb' 'citigo']\n",
      "Марка автомобиля: bmw : ['3er' '5er' '1er' '7er' 'z_reihe' nan '6er' 'other' 'x_reihe' 'm_reihe'\n",
      " 'i3']\n",
      "Марка автомобиля: peugeot : ['2_reihe' '3_reihe' nan 'other' '4_reihe' '1_reihe' '5_reihe']\n",
      "Марка автомобиля: ford : ['c_max' 'fiesta' 'escort' 'ka' 'focus' 'mustang' 'mondeo' 's_max'\n",
      " 'galaxy' 'other' 'transit' nan 'fusion' 'kuga' 'b_max']\n",
      "Марка автомобиля: mazda : ['3_reihe' 'other' '6_reihe' '5_reihe' 'rx_reihe' '1_reihe' 'mx_reihe' nan\n",
      " 'cx_reihe']\n",
      "Марка автомобиля: nissan : ['navara' 'micra' 'almera' 'other' 'primera' 'juke' 'qashqai' nan\n",
      " 'x_trail' 'note']\n",
      "Марка автомобиля: renault : ['twingo' 'clio' 'kangoo' 'scenic' nan 'megane' 'r19' 'espace' 'modus'\n",
      " 'other' 'laguna']\n",
      "Марка автомобиля: mercedes_benz : ['a_klasse' 'other' 'e_klasse' 'b_klasse' 'c_klasse' 'vito' 'sprinter'\n",
      " 'slk' 'viano' 's_klasse' 'sl' 'clk' nan 'v_klasse' 'm_klasse' 'cl'\n",
      " 'g_klasse' 'glk' 'gl']\n",
      "Марка автомобиля: opel : ['meriva' 'kadett' 'corsa' 'signum' 'astra' 'other' 'insignia' 'combo'\n",
      " 'omega' 'zafira' 'vectra' 'agila' nan 'tigra' 'calibra' 'antara' 'vivaro']\n",
      "Марка автомобиля: seat : ['arosa' 'other' 'ibiza' 'cordoba' 'mii' 'leon' 'exeo' 'alhambra' nan\n",
      " 'toledo' 'altea']\n",
      "Марка автомобиля: citroen : ['c4' 'berlingo' 'c1' 'other' 'c3' 'c5' nan 'c2']\n",
      "Марка автомобиля: honda : ['civic' 'other' 'jazz' 'accord' 'cr_reihe' nan]\n",
      "Марка автомобиля: fiat : ['punto' nan 'other' 'panda' 'seicento' '500' 'stilo' 'ducato' 'bravo'\n",
      " 'croma' 'doblo']\n",
      "Марка автомобиля: mini : ['one' 'cooper' 'other' 'clubman' nan]\n",
      "Марка автомобиля: smart : ['fortwo' nan 'other' 'roadster' 'forfour']\n",
      "Марка автомобиля: hyundai : ['other' 'getz' 'i_reihe' 'santa' nan 'tucson']\n",
      "Марка автомобиля: sonstige_autos : [nan]\n",
      "Марка автомобиля: alfa_romeo : ['156' '147' nan 'spider' '159' 'other' '145']\n",
      "Марка автомобиля: subaru : ['forester' 'impreza' 'justy' 'legacy' 'other' nan]\n",
      "Марка автомобиля: volvo : ['xc_reihe' 'v40' nan 'v50' 'other' 'c_reihe' 'v70' 's60' '850' 'v60']\n",
      "Марка автомобиля: mitsubishi : ['other' 'colt' nan 'carisma' 'galant' 'lancer' 'pajero' 'outlander']\n",
      "Марка автомобиля: kia : ['sportage' 'sorento' 'ceed' 'rio' 'other' 'picanto' nan 'carnival']\n",
      "Марка автомобиля: suzuki : ['other' 'grand' 'swift' nan 'jimny']\n",
      "Марка автомобиля: lancia : ['other' 'ypsilon' 'lybra' nan 'musa' 'delta' 'elefantino' 'kappa']\n",
      "Марка автомобиля: toyota : ['other' 'avensis' nan 'corolla' 'verso' 'rav' 'yaris' 'aygo' 'auris']\n",
      "Марка автомобиля: chevrolet : ['other' 'matiz' nan 'spark' 'captiva' 'aveo']\n",
      "Марка автомобиля: dacia : ['logan' 'duster' 'sandero' 'lodgy' nan 'other']\n",
      "Марка автомобиля: daihatsu : ['cuore' 'sirion' 'other' 'charade' 'move' nan 'terios' 'materia']\n",
      "Марка автомобиля: trabant : [nan 'other' '601']\n",
      "Марка автомобиля: saab : [nan 'other' '900' '9000']\n",
      "Марка автомобиля: chrysler : ['other' 'ptcruiser' 'crossfire' '300c' 'grand' 'voyager' nan]\n",
      "Марка автомобиля: jaguar : ['other' 'x_type' 's_type' nan]\n",
      "Марка автомобиля: daewoo : ['lanos' 'kalos' 'matiz' 'other' 'nubira' nan]\n",
      "Марка автомобиля: porsche : ['other' 'boxster' 'cayenne' '911' nan]\n",
      "Марка автомобиля: rover : ['other' 'discovery' nan 'rangerover' 'freelander' 'defender']\n",
      "Марка автомобиля: land_rover : ['discovery' 'freelander' 'defender' nan 'range_rover' 'serie_2'\n",
      " 'range_rover_sport' 'other' 'range_rover_evoque' 'serie_3' 'serie_1']\n",
      "Марка автомобиля: lada : ['other' 'samara' 'niva' nan 'kalina']\n"
     ]
    }
   ],
   "source": [
    "for b in data['brand'].unique():\n",
    "    print(\"Марка автомобиля:\", b, \":\", data[data['brand'] == b]['model'].unique())"
   ]
  },
  {
   "cell_type": "markdown",
   "id": "5be9e4ed-47da-431b-a560-7b60d5f8c18b",
   "metadata": {},
   "source": [
    "Видим, что есть 2 похожие марки автомобиля: rover и land rover.\n",
    "Хотя автомобили марки rover существуют, у них совсем иной модельный ряд; тут же мы видим, что модельный ряд rover является\n",
    "подмножеством модельного ряда land rover.\n",
    "Значит, это на самом деле land rover.\n",
    "Объединим их, переименовав марку автомобиля rover в land_rover, а также модель rangerover в range_rover (как у land_rover)."
   ]
  },
  {
   "cell_type": "code",
   "execution_count": 25,
   "id": "2ad5a2f6-7214-48ea-ac5a-0d1390c002f8",
   "metadata": {},
   "outputs": [],
   "source": [
    "data.loc[data['brand'] == 'rover', 'brand'] = 'land_rover'"
   ]
  },
  {
   "cell_type": "code",
   "execution_count": 26,
   "id": "d8aefc92-5f41-4d39-a67e-a8c78b242416",
   "metadata": {},
   "outputs": [],
   "source": [
    "data.loc[data['model'] == 'rangerover', 'model'] = 'range_rover'"
   ]
  },
  {
   "cell_type": "markdown",
   "id": "3b5ebddd-e8f5-4a0e-a00e-bb953797218d",
   "metadata": {},
   "source": [
    "Заметим также, что скрытых повторов в названиях марок автомобилей нет, однако есть марка «sonstige_autos». что в переводе с немецкого\n",
    "означает «другие автомобили», при этом наименования моделей у этих автомобилей нет.\n",
    "Восстановить марку не получится, т.е. это фактически неизвестный автомобиль.\n",
    "Оценим их количество."
   ]
  },
  {
   "cell_type": "code",
   "execution_count": 27,
   "id": "cdad5c42-1c4d-43e2-adc6-01f1846c6e98",
   "metadata": {},
   "outputs": [
    {
     "name": "stdout",
     "output_type": "stream",
     "text": [
      "Доля неизвестных автомобилей:  0.83 %\n"
     ]
    }
   ],
   "source": [
    "print('Доля неизвестных автомобилей: ', \n",
    "      round(len(data[data['brand'] == 'sonstige_autos']) / len(data) * 100, 2), '%')"
   ]
  },
  {
   "cell_type": "markdown",
   "id": "36852407-8feb-4d50-ba07-500a837481f9",
   "metadata": {},
   "source": [
    "Меньше процента — удалим их."
   ]
  },
  {
   "cell_type": "code",
   "execution_count": 28,
   "id": "bd9ab869-bca8-4795-828c-93b81192119b",
   "metadata": {},
   "outputs": [],
   "source": [
    "data = data[data['brand'] != 'sonstige_autos']"
   ]
  },
  {
   "cell_type": "markdown",
   "id": "7ec9e021-3b8d-44f2-bf75-4ed3ff6fa5e0",
   "metadata": {},
   "source": [
    "Оценим пробег."
   ]
  },
  {
   "cell_type": "code",
   "execution_count": 29,
   "id": "2a434124-31e0-47e7-9970-5370406ace33",
   "metadata": {},
   "outputs": [
    {
     "data": {
      "text/plain": [
       "count    349196.000000\n",
       "mean     128799.628289\n",
       "std       37204.572925\n",
       "min        5000.000000\n",
       "25%      125000.000000\n",
       "50%      150000.000000\n",
       "75%      150000.000000\n",
       "max      150000.000000\n",
       "Name: kilometer, dtype: float64"
      ]
     },
     "execution_count": 29,
     "metadata": {},
     "output_type": "execute_result"
    }
   ],
   "source": [
    "data['kilometer'].describe()"
   ]
  },
  {
   "cell_type": "markdown",
   "id": "9758e1aa-adf4-4957-b766-bd6f28a620ba",
   "metadata": {},
   "source": [
    "Аномальных значений нет."
   ]
  },
  {
   "cell_type": "markdown",
   "id": "5bb396c8-ec37-4390-ae68-59f32f570a37",
   "metadata": {},
   "source": [
    "Посмотрим на тип используемого топлива"
   ]
  },
  {
   "cell_type": "code",
   "execution_count": 30,
   "id": "52cfa129-6132-44e2-bdac-99ac481b3d93",
   "metadata": {},
   "outputs": [
    {
     "data": {
      "text/plain": [
       "array(['petrol', 'gasoline', nan, 'lpg', 'other', 'hybrid', 'cng',\n",
       "       'electric'], dtype=object)"
      ]
     },
     "execution_count": 30,
     "metadata": {},
     "output_type": "execute_result"
    }
   ],
   "source": [
    "data['fuel_type'].unique()"
   ]
  },
  {
   "cell_type": "markdown",
   "id": "6d043e75-9292-474d-8400-542ce3caf44d",
   "metadata": {},
   "source": [
    "Видим скрытый повтор: gasoline и petrol суть разные названия бензина.\n",
    "Переименуем gasoline в petrol."
   ]
  },
  {
   "cell_type": "code",
   "execution_count": 31,
   "id": "c091a28f-f199-4a56-bec8-6e042e14a56d",
   "metadata": {},
   "outputs": [],
   "source": [
    "data.loc[data['fuel_type'] == 'gasoline', 'fuel_type'] = 'petrol'"
   ]
  },
  {
   "cell_type": "markdown",
   "id": "2b40125a-03bd-4422-bc5b-add7b941453b",
   "metadata": {},
   "source": [
    "Посмотрим признак, отражающий факт нахождения машины в ремонте"
   ]
  },
  {
   "cell_type": "code",
   "execution_count": 32,
   "id": "a89c1071-b944-4b97-aedf-5e7f628291f0",
   "metadata": {},
   "outputs": [
    {
     "data": {
      "text/plain": [
       "array([nan, 'yes', 'no'], dtype=object)"
      ]
     },
     "execution_count": 32,
     "metadata": {},
     "output_type": "execute_result"
    }
   ],
   "source": [
    "data['repaired'].unique()"
   ]
  },
  {
   "cell_type": "markdown",
   "id": "03241b3f-2154-4d4a-90fd-88d0e7b006cb",
   "metadata": {},
   "source": [
    "Повторов нет."
   ]
  },
  {
   "cell_type": "markdown",
   "id": "0af083b8-6844-4139-9073-e5f95cccd1fb",
   "metadata": {},
   "source": [
    "##### Заполнение пропусков"
   ]
  },
  {
   "cell_type": "markdown",
   "id": "35b9d588-3b7d-40ae-97af-04aebaf1f621",
   "metadata": {},
   "source": [
    "Заполним пропуски."
   ]
  },
  {
   "cell_type": "markdown",
   "id": "77a49647-6c90-4112-a70b-54079c4479b4",
   "metadata": {},
   "source": [
    "Посмотрим на описательную статистику признака price («цена»)"
   ]
  },
  {
   "cell_type": "code",
   "execution_count": 33,
   "id": "ece99b4b-d2e3-4fc2-9739-f82b89e7de80",
   "metadata": {},
   "outputs": [
    {
     "data": {
      "text/plain": [
       "count    349196.000000\n",
       "mean       4403.699710\n",
       "std        4493.706561\n",
       "min           0.000000\n",
       "25%        1099.000000\n",
       "50%        2700.000000\n",
       "75%        6350.000000\n",
       "max       20000.000000\n",
       "Name: price, dtype: float64"
      ]
     },
     "execution_count": 33,
     "metadata": {},
     "output_type": "execute_result"
    }
   ],
   "source": [
    "data['price'].describe()"
   ]
  },
  {
   "cell_type": "markdown",
   "id": "1af9e21e-0322-4269-baff-cca43dfbf21d",
   "metadata": {},
   "source": [
    "Мы видим аномалию в виде автомобиля нулевой стоимости, что эквивалентно бесплатному автомобилю."
   ]
  },
  {
   "cell_type": "markdown",
   "id": "4eb54111-4634-410b-af35-ee37e40a70f6",
   "metadata": {},
   "source": [
    "Возьмем в качестве нижней границы цену в 50 евро — такие объявления можно встретить и установим ее для всех автомобилей стоимостью\n",
    "ниже 50 евро."
   ]
  },
  {
   "cell_type": "code",
   "execution_count": 34,
   "id": "02505a26-518e-4051-88fe-d8e65ed0ad42",
   "metadata": {},
   "outputs": [],
   "source": [
    "data.loc[data['price'] < 50, 'price'] = 50"
   ]
  },
  {
   "cell_type": "markdown",
   "id": "a83105b9-715c-400c-b786-1c73ac5ff8aa",
   "metadata": {},
   "source": [
    "У нас в датасете есть 3 взаимосвязанных признака: марка автомобиля, модель и тип кузова.\n",
    "Отметим при этом, что в признаке «марка автомобиля» пропусков нет."
   ]
  },
  {
   "cell_type": "markdown",
   "id": "026fe783-4725-46ad-9261-c7b2f28b0f72",
   "metadata": {},
   "source": [
    "Сначала оценим количество автомобилей в датасете с отсутствующими моделью и типом кузова, т.к. по одной марке мы не восстановим эти\n",
    "показатели."
   ]
  },
  {
   "cell_type": "code",
   "execution_count": 35,
   "id": "b927353c-ab42-49b3-a71c-d5cc0cd42d28",
   "metadata": {},
   "outputs": [
    {
     "name": "stdout",
     "output_type": "stream",
     "text": [
      "Доля автомобилей с отсутствующими моделью и типом кузова:  1.62 %\n"
     ]
    }
   ],
   "source": [
    "print('Доля автомобилей с отсутствующими моделью и типом кузова: ', \n",
    "      round(len(data[data['vehicle_type'].isna() & data['model'].isna()]) / len(data) * 100, 2), '%')"
   ]
  },
  {
   "cell_type": "markdown",
   "id": "21fa29f9-c122-42d9-b8f4-aa442b7141e0",
   "metadata": {},
   "source": [
    "Менее 2 процентов. Удалим их из датасета."
   ]
  },
  {
   "cell_type": "code",
   "execution_count": 36,
   "id": "96476d83-6030-44f3-974a-bf5be833fa98",
   "metadata": {},
   "outputs": [],
   "source": [
    "data = data[data['vehicle_type'].notna() | data['model'].notna()]"
   ]
  },
  {
   "cell_type": "markdown",
   "id": "a2fc9ea3-3827-4ff5-bab4-201b28f4b9a6",
   "metadata": {},
   "source": [
    "Заполним пропуски в vehicle_type и model следующим образом:\n",
    "* Пропуск в vehicle_type заполним самым популярным типом кузова для данного производителя и модели\n",
    "* Пропуск в model заполним самым популярной моделью для данного производителя и типа кузова"
   ]
  },
  {
   "cell_type": "code",
   "execution_count": 37,
   "id": "3e1795f1-bc37-4882-a633-8905ae2d4a59",
   "metadata": {},
   "outputs": [],
   "source": [
    "vehicle_dict = {}\n",
    "no_vehicle_list = []\n",
    "def func(row):\n",
    "    try:\n",
    "        row['vehicle_type'] = vehicle_dict[row['brand'] + row['model']]\n",
    "    except:\n",
    "        try:\n",
    "            row['vehicle_type'] = data[(data['brand'] == row['brand']) & (data['model'] == row['model'])]['vehicle_type'].value_counts().index[0]\n",
    "            vehicle_dict[row['brand'] + row['model']] = row['vehicle_type']\n",
    "        except:\n",
    "            no_vehicle_list.append(row['brand'] + ' ' + row['model'])\n",
    "    \n",
    "    return row\n",
    "\n",
    "t_data_veh = data[data['vehicle_type'].isna()].apply(func, axis=1)"
   ]
  },
  {
   "cell_type": "code",
   "execution_count": 38,
   "id": "0926dfff-ffda-4b35-8fcf-15045eeb0642",
   "metadata": {},
   "outputs": [],
   "source": [
    "model_dict = {}\n",
    "no_model_list = []\n",
    "def func(row):\n",
    "    try:\n",
    "        row['model'] = model_dict[row['brand'] + row['vehicle_type']]\n",
    "    except:\n",
    "        try:\n",
    "            row['model'] = data[(data['brand'] == row['brand']) & (data['vehicle_type'] == row['vehicle_type'])]['model'].value_counts().index[0]\n",
    "            model_dict[row['brand'] + row['vehicle_type']] = row['model']\n",
    "        except:\n",
    "            no_model_list.append(row['brand'] + ' ' + row['vehicle_type'])\n",
    "    \n",
    "    return row\n",
    "\n",
    "t_data_mod = data[data['model'].isna()].apply(func, axis=1)"
   ]
  },
  {
   "cell_type": "markdown",
   "id": "b84f082f-bd54-456a-9272-9eec74c12c0d",
   "metadata": {},
   "source": [
    "Проверим, есть ли типы кузова или модели, для которых отсутствует статистика в заполненной части датасета:"
   ]
  },
  {
   "cell_type": "code",
   "execution_count": 39,
   "id": "d4637e4f-efe7-45c8-8f55-03f4c2fe463c",
   "metadata": {},
   "outputs": [
    {
     "data": {
      "text/plain": [
       "[]"
      ]
     },
     "execution_count": 39,
     "metadata": {},
     "output_type": "execute_result"
    }
   ],
   "source": [
    "no_vehicle_list"
   ]
  },
  {
   "cell_type": "code",
   "execution_count": 40,
   "id": "7fc04d55-b671-44b3-ba21-1e946137394d",
   "metadata": {},
   "outputs": [
    {
     "data": {
      "text/plain": [
       "['lada bus', 'smart bus']"
      ]
     },
     "execution_count": 40,
     "metadata": {},
     "output_type": "execute_result"
    }
   ],
   "source": [
    "no_model_list"
   ]
  },
  {
   "cell_type": "markdown",
   "id": "606845b4-15ae-4f87-a020-51071f23b662",
   "metadata": {},
   "source": [
    "Посмотрим эти записи"
   ]
  },
  {
   "cell_type": "code",
   "execution_count": 41,
   "id": "77cc1434-d85f-4d62-aafa-e3fc93acf0b7",
   "metadata": {},
   "outputs": [
    {
     "data": {
      "text/html": [
       "<div>\n",
       "<style scoped>\n",
       "    .dataframe tbody tr th:only-of-type {\n",
       "        vertical-align: middle;\n",
       "    }\n",
       "\n",
       "    .dataframe tbody tr th {\n",
       "        vertical-align: top;\n",
       "    }\n",
       "\n",
       "    .dataframe thead th {\n",
       "        text-align: right;\n",
       "    }\n",
       "</style>\n",
       "<table border=\"1\" class=\"dataframe\">\n",
       "  <thead>\n",
       "    <tr style=\"text-align: right;\">\n",
       "      <th></th>\n",
       "      <th>price</th>\n",
       "      <th>vehicle_type</th>\n",
       "      <th>reg_year</th>\n",
       "      <th>gearbox</th>\n",
       "      <th>power</th>\n",
       "      <th>model</th>\n",
       "      <th>kilometer</th>\n",
       "      <th>fuel_type</th>\n",
       "      <th>brand</th>\n",
       "      <th>repaired</th>\n",
       "    </tr>\n",
       "  </thead>\n",
       "  <tbody>\n",
       "    <tr>\n",
       "      <th>18286</th>\n",
       "      <td>3500</td>\n",
       "      <td>bus</td>\n",
       "      <td>2007</td>\n",
       "      <td>NaN</td>\n",
       "      <td>0</td>\n",
       "      <td>NaN</td>\n",
       "      <td>150000</td>\n",
       "      <td>NaN</td>\n",
       "      <td>lada</td>\n",
       "      <td>NaN</td>\n",
       "    </tr>\n",
       "  </tbody>\n",
       "</table>\n",
       "</div>"
      ],
      "text/plain": [
       "       price vehicle_type  reg_year gearbox  power model  kilometer fuel_type  \\\n",
       "18286   3500          bus      2007     NaN      0   NaN     150000       NaN   \n",
       "\n",
       "      brand repaired  \n",
       "18286  lada      NaN  "
      ]
     },
     "execution_count": 41,
     "metadata": {},
     "output_type": "execute_result"
    }
   ],
   "source": [
    "data[(data['brand'] == 'lada') & (data['vehicle_type'] == 'bus')]"
   ]
  },
  {
   "cell_type": "code",
   "execution_count": 42,
   "id": "37dd7be4-ca34-4129-9072-d21c092b195d",
   "metadata": {},
   "outputs": [
    {
     "data": {
      "text/html": [
       "<div>\n",
       "<style scoped>\n",
       "    .dataframe tbody tr th:only-of-type {\n",
       "        vertical-align: middle;\n",
       "    }\n",
       "\n",
       "    .dataframe tbody tr th {\n",
       "        vertical-align: top;\n",
       "    }\n",
       "\n",
       "    .dataframe thead th {\n",
       "        text-align: right;\n",
       "    }\n",
       "</style>\n",
       "<table border=\"1\" class=\"dataframe\">\n",
       "  <thead>\n",
       "    <tr style=\"text-align: right;\">\n",
       "      <th></th>\n",
       "      <th>price</th>\n",
       "      <th>vehicle_type</th>\n",
       "      <th>reg_year</th>\n",
       "      <th>gearbox</th>\n",
       "      <th>power</th>\n",
       "      <th>model</th>\n",
       "      <th>kilometer</th>\n",
       "      <th>fuel_type</th>\n",
       "      <th>brand</th>\n",
       "      <th>repaired</th>\n",
       "    </tr>\n",
       "  </thead>\n",
       "  <tbody>\n",
       "    <tr>\n",
       "      <th>293969</th>\n",
       "      <td>1650</td>\n",
       "      <td>bus</td>\n",
       "      <td>2000</td>\n",
       "      <td>NaN</td>\n",
       "      <td>0</td>\n",
       "      <td>NaN</td>\n",
       "      <td>150000</td>\n",
       "      <td>NaN</td>\n",
       "      <td>smart</td>\n",
       "      <td>NaN</td>\n",
       "    </tr>\n",
       "  </tbody>\n",
       "</table>\n",
       "</div>"
      ],
      "text/plain": [
       "        price vehicle_type  reg_year gearbox  power model  kilometer  \\\n",
       "293969   1650          bus      2000     NaN      0   NaN     150000   \n",
       "\n",
       "       fuel_type  brand repaired  \n",
       "293969       NaN  smart      NaN  "
      ]
     },
     "execution_count": 42,
     "metadata": {},
     "output_type": "execute_result"
    }
   ],
   "source": [
    "data[(data['brand'] == 'smart') & (data['vehicle_type'] == 'bus')]"
   ]
  },
  {
   "cell_type": "markdown",
   "id": "630b6ba8-08d6-4103-8080-70ee2b4dea6d",
   "metadata": {},
   "source": [
    "Всего две записи.\n",
    "Удалим их."
   ]
  },
  {
   "cell_type": "code",
   "execution_count": 43,
   "id": "ceaa7fd9-7739-4dae-b456-48b07b73874a",
   "metadata": {},
   "outputs": [],
   "source": [
    "data.drop(index=[18286, 293969], inplace=True, axis=1)"
   ]
  },
  {
   "cell_type": "code",
   "execution_count": 44,
   "id": "21e5115f-5cd8-4dcc-bdf4-eba86b34e632",
   "metadata": {},
   "outputs": [],
   "source": [
    "t_data_mod.drop(index=[18286, 293969], inplace=True, axis=1)"
   ]
  },
  {
   "cell_type": "markdown",
   "id": "24569016-f4f7-48d5-870d-0d2c30daa99b",
   "metadata": {},
   "source": [
    "Запишем заполненные данные в датасет:"
   ]
  },
  {
   "cell_type": "code",
   "execution_count": 45,
   "id": "5416d623-04fe-4a7a-b5d6-3f10632d9305",
   "metadata": {},
   "outputs": [],
   "source": [
    "data.loc[data['vehicle_type'].isna()] = t_data_veh"
   ]
  },
  {
   "cell_type": "code",
   "execution_count": 46,
   "id": "351e76cb-3203-4228-9f13-4dc00a01682b",
   "metadata": {},
   "outputs": [],
   "source": [
    "data.loc[data['model'].isna()] = t_data_mod"
   ]
  },
  {
   "cell_type": "markdown",
   "id": "1035b312-6b2b-4bb6-9eca-2511519a9189",
   "metadata": {},
   "source": [
    "Пропуски в признаке gearbox («тип коробки передач») заполним значением unknown."
   ]
  },
  {
   "cell_type": "code",
   "execution_count": 47,
   "id": "dddd7592-2146-46e3-8bc7-79b3bb06770d",
   "metadata": {},
   "outputs": [],
   "source": [
    "data['gearbox'] = data['gearbox'].fillna('unknown')"
   ]
  },
  {
   "cell_type": "markdown",
   "id": "a2ce1b79-9465-425e-81de-a025c4da853b",
   "metadata": {},
   "source": [
    "Нулевую мощность двигателя (чего не может быть) заменим на медианную мощность двигателя для данной марки и модели."
   ]
  },
  {
   "cell_type": "code",
   "execution_count": 48,
   "id": "76f1470d-e56e-4d4a-9404-3b28fc1e92a0",
   "metadata": {},
   "outputs": [],
   "source": [
    "mean_power_dict = {}\n",
    "no_mean_power_list = []\n",
    "def func(row):\n",
    "    try:\n",
    "        row['power'] = mean_power_dict[row['brand'] + row['vehicle_type']]\n",
    "    except:\n",
    "        try:\n",
    "            row['power'] = round(data[(data['brand'] == row['brand']) &\n",
    "                                (data['vehicle_type'] == row['vehicle_type']) &\n",
    "                                (data['power'] != 0)]['power'].median())\n",
    "            mean_power_dict[row['brand'] + row['vehicle_type']] = row['power']\n",
    "        except:\n",
    "            no_mean_power_list.append(row['brand'] + ' ' + row['vehicle_type'])\n",
    "        \n",
    "    return row\n",
    "\n",
    "data.loc[data['power'] == 0] = data[data['power'] == 0].apply(func, axis=1)"
   ]
  },
  {
   "cell_type": "markdown",
   "id": "f770a6b0-f631-4a0b-932b-f081453f52c1",
   "metadata": {},
   "source": [
    "Проверим, есть ли автомобили, для мощности двигателя которых отсутствует статистика в заполненной части датасета:"
   ]
  },
  {
   "cell_type": "code",
   "execution_count": 49,
   "id": "30e13498-07ce-4dd2-99aa-b4fb7adc6e03",
   "metadata": {},
   "outputs": [
    {
     "data": {
      "text/plain": [
       "['porsche small', 'land_rover bus', 'kia convertible', 'saab small']"
      ]
     },
     "execution_count": 49,
     "metadata": {},
     "output_type": "execute_result"
    }
   ],
   "source": [
    "no_mean_power_list"
   ]
  },
  {
   "cell_type": "code",
   "execution_count": 50,
   "id": "03c19355-9422-47da-bf87-9213c120c16b",
   "metadata": {},
   "outputs": [
    {
     "data": {
      "text/html": [
       "<div>\n",
       "<style scoped>\n",
       "    .dataframe tbody tr th:only-of-type {\n",
       "        vertical-align: middle;\n",
       "    }\n",
       "\n",
       "    .dataframe tbody tr th {\n",
       "        vertical-align: top;\n",
       "    }\n",
       "\n",
       "    .dataframe thead th {\n",
       "        text-align: right;\n",
       "    }\n",
       "</style>\n",
       "<table border=\"1\" class=\"dataframe\">\n",
       "  <thead>\n",
       "    <tr style=\"text-align: right;\">\n",
       "      <th></th>\n",
       "      <th>price</th>\n",
       "      <th>vehicle_type</th>\n",
       "      <th>reg_year</th>\n",
       "      <th>gearbox</th>\n",
       "      <th>power</th>\n",
       "      <th>model</th>\n",
       "      <th>kilometer</th>\n",
       "      <th>fuel_type</th>\n",
       "      <th>brand</th>\n",
       "      <th>repaired</th>\n",
       "    </tr>\n",
       "  </thead>\n",
       "  <tbody>\n",
       "    <tr>\n",
       "      <th>1053</th>\n",
       "      <td>140</td>\n",
       "      <td>small</td>\n",
       "      <td>1986</td>\n",
       "      <td>unknown</td>\n",
       "      <td>0</td>\n",
       "      <td>cayenne</td>\n",
       "      <td>20000</td>\n",
       "      <td>petrol</td>\n",
       "      <td>porsche</td>\n",
       "      <td>NaN</td>\n",
       "    </tr>\n",
       "  </tbody>\n",
       "</table>\n",
       "</div>"
      ],
      "text/plain": [
       "      price vehicle_type  reg_year  gearbox  power    model  kilometer  \\\n",
       "1053    140        small      1986  unknown      0  cayenne      20000   \n",
       "\n",
       "     fuel_type    brand repaired  \n",
       "1053    petrol  porsche      NaN  "
      ]
     },
     "execution_count": 50,
     "metadata": {},
     "output_type": "execute_result"
    }
   ],
   "source": [
    "data[(data['brand'] == 'porsche') & (data['vehicle_type'] == 'small')]"
   ]
  },
  {
   "cell_type": "code",
   "execution_count": 51,
   "id": "50c97f52-c3db-430d-abcc-baf11125e3b6",
   "metadata": {},
   "outputs": [
    {
     "data": {
      "text/html": [
       "<div>\n",
       "<style scoped>\n",
       "    .dataframe tbody tr th:only-of-type {\n",
       "        vertical-align: middle;\n",
       "    }\n",
       "\n",
       "    .dataframe tbody tr th {\n",
       "        vertical-align: top;\n",
       "    }\n",
       "\n",
       "    .dataframe thead th {\n",
       "        text-align: right;\n",
       "    }\n",
       "</style>\n",
       "<table border=\"1\" class=\"dataframe\">\n",
       "  <thead>\n",
       "    <tr style=\"text-align: right;\">\n",
       "      <th></th>\n",
       "      <th>price</th>\n",
       "      <th>vehicle_type</th>\n",
       "      <th>reg_year</th>\n",
       "      <th>gearbox</th>\n",
       "      <th>power</th>\n",
       "      <th>model</th>\n",
       "      <th>kilometer</th>\n",
       "      <th>fuel_type</th>\n",
       "      <th>brand</th>\n",
       "      <th>repaired</th>\n",
       "    </tr>\n",
       "  </thead>\n",
       "  <tbody>\n",
       "    <tr>\n",
       "      <th>215212</th>\n",
       "      <td>450</td>\n",
       "      <td>bus</td>\n",
       "      <td>1997</td>\n",
       "      <td>auto</td>\n",
       "      <td>0</td>\n",
       "      <td>other</td>\n",
       "      <td>150000</td>\n",
       "      <td>lpg</td>\n",
       "      <td>land_rover</td>\n",
       "      <td>no</td>\n",
       "    </tr>\n",
       "  </tbody>\n",
       "</table>\n",
       "</div>"
      ],
      "text/plain": [
       "        price vehicle_type  reg_year gearbox  power  model  kilometer  \\\n",
       "215212    450          bus      1997    auto      0  other     150000   \n",
       "\n",
       "       fuel_type       brand repaired  \n",
       "215212       lpg  land_rover       no  "
      ]
     },
     "execution_count": 51,
     "metadata": {},
     "output_type": "execute_result"
    }
   ],
   "source": [
    "data[(data['brand'] == 'land_rover') & (data['vehicle_type'] == 'bus')]"
   ]
  },
  {
   "cell_type": "code",
   "execution_count": 52,
   "id": "9722b73c-af33-4fb6-a5c2-d926ed64f815",
   "metadata": {},
   "outputs": [
    {
     "data": {
      "text/html": [
       "<div>\n",
       "<style scoped>\n",
       "    .dataframe tbody tr th:only-of-type {\n",
       "        vertical-align: middle;\n",
       "    }\n",
       "\n",
       "    .dataframe tbody tr th {\n",
       "        vertical-align: top;\n",
       "    }\n",
       "\n",
       "    .dataframe thead th {\n",
       "        text-align: right;\n",
       "    }\n",
       "</style>\n",
       "<table border=\"1\" class=\"dataframe\">\n",
       "  <thead>\n",
       "    <tr style=\"text-align: right;\">\n",
       "      <th></th>\n",
       "      <th>price</th>\n",
       "      <th>vehicle_type</th>\n",
       "      <th>reg_year</th>\n",
       "      <th>gearbox</th>\n",
       "      <th>power</th>\n",
       "      <th>model</th>\n",
       "      <th>kilometer</th>\n",
       "      <th>fuel_type</th>\n",
       "      <th>brand</th>\n",
       "      <th>repaired</th>\n",
       "    </tr>\n",
       "  </thead>\n",
       "  <tbody>\n",
       "    <tr>\n",
       "      <th>249839</th>\n",
       "      <td>10000</td>\n",
       "      <td>convertible</td>\n",
       "      <td>1999</td>\n",
       "      <td>unknown</td>\n",
       "      <td>0</td>\n",
       "      <td>other</td>\n",
       "      <td>20000</td>\n",
       "      <td>petrol</td>\n",
       "      <td>kia</td>\n",
       "      <td>NaN</td>\n",
       "    </tr>\n",
       "  </tbody>\n",
       "</table>\n",
       "</div>"
      ],
      "text/plain": [
       "        price vehicle_type  reg_year  gearbox  power  model  kilometer  \\\n",
       "249839  10000  convertible      1999  unknown      0  other      20000   \n",
       "\n",
       "       fuel_type brand repaired  \n",
       "249839    petrol   kia      NaN  "
      ]
     },
     "execution_count": 52,
     "metadata": {},
     "output_type": "execute_result"
    }
   ],
   "source": [
    "data[(data['brand'] == 'kia') & (data['vehicle_type'] == 'convertible')]"
   ]
  },
  {
   "cell_type": "code",
   "execution_count": 53,
   "id": "14eae3cb-357b-4698-97a5-a2f699d878a4",
   "metadata": {},
   "outputs": [
    {
     "data": {
      "text/html": [
       "<div>\n",
       "<style scoped>\n",
       "    .dataframe tbody tr th:only-of-type {\n",
       "        vertical-align: middle;\n",
       "    }\n",
       "\n",
       "    .dataframe tbody tr th {\n",
       "        vertical-align: top;\n",
       "    }\n",
       "\n",
       "    .dataframe thead th {\n",
       "        text-align: right;\n",
       "    }\n",
       "</style>\n",
       "<table border=\"1\" class=\"dataframe\">\n",
       "  <thead>\n",
       "    <tr style=\"text-align: right;\">\n",
       "      <th></th>\n",
       "      <th>price</th>\n",
       "      <th>vehicle_type</th>\n",
       "      <th>reg_year</th>\n",
       "      <th>gearbox</th>\n",
       "      <th>power</th>\n",
       "      <th>model</th>\n",
       "      <th>kilometer</th>\n",
       "      <th>fuel_type</th>\n",
       "      <th>brand</th>\n",
       "      <th>repaired</th>\n",
       "    </tr>\n",
       "  </thead>\n",
       "  <tbody>\n",
       "    <tr>\n",
       "      <th>261288</th>\n",
       "      <td>2350</td>\n",
       "      <td>small</td>\n",
       "      <td>1971</td>\n",
       "      <td>unknown</td>\n",
       "      <td>0</td>\n",
       "      <td>other</td>\n",
       "      <td>5000</td>\n",
       "      <td>petrol</td>\n",
       "      <td>saab</td>\n",
       "      <td>NaN</td>\n",
       "    </tr>\n",
       "  </tbody>\n",
       "</table>\n",
       "</div>"
      ],
      "text/plain": [
       "        price vehicle_type  reg_year  gearbox  power  model  kilometer  \\\n",
       "261288   2350        small      1971  unknown      0  other       5000   \n",
       "\n",
       "       fuel_type brand repaired  \n",
       "261288    petrol  saab      NaN  "
      ]
     },
     "execution_count": 53,
     "metadata": {},
     "output_type": "execute_result"
    }
   ],
   "source": [
    "data[(data['brand'] == 'saab') & (data['vehicle_type'] == 'small')]"
   ]
  },
  {
   "cell_type": "markdown",
   "id": "9305b500-01f2-4e98-9e52-f64292532d73",
   "metadata": {},
   "source": [
    "Это всё единичные записи, удалим их."
   ]
  },
  {
   "cell_type": "code",
   "execution_count": 54,
   "id": "d517c9ad-196c-4dfd-b5e2-8a78256d1306",
   "metadata": {},
   "outputs": [],
   "source": [
    "data.drop(index=[1053, 215212, 249839, 261288], inplace=True, axis=1)"
   ]
  },
  {
   "cell_type": "markdown",
   "id": "efe8f48e-dc17-49f1-80eb-a4e3d2beafe2",
   "metadata": {},
   "source": [
    "Пропуски в fuel_type («тип топлива») и repaired («») заполним значением unknown"
   ]
  },
  {
   "cell_type": "code",
   "execution_count": 55,
   "id": "a628a1ab-66fa-4b73-a30d-2879f22a466b",
   "metadata": {},
   "outputs": [],
   "source": [
    "data['fuel_type'] = data['fuel_type'].fillna('unknown')"
   ]
  },
  {
   "cell_type": "code",
   "execution_count": 56,
   "id": "bbc9b443-a1d2-4ae5-90f3-ab1ba62bd298",
   "metadata": {},
   "outputs": [],
   "source": [
    "data['repaired'] = data['repaired'].fillna('unknown')"
   ]
  },
  {
   "cell_type": "markdown",
   "id": "9396a435-8c25-483e-95ea-912cb6cd03d9",
   "metadata": {},
   "source": [
    "##### Удаление дубликатов"
   ]
  },
  {
   "cell_type": "markdown",
   "id": "590c5864-382d-44ae-a148-a31421737e5e",
   "metadata": {},
   "source": [
    "Посмотрим, есть ли полные дубликаты в датасете."
   ]
  },
  {
   "cell_type": "code",
   "execution_count": 57,
   "id": "41e4954c-9c1e-4597-8522-77b6946b68c6",
   "metadata": {},
   "outputs": [
    {
     "data": {
      "text/plain": [
       "np.int64(47473)"
      ]
     },
     "execution_count": 57,
     "metadata": {},
     "output_type": "execute_result"
    }
   ],
   "source": [
    "data.duplicated().sum()"
   ]
  },
  {
   "cell_type": "markdown",
   "id": "9edfcb1a-7fcf-4b9b-9353-913dcd26b6db",
   "metadata": {},
   "source": [
    "Дубликатов много.\n",
    "Удалим их"
   ]
  },
  {
   "cell_type": "code",
   "execution_count": 58,
   "id": "992e0e0c-bfb0-4b1c-b3d5-aa102b25e846",
   "metadata": {},
   "outputs": [],
   "source": [
    "data = data.drop_duplicates()"
   ]
  },
  {
   "cell_type": "markdown",
   "id": "0423ed48-6984-4dbb-afa9-e0063eb5c6d8",
   "metadata": {},
   "source": [
    "Датасет готов. Предобработка данных завершена."
   ]
  },
  {
   "cell_type": "markdown",
   "id": "1ee9d77c-e867-49fc-9be1-2d714e56dbe9",
   "metadata": {},
   "source": [
    "## Подготовка выборок "
   ]
  },
  {
   "cell_type": "code",
   "execution_count": 59,
   "id": "6084a2b3-20cc-41fd-9441-7578f1899693",
   "metadata": {},
   "outputs": [
    {
     "name": "stdout",
     "output_type": "stream",
     "text": [
      "<class 'pandas.core.frame.DataFrame'>\n",
      "Index: 296053 entries, 0 to 354368\n",
      "Data columns (total 10 columns):\n",
      " #   Column        Non-Null Count   Dtype \n",
      "---  ------        --------------   ----- \n",
      " 0   price         296053 non-null  int64 \n",
      " 1   vehicle_type  296053 non-null  object\n",
      " 2   reg_year      296053 non-null  int64 \n",
      " 3   gearbox       296053 non-null  object\n",
      " 4   power         296053 non-null  int64 \n",
      " 5   model         296053 non-null  object\n",
      " 6   kilometer     296053 non-null  int64 \n",
      " 7   fuel_type     296053 non-null  object\n",
      " 8   brand         296053 non-null  object\n",
      " 9   repaired      296053 non-null  object\n",
      "dtypes: int64(4), object(6)\n",
      "memory usage: 24.8+ MB\n"
     ]
    }
   ],
   "source": [
    "data.info()"
   ]
  },
  {
   "cell_type": "code",
   "execution_count": 60,
   "id": "45b392a1-674e-4dfb-b3f8-1be54684960b",
   "metadata": {},
   "outputs": [],
   "source": [
    "feature_cat_cols_ohe = ['vehicle_type', 'gearbox', 'fuel_type', 'brand', 'repaired']"
   ]
  },
  {
   "cell_type": "code",
   "execution_count": 61,
   "id": "85475a51-ae70-46c8-b5fe-fa07de916fa6",
   "metadata": {},
   "outputs": [],
   "source": [
    "feature_cat_cols_oe = ['model']"
   ]
  },
  {
   "cell_type": "code",
   "execution_count": 62,
   "id": "c6b85881-d7e3-44e5-89b7-6cb9002c8b83",
   "metadata": {},
   "outputs": [],
   "source": [
    "feature_num_cols = ['reg_year', 'power', 'kilometer']"
   ]
  },
  {
   "cell_type": "code",
   "execution_count": 63,
   "id": "0d0ab2b3-b075-42b9-b231-3c9df567e5c0",
   "metadata": {},
   "outputs": [],
   "source": [
    "X = data.drop('price', axis=1)"
   ]
  },
  {
   "cell_type": "code",
   "execution_count": 64,
   "id": "b429dd3c-6237-41f7-a281-5e7ee8e95331",
   "metadata": {},
   "outputs": [],
   "source": [
    "y = data['price']"
   ]
  },
  {
   "cell_type": "code",
   "execution_count": 65,
   "id": "5778e582-22b2-432d-aa70-da1fe0a8eb16",
   "metadata": {},
   "outputs": [],
   "source": [
    "X_train, X_test, y_train, y_test = train_test_split(X, y, test_size=0.25, random_state=RANDOM_STATE)"
   ]
  },
  {
   "cell_type": "code",
   "execution_count": 66,
   "id": "9264582a-a6f7-4db3-af84-ee4e53db15c6",
   "metadata": {},
   "outputs": [],
   "source": [
    "# В новой версии библиотеки sklearn изменено наименование параметра (не как в теории).\n",
    "# На всякий случай, добавил оба варианта"
   ]
  },
  {
   "cell_type": "code",
   "execution_count": 67,
   "id": "d955a592-91aa-4a43-bd6e-bc6be2bbcd2c",
   "metadata": {},
   "outputs": [],
   "source": [
    "try:\n",
    "    ohe_encoder = OneHotEncoder(drop='first', handle_unknown='ignore', sparse_output=False) \n",
    "except:\n",
    "    ohe_encoder = OneHotEncoder(drop='first', handle_unknown='ignore', sparse=False)"
   ]
  },
  {
   "cell_type": "code",
   "execution_count": 68,
   "id": "6bf99486-3baf-4ceb-a1ba-79b520adcfcd",
   "metadata": {},
   "outputs": [],
   "source": [
    "X_train_ohe = ohe_encoder.fit_transform(X_train[feature_cat_cols_ohe])\n",
    "X_test_ohe = ohe_encoder.transform(X_test[feature_cat_cols_ohe])"
   ]
  },
  {
   "cell_type": "code",
   "execution_count": 69,
   "id": "17b05901-8e6f-495d-93e6-0fe1d11c7938",
   "metadata": {},
   "outputs": [],
   "source": [
    "# В новой версии библиотеки sklearn изменено наименование параметра (не как в теории).\n",
    "# На всякий случай, добавил оба варианта"
   ]
  },
  {
   "cell_type": "code",
   "execution_count": 70,
   "id": "60e9aea8-d250-42e5-87de-5c8a4361f3f2",
   "metadata": {},
   "outputs": [],
   "source": [
    "try:\n",
    "    X_train_ohe = pd.DataFrame(X_train_ohe, columns=ohe_encoder.get_feature_names_out())\n",
    "    X_test_ohe = pd.DataFrame(X_test_ohe, columns=ohe_encoder.get_feature_names_out())\n",
    "except:\n",
    "    X_train_ohe = pd.DataFrame(X_train_ohe, columns=ohe_encoder.get_feature_names())\n",
    "    X_test_ohe = pd.DataFrame(X_test_ohe, columns=ohe_encoder.get_feature_names())"
   ]
  },
  {
   "cell_type": "markdown",
   "id": "426a019d-2dff-4bfb-a7fc-9c6d695fb526",
   "metadata": {},
   "source": [
    "Кодируем модель автомобиля методом OrdinalEncoder."
   ]
  },
  {
   "cell_type": "code",
   "execution_count": 71,
   "id": "751d470d-d363-43c7-bffa-3bfacb20efac",
   "metadata": {},
   "outputs": [],
   "source": [
    "oe_encoder = OrdinalEncoder(handle_unknown='use_encoded_value', unknown_value=-1)"
   ]
  },
  {
   "cell_type": "code",
   "execution_count": 72,
   "id": "2be36f63-ca8e-4219-873a-f554bc47ad07",
   "metadata": {},
   "outputs": [],
   "source": [
    "X_train_oe = oe_encoder.fit_transform(X_train[feature_cat_cols_oe])\n",
    "X_test_oe = oe_encoder.transform(X_test[feature_cat_cols_oe])"
   ]
  },
  {
   "cell_type": "code",
   "execution_count": 73,
   "id": "67df2091-b8de-4569-8807-61e2b146e737",
   "metadata": {},
   "outputs": [],
   "source": [
    "X_train_oe = pd.DataFrame(X_train_oe, columns=oe_encoder.get_feature_names_out())\n",
    "X_test_oe = pd.DataFrame(X_test_oe, columns=oe_encoder.get_feature_names_out())"
   ]
  },
  {
   "cell_type": "markdown",
   "id": "994d2761-c73a-46e6-a310-9b7db44a8b3b",
   "metadata": {},
   "source": [
    "Масштабируем числовые признаки."
   ]
  },
  {
   "cell_type": "code",
   "execution_count": 74,
   "id": "886e957e-bb4d-4926-af9a-e91dfec255e4",
   "metadata": {},
   "outputs": [],
   "source": [
    "scaler = StandardScaler()"
   ]
  },
  {
   "cell_type": "code",
   "execution_count": 75,
   "id": "00f7d2c0-3576-45b3-bce5-8f7647b6de24",
   "metadata": {},
   "outputs": [],
   "source": [
    "X_train_scaled = scaler.fit_transform(X_train[feature_num_cols])\n",
    "X_test_scaled = scaler.transform(X_test[feature_num_cols])"
   ]
  },
  {
   "cell_type": "code",
   "execution_count": 76,
   "id": "efdf78e4-b6c6-48f4-b5f6-f7982708a46f",
   "metadata": {},
   "outputs": [],
   "source": [
    "X_train_scaled = pd.DataFrame(X_train_scaled, columns=feature_num_cols)\n",
    "X_test_scaled = pd.DataFrame(X_test_scaled, columns=feature_num_cols)"
   ]
  },
  {
   "cell_type": "markdown",
   "id": "31f4ea61-734c-4de1-a201-59c1bddcbb56",
   "metadata": {},
   "source": [
    "Объединим в окончательные выборки:"
   ]
  },
  {
   "cell_type": "code",
   "execution_count": 77,
   "id": "c443473d-b253-49ec-a62a-8b115a997e75",
   "metadata": {},
   "outputs": [],
   "source": [
    "X_train = pd.concat([X_train_ohe, X_train_oe, X_train_scaled], axis=1)\n",
    "X_test = pd.concat([X_test_ohe, X_test_oe, X_test_scaled], axis=1)"
   ]
  },
  {
   "cell_type": "markdown",
   "id": "f7f7c49c-0cbf-4e30-8eae-9f68d6b0ae50",
   "metadata": {},
   "source": [
    "Выборки готовы."
   ]
  },
  {
   "cell_type": "markdown",
   "id": "7795251c-19c2-4e99-8dc0-8747a0c62c74",
   "metadata": {},
   "source": [
    "## Обучение моделей"
   ]
  },
  {
   "cell_type": "markdown",
   "id": "678fbd82-205e-4066-a9ce-341efdfe9c94",
   "metadata": {},
   "source": [
    "### LightGBM"
   ]
  },
  {
   "cell_type": "markdown",
   "id": "1363827a-3a20-4994-826e-6c178d291462",
   "metadata": {},
   "source": [
    "Рассмотрим модель LightGBM и найдем лучшие гиперпараметры для нее."
   ]
  },
  {
   "cell_type": "code",
   "execution_count": 78,
   "id": "e05d939d-716a-45f2-8f9b-f7a0a5f7113e",
   "metadata": {},
   "outputs": [],
   "source": [
    "lgbm = LGBMRegressor()"
   ]
  },
  {
   "cell_type": "markdown",
   "id": "c84ebecc-3226-4c62-b69f-cfa39e1d230d",
   "metadata": {},
   "source": [
    "Зададим параметры"
   ]
  },
  {
   "cell_type": "code",
   "execution_count": 79,
   "id": "8cd50a30-5d47-4fee-ba0c-773be73b8bc6",
   "metadata": {},
   "outputs": [],
   "source": [
    "params = {\n",
    "    'n_estimators': [50, 100, 200],\n",
    "    'num_leaves': [10, 50, 70, 100],\n",
    "    'random_state': [RANDOM_STATE]\n",
    "}"
   ]
  },
  {
   "cell_type": "code",
   "execution_count": 80,
   "id": "336cd1cf-3fcc-4557-9b0e-13cce3b7ca38",
   "metadata": {},
   "outputs": [],
   "source": [
    "grid = GridSearchCV(\n",
    "    lgbm,\n",
    "    params,\n",
    "    scoring = 'neg_root_mean_squared_error'\n",
    ")"
   ]
  },
  {
   "cell_type": "code",
   "execution_count": 81,
   "id": "407cd32d-b131-48c6-b27c-d5930f204ae3",
   "metadata": {
    "scrolled": true
   },
   "outputs": [
    {
     "name": "stdout",
     "output_type": "stream",
     "text": [
      "[LightGBM] [Info] Auto-choosing row-wise multi-threading, the overhead of testing was 0.005157 seconds.\n",
      "You can set `force_row_wise=true` to remove the overhead.\n",
      "And if memory is not enough, you can set `force_col_wise=true`.\n",
      "[LightGBM] [Info] Total Bins 661\n",
      "[LightGBM] [Info] Number of data points in the train set: 177631, number of used features: 58\n",
      "[LightGBM] [Info] Start training from score 4549.114102\n",
      "[LightGBM] [Info] Auto-choosing row-wise multi-threading, the overhead of testing was 0.007194 seconds.\n",
      "You can set `force_row_wise=true` to remove the overhead.\n",
      "And if memory is not enough, you can set `force_col_wise=true`.\n",
      "[LightGBM] [Info] Total Bins 662\n",
      "[LightGBM] [Info] Number of data points in the train set: 177631, number of used features: 58\n",
      "[LightGBM] [Info] Start training from score 4535.933745\n",
      "[LightGBM] [Info] Auto-choosing row-wise multi-threading, the overhead of testing was 0.005128 seconds.\n",
      "You can set `force_row_wise=true` to remove the overhead.\n",
      "And if memory is not enough, you can set `force_col_wise=true`.\n",
      "[LightGBM] [Info] Total Bins 663\n",
      "[LightGBM] [Info] Number of data points in the train set: 177631, number of used features: 58\n",
      "[LightGBM] [Info] Start training from score 4536.724316\n",
      "[LightGBM] [Info] Auto-choosing row-wise multi-threading, the overhead of testing was 0.004332 seconds.\n",
      "You can set `force_row_wise=true` to remove the overhead.\n",
      "And if memory is not enough, you can set `force_col_wise=true`.\n",
      "[LightGBM] [Info] Total Bins 664\n",
      "[LightGBM] [Info] Number of data points in the train set: 177631, number of used features: 58\n",
      "[LightGBM] [Info] Start training from score 4543.806886\n",
      "[LightGBM] [Info] Auto-choosing row-wise multi-threading, the overhead of testing was 0.006927 seconds.\n",
      "You can set `force_row_wise=true` to remove the overhead.\n",
      "And if memory is not enough, you can set `force_col_wise=true`.\n",
      "[LightGBM] [Info] Total Bins 664\n",
      "[LightGBM] [Info] Number of data points in the train set: 177632, number of used features: 58\n",
      "[LightGBM] [Info] Start training from score 4544.240970\n",
      "[LightGBM] [Info] Auto-choosing row-wise multi-threading, the overhead of testing was 0.006287 seconds.\n",
      "You can set `force_row_wise=true` to remove the overhead.\n",
      "And if memory is not enough, you can set `force_col_wise=true`.\n",
      "[LightGBM] [Info] Total Bins 661\n",
      "[LightGBM] [Info] Number of data points in the train set: 177631, number of used features: 58\n",
      "[LightGBM] [Info] Start training from score 4549.114102\n",
      "[LightGBM] [Info] Auto-choosing row-wise multi-threading, the overhead of testing was 0.007192 seconds.\n",
      "You can set `force_row_wise=true` to remove the overhead.\n",
      "And if memory is not enough, you can set `force_col_wise=true`.\n",
      "[LightGBM] [Info] Total Bins 662\n",
      "[LightGBM] [Info] Number of data points in the train set: 177631, number of used features: 58\n",
      "[LightGBM] [Info] Start training from score 4535.933745\n",
      "[LightGBM] [Info] Auto-choosing row-wise multi-threading, the overhead of testing was 0.010102 seconds.\n",
      "You can set `force_row_wise=true` to remove the overhead.\n",
      "And if memory is not enough, you can set `force_col_wise=true`.\n",
      "[LightGBM] [Info] Total Bins 663\n",
      "[LightGBM] [Info] Number of data points in the train set: 177631, number of used features: 58\n",
      "[LightGBM] [Info] Start training from score 4536.724316\n",
      "[LightGBM] [Info] Auto-choosing row-wise multi-threading, the overhead of testing was 0.004883 seconds.\n",
      "You can set `force_row_wise=true` to remove the overhead.\n",
      "And if memory is not enough, you can set `force_col_wise=true`.\n",
      "[LightGBM] [Info] Total Bins 664\n",
      "[LightGBM] [Info] Number of data points in the train set: 177631, number of used features: 58\n",
      "[LightGBM] [Info] Start training from score 4543.806886\n",
      "[LightGBM] [Info] Auto-choosing row-wise multi-threading, the overhead of testing was 0.008270 seconds.\n",
      "You can set `force_row_wise=true` to remove the overhead.\n",
      "And if memory is not enough, you can set `force_col_wise=true`.\n",
      "[LightGBM] [Info] Total Bins 664\n",
      "[LightGBM] [Info] Number of data points in the train set: 177632, number of used features: 58\n",
      "[LightGBM] [Info] Start training from score 4544.240970\n",
      "[LightGBM] [Info] Auto-choosing row-wise multi-threading, the overhead of testing was 0.008666 seconds.\n",
      "You can set `force_row_wise=true` to remove the overhead.\n",
      "And if memory is not enough, you can set `force_col_wise=true`.\n",
      "[LightGBM] [Info] Total Bins 661\n",
      "[LightGBM] [Info] Number of data points in the train set: 177631, number of used features: 58\n",
      "[LightGBM] [Info] Start training from score 4549.114102\n",
      "[LightGBM] [Info] Auto-choosing row-wise multi-threading, the overhead of testing was 0.004850 seconds.\n",
      "You can set `force_row_wise=true` to remove the overhead.\n",
      "And if memory is not enough, you can set `force_col_wise=true`.\n",
      "[LightGBM] [Info] Total Bins 662\n",
      "[LightGBM] [Info] Number of data points in the train set: 177631, number of used features: 58\n",
      "[LightGBM] [Info] Start training from score 4535.933745\n",
      "[LightGBM] [Info] Auto-choosing row-wise multi-threading, the overhead of testing was 0.011540 seconds.\n",
      "You can set `force_row_wise=true` to remove the overhead.\n",
      "And if memory is not enough, you can set `force_col_wise=true`.\n",
      "[LightGBM] [Info] Total Bins 663\n",
      "[LightGBM] [Info] Number of data points in the train set: 177631, number of used features: 58\n",
      "[LightGBM] [Info] Start training from score 4536.724316\n",
      "[LightGBM] [Info] Auto-choosing row-wise multi-threading, the overhead of testing was 0.006748 seconds.\n",
      "You can set `force_row_wise=true` to remove the overhead.\n",
      "And if memory is not enough, you can set `force_col_wise=true`.\n",
      "[LightGBM] [Info] Total Bins 664\n",
      "[LightGBM] [Info] Number of data points in the train set: 177631, number of used features: 58\n",
      "[LightGBM] [Info] Start training from score 4543.806886\n",
      "[LightGBM] [Info] Auto-choosing row-wise multi-threading, the overhead of testing was 0.006002 seconds.\n",
      "You can set `force_row_wise=true` to remove the overhead.\n",
      "And if memory is not enough, you can set `force_col_wise=true`.\n",
      "[LightGBM] [Info] Total Bins 664\n",
      "[LightGBM] [Info] Number of data points in the train set: 177632, number of used features: 58\n",
      "[LightGBM] [Info] Start training from score 4544.240970\n",
      "[LightGBM] [Info] Auto-choosing row-wise multi-threading, the overhead of testing was 0.005039 seconds.\n",
      "You can set `force_row_wise=true` to remove the overhead.\n",
      "And if memory is not enough, you can set `force_col_wise=true`.\n",
      "[LightGBM] [Info] Total Bins 661\n",
      "[LightGBM] [Info] Number of data points in the train set: 177631, number of used features: 58\n",
      "[LightGBM] [Info] Start training from score 4549.114102\n",
      "[LightGBM] [Info] Auto-choosing row-wise multi-threading, the overhead of testing was 0.006380 seconds.\n",
      "You can set `force_row_wise=true` to remove the overhead.\n",
      "And if memory is not enough, you can set `force_col_wise=true`.\n",
      "[LightGBM] [Info] Total Bins 662\n",
      "[LightGBM] [Info] Number of data points in the train set: 177631, number of used features: 58\n",
      "[LightGBM] [Info] Start training from score 4535.933745\n",
      "[LightGBM] [Info] Auto-choosing row-wise multi-threading, the overhead of testing was 0.005774 seconds.\n",
      "You can set `force_row_wise=true` to remove the overhead.\n",
      "And if memory is not enough, you can set `force_col_wise=true`.\n",
      "[LightGBM] [Info] Total Bins 663\n",
      "[LightGBM] [Info] Number of data points in the train set: 177631, number of used features: 58\n",
      "[LightGBM] [Info] Start training from score 4536.724316\n",
      "[LightGBM] [Info] Auto-choosing row-wise multi-threading, the overhead of testing was 0.005336 seconds.\n",
      "You can set `force_row_wise=true` to remove the overhead.\n",
      "And if memory is not enough, you can set `force_col_wise=true`.\n",
      "[LightGBM] [Info] Total Bins 664\n",
      "[LightGBM] [Info] Number of data points in the train set: 177631, number of used features: 58\n",
      "[LightGBM] [Info] Start training from score 4543.806886\n",
      "[LightGBM] [Info] Auto-choosing row-wise multi-threading, the overhead of testing was 0.006565 seconds.\n",
      "You can set `force_row_wise=true` to remove the overhead.\n",
      "And if memory is not enough, you can set `force_col_wise=true`.\n",
      "[LightGBM] [Info] Total Bins 664\n",
      "[LightGBM] [Info] Number of data points in the train set: 177632, number of used features: 58\n",
      "[LightGBM] [Info] Start training from score 4544.240970\n",
      "[LightGBM] [Info] Auto-choosing row-wise multi-threading, the overhead of testing was 0.005825 seconds.\n",
      "You can set `force_row_wise=true` to remove the overhead.\n",
      "And if memory is not enough, you can set `force_col_wise=true`.\n",
      "[LightGBM] [Info] Total Bins 661\n",
      "[LightGBM] [Info] Number of data points in the train set: 177631, number of used features: 58\n",
      "[LightGBM] [Info] Start training from score 4549.114102\n",
      "[LightGBM] [Info] Auto-choosing row-wise multi-threading, the overhead of testing was 0.004525 seconds.\n",
      "You can set `force_row_wise=true` to remove the overhead.\n",
      "And if memory is not enough, you can set `force_col_wise=true`.\n",
      "[LightGBM] [Info] Total Bins 662\n",
      "[LightGBM] [Info] Number of data points in the train set: 177631, number of used features: 58\n",
      "[LightGBM] [Info] Start training from score 4535.933745\n",
      "[LightGBM] [Info] Auto-choosing row-wise multi-threading, the overhead of testing was 0.008783 seconds.\n",
      "You can set `force_row_wise=true` to remove the overhead.\n",
      "And if memory is not enough, you can set `force_col_wise=true`.\n",
      "[LightGBM] [Info] Total Bins 663\n",
      "[LightGBM] [Info] Number of data points in the train set: 177631, number of used features: 58\n",
      "[LightGBM] [Info] Start training from score 4536.724316\n",
      "[LightGBM] [Info] Auto-choosing row-wise multi-threading, the overhead of testing was 0.004815 seconds.\n",
      "You can set `force_row_wise=true` to remove the overhead.\n",
      "And if memory is not enough, you can set `force_col_wise=true`.\n",
      "[LightGBM] [Info] Total Bins 664\n",
      "[LightGBM] [Info] Number of data points in the train set: 177631, number of used features: 58\n",
      "[LightGBM] [Info] Start training from score 4543.806886\n",
      "[LightGBM] [Info] Auto-choosing row-wise multi-threading, the overhead of testing was 0.006315 seconds.\n",
      "You can set `force_row_wise=true` to remove the overhead.\n",
      "And if memory is not enough, you can set `force_col_wise=true`.\n",
      "[LightGBM] [Info] Total Bins 664\n",
      "[LightGBM] [Info] Number of data points in the train set: 177632, number of used features: 58\n",
      "[LightGBM] [Info] Start training from score 4544.240970\n",
      "[LightGBM] [Info] Auto-choosing row-wise multi-threading, the overhead of testing was 0.006722 seconds.\n",
      "You can set `force_row_wise=true` to remove the overhead.\n",
      "And if memory is not enough, you can set `force_col_wise=true`.\n",
      "[LightGBM] [Info] Total Bins 661\n",
      "[LightGBM] [Info] Number of data points in the train set: 177631, number of used features: 58\n",
      "[LightGBM] [Info] Start training from score 4549.114102\n",
      "[LightGBM] [Info] Auto-choosing row-wise multi-threading, the overhead of testing was 0.007906 seconds.\n",
      "You can set `force_row_wise=true` to remove the overhead.\n",
      "And if memory is not enough, you can set `force_col_wise=true`.\n",
      "[LightGBM] [Info] Total Bins 662\n",
      "[LightGBM] [Info] Number of data points in the train set: 177631, number of used features: 58\n",
      "[LightGBM] [Info] Start training from score 4535.933745\n",
      "[LightGBM] [Info] Auto-choosing row-wise multi-threading, the overhead of testing was 0.007536 seconds.\n",
      "You can set `force_row_wise=true` to remove the overhead.\n",
      "And if memory is not enough, you can set `force_col_wise=true`.\n",
      "[LightGBM] [Info] Total Bins 663\n",
      "[LightGBM] [Info] Number of data points in the train set: 177631, number of used features: 58\n",
      "[LightGBM] [Info] Start training from score 4536.724316\n",
      "[LightGBM] [Info] Auto-choosing row-wise multi-threading, the overhead of testing was 0.005716 seconds.\n",
      "You can set `force_row_wise=true` to remove the overhead.\n",
      "And if memory is not enough, you can set `force_col_wise=true`.\n",
      "[LightGBM] [Info] Total Bins 664\n",
      "[LightGBM] [Info] Number of data points in the train set: 177631, number of used features: 58\n",
      "[LightGBM] [Info] Start training from score 4543.806886\n",
      "[LightGBM] [Info] Auto-choosing row-wise multi-threading, the overhead of testing was 0.006513 seconds.\n",
      "You can set `force_row_wise=true` to remove the overhead.\n",
      "And if memory is not enough, you can set `force_col_wise=true`.\n",
      "[LightGBM] [Info] Total Bins 664\n",
      "[LightGBM] [Info] Number of data points in the train set: 177632, number of used features: 58\n",
      "[LightGBM] [Info] Start training from score 4544.240970\n",
      "[LightGBM] [Info] Auto-choosing row-wise multi-threading, the overhead of testing was 0.005279 seconds.\n",
      "You can set `force_row_wise=true` to remove the overhead.\n",
      "And if memory is not enough, you can set `force_col_wise=true`.\n",
      "[LightGBM] [Info] Total Bins 661\n",
      "[LightGBM] [Info] Number of data points in the train set: 177631, number of used features: 58\n",
      "[LightGBM] [Info] Start training from score 4549.114102\n",
      "[LightGBM] [Info] Auto-choosing row-wise multi-threading, the overhead of testing was 0.006052 seconds.\n",
      "You can set `force_row_wise=true` to remove the overhead.\n",
      "And if memory is not enough, you can set `force_col_wise=true`.\n",
      "[LightGBM] [Info] Total Bins 662\n",
      "[LightGBM] [Info] Number of data points in the train set: 177631, number of used features: 58\n",
      "[LightGBM] [Info] Start training from score 4535.933745\n",
      "[LightGBM] [Info] Auto-choosing row-wise multi-threading, the overhead of testing was 0.008777 seconds.\n",
      "You can set `force_row_wise=true` to remove the overhead.\n",
      "And if memory is not enough, you can set `force_col_wise=true`.\n",
      "[LightGBM] [Info] Total Bins 663\n",
      "[LightGBM] [Info] Number of data points in the train set: 177631, number of used features: 58\n",
      "[LightGBM] [Info] Start training from score 4536.724316\n",
      "[LightGBM] [Info] Auto-choosing row-wise multi-threading, the overhead of testing was 0.005852 seconds.\n",
      "You can set `force_row_wise=true` to remove the overhead.\n",
      "And if memory is not enough, you can set `force_col_wise=true`.\n",
      "[LightGBM] [Info] Total Bins 664\n",
      "[LightGBM] [Info] Number of data points in the train set: 177631, number of used features: 58\n",
      "[LightGBM] [Info] Start training from score 4543.806886\n",
      "[LightGBM] [Info] Auto-choosing row-wise multi-threading, the overhead of testing was 0.006734 seconds.\n",
      "You can set `force_row_wise=true` to remove the overhead.\n",
      "And if memory is not enough, you can set `force_col_wise=true`.\n",
      "[LightGBM] [Info] Total Bins 664\n",
      "[LightGBM] [Info] Number of data points in the train set: 177632, number of used features: 58\n",
      "[LightGBM] [Info] Start training from score 4544.240970\n",
      "[LightGBM] [Info] Auto-choosing row-wise multi-threading, the overhead of testing was 0.007351 seconds.\n",
      "You can set `force_row_wise=true` to remove the overhead.\n",
      "And if memory is not enough, you can set `force_col_wise=true`.\n",
      "[LightGBM] [Info] Total Bins 661\n",
      "[LightGBM] [Info] Number of data points in the train set: 177631, number of used features: 58\n",
      "[LightGBM] [Info] Start training from score 4549.114102\n",
      "[LightGBM] [Info] Auto-choosing row-wise multi-threading, the overhead of testing was 0.006682 seconds.\n",
      "You can set `force_row_wise=true` to remove the overhead.\n",
      "And if memory is not enough, you can set `force_col_wise=true`.\n",
      "[LightGBM] [Info] Total Bins 662\n",
      "[LightGBM] [Info] Number of data points in the train set: 177631, number of used features: 58\n",
      "[LightGBM] [Info] Start training from score 4535.933745\n",
      "[LightGBM] [Info] Auto-choosing row-wise multi-threading, the overhead of testing was 0.006217 seconds.\n",
      "You can set `force_row_wise=true` to remove the overhead.\n",
      "And if memory is not enough, you can set `force_col_wise=true`.\n",
      "[LightGBM] [Info] Total Bins 663\n",
      "[LightGBM] [Info] Number of data points in the train set: 177631, number of used features: 58\n",
      "[LightGBM] [Info] Start training from score 4536.724316\n",
      "[LightGBM] [Info] Auto-choosing row-wise multi-threading, the overhead of testing was 0.007852 seconds.\n",
      "You can set `force_row_wise=true` to remove the overhead.\n",
      "And if memory is not enough, you can set `force_col_wise=true`.\n",
      "[LightGBM] [Info] Total Bins 664\n",
      "[LightGBM] [Info] Number of data points in the train set: 177631, number of used features: 58\n",
      "[LightGBM] [Info] Start training from score 4543.806886\n",
      "[LightGBM] [Info] Auto-choosing row-wise multi-threading, the overhead of testing was 0.005732 seconds.\n",
      "You can set `force_row_wise=true` to remove the overhead.\n",
      "And if memory is not enough, you can set `force_col_wise=true`.\n",
      "[LightGBM] [Info] Total Bins 664\n",
      "[LightGBM] [Info] Number of data points in the train set: 177632, number of used features: 58\n",
      "[LightGBM] [Info] Start training from score 4544.240970\n",
      "[LightGBM] [Info] Auto-choosing row-wise multi-threading, the overhead of testing was 0.006003 seconds.\n",
      "You can set `force_row_wise=true` to remove the overhead.\n",
      "And if memory is not enough, you can set `force_col_wise=true`.\n",
      "[LightGBM] [Info] Total Bins 661\n",
      "[LightGBM] [Info] Number of data points in the train set: 177631, number of used features: 58\n",
      "[LightGBM] [Info] Start training from score 4549.114102\n",
      "[LightGBM] [Info] Auto-choosing row-wise multi-threading, the overhead of testing was 0.004879 seconds.\n",
      "You can set `force_row_wise=true` to remove the overhead.\n",
      "And if memory is not enough, you can set `force_col_wise=true`.\n",
      "[LightGBM] [Info] Total Bins 662\n",
      "[LightGBM] [Info] Number of data points in the train set: 177631, number of used features: 58\n",
      "[LightGBM] [Info] Start training from score 4535.933745\n",
      "[LightGBM] [Info] Auto-choosing row-wise multi-threading, the overhead of testing was 0.004605 seconds.\n",
      "You can set `force_row_wise=true` to remove the overhead.\n",
      "And if memory is not enough, you can set `force_col_wise=true`.\n",
      "[LightGBM] [Info] Total Bins 663\n",
      "[LightGBM] [Info] Number of data points in the train set: 177631, number of used features: 58\n",
      "[LightGBM] [Info] Start training from score 4536.724316\n",
      "[LightGBM] [Info] Auto-choosing row-wise multi-threading, the overhead of testing was 0.004586 seconds.\n",
      "You can set `force_row_wise=true` to remove the overhead.\n",
      "And if memory is not enough, you can set `force_col_wise=true`.\n",
      "[LightGBM] [Info] Total Bins 664\n",
      "[LightGBM] [Info] Number of data points in the train set: 177631, number of used features: 58\n",
      "[LightGBM] [Info] Start training from score 4543.806886\n",
      "[LightGBM] [Info] Auto-choosing col-wise multi-threading, the overhead of testing was 0.010856 seconds.\n",
      "You can set `force_col_wise=true` to remove the overhead.\n",
      "[LightGBM] [Info] Total Bins 664\n",
      "[LightGBM] [Info] Number of data points in the train set: 177632, number of used features: 58\n",
      "[LightGBM] [Info] Start training from score 4544.240970\n",
      "[LightGBM] [Info] Auto-choosing row-wise multi-threading, the overhead of testing was 0.006061 seconds.\n",
      "You can set `force_row_wise=true` to remove the overhead.\n",
      "And if memory is not enough, you can set `force_col_wise=true`.\n",
      "[LightGBM] [Info] Total Bins 661\n",
      "[LightGBM] [Info] Number of data points in the train set: 177631, number of used features: 58\n",
      "[LightGBM] [Info] Start training from score 4549.114102\n",
      "[LightGBM] [Info] Auto-choosing row-wise multi-threading, the overhead of testing was 0.006601 seconds.\n",
      "You can set `force_row_wise=true` to remove the overhead.\n",
      "And if memory is not enough, you can set `force_col_wise=true`.\n",
      "[LightGBM] [Info] Total Bins 662\n",
      "[LightGBM] [Info] Number of data points in the train set: 177631, number of used features: 58\n",
      "[LightGBM] [Info] Start training from score 4535.933745\n",
      "[LightGBM] [Info] Auto-choosing row-wise multi-threading, the overhead of testing was 0.013366 seconds.\n",
      "You can set `force_row_wise=true` to remove the overhead.\n",
      "And if memory is not enough, you can set `force_col_wise=true`.\n",
      "[LightGBM] [Info] Total Bins 663\n",
      "[LightGBM] [Info] Number of data points in the train set: 177631, number of used features: 58\n",
      "[LightGBM] [Info] Start training from score 4536.724316\n",
      "[LightGBM] [Info] Auto-choosing row-wise multi-threading, the overhead of testing was 0.007150 seconds.\n",
      "You can set `force_row_wise=true` to remove the overhead.\n",
      "And if memory is not enough, you can set `force_col_wise=true`.\n",
      "[LightGBM] [Info] Total Bins 664\n",
      "[LightGBM] [Info] Number of data points in the train set: 177631, number of used features: 58\n",
      "[LightGBM] [Info] Start training from score 4543.806886\n",
      "[LightGBM] [Info] Auto-choosing row-wise multi-threading, the overhead of testing was 0.009221 seconds.\n",
      "You can set `force_row_wise=true` to remove the overhead.\n",
      "And if memory is not enough, you can set `force_col_wise=true`.\n",
      "[LightGBM] [Info] Total Bins 664\n",
      "[LightGBM] [Info] Number of data points in the train set: 177632, number of used features: 58\n",
      "[LightGBM] [Info] Start training from score 4544.240970\n",
      "[LightGBM] [Info] Auto-choosing row-wise multi-threading, the overhead of testing was 0.005896 seconds.\n",
      "You can set `force_row_wise=true` to remove the overhead.\n",
      "And if memory is not enough, you can set `force_col_wise=true`.\n",
      "[LightGBM] [Info] Total Bins 661\n",
      "[LightGBM] [Info] Number of data points in the train set: 177631, number of used features: 58\n",
      "[LightGBM] [Info] Start training from score 4549.114102\n",
      "[LightGBM] [Info] Auto-choosing row-wise multi-threading, the overhead of testing was 0.005423 seconds.\n",
      "You can set `force_row_wise=true` to remove the overhead.\n",
      "And if memory is not enough, you can set `force_col_wise=true`.\n",
      "[LightGBM] [Info] Total Bins 662\n",
      "[LightGBM] [Info] Number of data points in the train set: 177631, number of used features: 58\n",
      "[LightGBM] [Info] Start training from score 4535.933745\n",
      "[LightGBM] [Info] Auto-choosing row-wise multi-threading, the overhead of testing was 0.006358 seconds.\n",
      "You can set `force_row_wise=true` to remove the overhead.\n",
      "And if memory is not enough, you can set `force_col_wise=true`.\n",
      "[LightGBM] [Info] Total Bins 663\n",
      "[LightGBM] [Info] Number of data points in the train set: 177631, number of used features: 58\n",
      "[LightGBM] [Info] Start training from score 4536.724316\n",
      "[LightGBM] [Info] Auto-choosing row-wise multi-threading, the overhead of testing was 0.004375 seconds.\n",
      "You can set `force_row_wise=true` to remove the overhead.\n",
      "And if memory is not enough, you can set `force_col_wise=true`.\n",
      "[LightGBM] [Info] Total Bins 664\n",
      "[LightGBM] [Info] Number of data points in the train set: 177631, number of used features: 58\n",
      "[LightGBM] [Info] Start training from score 4543.806886\n",
      "[LightGBM] [Info] Auto-choosing row-wise multi-threading, the overhead of testing was 0.005329 seconds.\n",
      "You can set `force_row_wise=true` to remove the overhead.\n",
      "And if memory is not enough, you can set `force_col_wise=true`.\n",
      "[LightGBM] [Info] Total Bins 664\n",
      "[LightGBM] [Info] Number of data points in the train set: 177632, number of used features: 58\n",
      "[LightGBM] [Info] Start training from score 4544.240970\n",
      "[LightGBM] [Info] Auto-choosing row-wise multi-threading, the overhead of testing was 0.004949 seconds.\n",
      "You can set `force_row_wise=true` to remove the overhead.\n",
      "And if memory is not enough, you can set `force_col_wise=true`.\n",
      "[LightGBM] [Info] Total Bins 661\n",
      "[LightGBM] [Info] Number of data points in the train set: 177631, number of used features: 58\n",
      "[LightGBM] [Info] Start training from score 4549.114102\n",
      "[LightGBM] [Info] Auto-choosing row-wise multi-threading, the overhead of testing was 0.005424 seconds.\n",
      "You can set `force_row_wise=true` to remove the overhead.\n",
      "And if memory is not enough, you can set `force_col_wise=true`.\n",
      "[LightGBM] [Info] Total Bins 662\n",
      "[LightGBM] [Info] Number of data points in the train set: 177631, number of used features: 58\n",
      "[LightGBM] [Info] Start training from score 4535.933745\n",
      "[LightGBM] [Info] Auto-choosing row-wise multi-threading, the overhead of testing was 0.009011 seconds.\n",
      "You can set `force_row_wise=true` to remove the overhead.\n",
      "And if memory is not enough, you can set `force_col_wise=true`.\n",
      "[LightGBM] [Info] Total Bins 663\n",
      "[LightGBM] [Info] Number of data points in the train set: 177631, number of used features: 58\n",
      "[LightGBM] [Info] Start training from score 4536.724316\n",
      "[LightGBM] [Info] Auto-choosing row-wise multi-threading, the overhead of testing was 0.008428 seconds.\n",
      "You can set `force_row_wise=true` to remove the overhead.\n",
      "And if memory is not enough, you can set `force_col_wise=true`.\n",
      "[LightGBM] [Info] Total Bins 664\n",
      "[LightGBM] [Info] Number of data points in the train set: 177631, number of used features: 58\n",
      "[LightGBM] [Info] Start training from score 4543.806886\n",
      "[LightGBM] [Info] Auto-choosing row-wise multi-threading, the overhead of testing was 0.005415 seconds.\n",
      "You can set `force_row_wise=true` to remove the overhead.\n",
      "And if memory is not enough, you can set `force_col_wise=true`.\n",
      "[LightGBM] [Info] Total Bins 664\n",
      "[LightGBM] [Info] Number of data points in the train set: 177632, number of used features: 58\n",
      "[LightGBM] [Info] Start training from score 4544.240970\n",
      "[LightGBM] [Info] Auto-choosing row-wise multi-threading, the overhead of testing was 0.010983 seconds.\n",
      "You can set `force_row_wise=true` to remove the overhead.\n",
      "And if memory is not enough, you can set `force_col_wise=true`.\n",
      "[LightGBM] [Info] Total Bins 663\n",
      "[LightGBM] [Info] Number of data points in the train set: 222039, number of used features: 58\n",
      "[LightGBM] [Info] Start training from score 4541.964006\n",
      "{'n_estimators': 200, 'num_leaves': 100, 'random_state': 12345}\n",
      "1735.0994732668703\n",
      "CPU times: user 2min 46s, sys: 1min 9s, total: 3min 56s\n",
      "Wall time: 48 s\n"
     ]
    }
   ],
   "source": [
    "%%time\n",
    "grid.fit(X_train, y_train)\n",
    "print(grid.best_params_)\n",
    "print(grid.best_score_ * (-1))"
   ]
  },
  {
   "cell_type": "markdown",
   "id": "d6645d1d-ddb1-438a-80da-d3b5b00188e4",
   "metadata": {},
   "source": [
    "Видим хорошее значение RMSE на кросс-валидации (ниже целевого порога в 2500)\n",
    "\n",
    "Видим, что лучшие значения параметров следующие: n_estimators — 200, num_leaves — 100."
   ]
  },
  {
   "cell_type": "markdown",
   "id": "3e29d852-1336-4dad-afdd-83bb8d1e8fbe",
   "metadata": {},
   "source": [
    "### Решающее дерево"
   ]
  },
  {
   "cell_type": "markdown",
   "id": "39bba7e6-dab0-4bdf-931c-3f2d4b5b4c7d",
   "metadata": {},
   "source": [
    "Обучим модель решающего дерева и получим лучшие гиперпараметры для него."
   ]
  },
  {
   "cell_type": "code",
   "execution_count": 82,
   "id": "59a09f45-8274-4dd1-b863-5edfc9d42216",
   "metadata": {},
   "outputs": [],
   "source": [
    "model_dtreer = DecisionTreeRegressor()"
   ]
  },
  {
   "cell_type": "code",
   "execution_count": 83,
   "id": "492902c8-7df6-43ca-852c-c3105046a01f",
   "metadata": {},
   "outputs": [],
   "source": [
    "params = {\n",
    "    'max_depth': [2, 5, 10],\n",
    "    'random_state': [RANDOM_STATE]\n",
    "}"
   ]
  },
  {
   "cell_type": "code",
   "execution_count": 84,
   "id": "b9cb6b02-9c48-43e2-833a-6a37b82b4b8a",
   "metadata": {},
   "outputs": [
    {
     "name": "stdout",
     "output_type": "stream",
     "text": [
      "CPU times: user 0 ns, sys: 440 μs, total: 440 μs\n",
      "Wall time: 249 μs\n"
     ]
    }
   ],
   "source": [
    "%%time\n",
    "grid = GridSearchCV(\n",
    "    model_dtreer,\n",
    "    params,\n",
    "    scoring = 'neg_root_mean_squared_error'\n",
    ")"
   ]
  },
  {
   "cell_type": "code",
   "execution_count": 85,
   "id": "135b4721-37f4-4b31-ad6a-f223d0815bbd",
   "metadata": {},
   "outputs": [
    {
     "name": "stdout",
     "output_type": "stream",
     "text": [
      "{'max_depth': 10, 'random_state': 12345}\n",
      "2135.017032626328\n"
     ]
    }
   ],
   "source": [
    "grid.fit(X_train, y_train)\n",
    "print(grid.best_params_)\n",
    "print(grid.best_score_ * (-1))"
   ]
  },
  {
   "cell_type": "markdown",
   "id": "381a4467-bc5c-4bd3-bae0-7eadddb572dc",
   "metadata": {},
   "source": [
    "Видим в целом удовлетворительный показатель RMSE на кросс-валидации (ниже 2500), но это хуже, чем у LightGBM."
   ]
  },
  {
   "cell_type": "markdown",
   "id": "1005506a-f1c0-451a-9dc9-bd063f034270",
   "metadata": {},
   "source": [
    "### Случайный лес"
   ]
  },
  {
   "cell_type": "markdown",
   "id": "4eca90e3-bbb9-4e9d-a18b-6a7e945c727f",
   "metadata": {},
   "source": [
    "Обучим модель случайного леса и найдем лучшие значения гиперпараметров для нее."
   ]
  },
  {
   "cell_type": "code",
   "execution_count": 86,
   "id": "10b89451-75d1-459a-bc6c-3211be50b3f0",
   "metadata": {},
   "outputs": [],
   "source": [
    "model_rforr = RandomForestRegressor()"
   ]
  },
  {
   "cell_type": "code",
   "execution_count": 87,
   "id": "a8a68e61-5e9d-4b04-be19-8c7a0e17ad7e",
   "metadata": {},
   "outputs": [],
   "source": [
    "params = {\n",
    "    'n_estimators': [10],\n",
    "    'max_depth': [2, 5, 10],\n",
    "    'random_state': [RANDOM_STATE]\n",
    "}"
   ]
  },
  {
   "cell_type": "code",
   "execution_count": 88,
   "id": "fd2c6cac-aa4e-4e28-b4da-7ec76821d521",
   "metadata": {},
   "outputs": [],
   "source": [
    "grid = GridSearchCV(\n",
    "    model_rforr,\n",
    "    params,\n",
    "    scoring = 'neg_root_mean_squared_error'\n",
    ")"
   ]
  },
  {
   "cell_type": "code",
   "execution_count": 89,
   "id": "bde124aa-67bd-49fe-8796-6b68a1e8fd45",
   "metadata": {},
   "outputs": [
    {
     "name": "stdout",
     "output_type": "stream",
     "text": [
      "{'max_depth': 10, 'n_estimators': 10, 'random_state': 12345}\n",
      "2043.6355362742474\n",
      "CPU times: user 36.1 s, sys: 52.5 ms, total: 36.2 s\n",
      "Wall time: 36.2 s\n"
     ]
    }
   ],
   "source": [
    "%%time\n",
    "grid.fit(X_train, y_train)\n",
    "print(grid.best_params_)\n",
    "print(grid.best_score_ * (-1))"
   ]
  },
  {
   "cell_type": "markdown",
   "id": "cc94d9fc-1ccc-4816-8c5a-c1b9a024967f",
   "metadata": {},
   "source": [
    "Видим, что значение RMSE на кросс-валидации удовлетворительно (ниже 2500) и лучше, чем у решающего дерева, но хуже, чем у LightGBM."
   ]
  },
  {
   "cell_type": "markdown",
   "id": "eb2cc40a-d64b-461d-9694-aab1bc9404ea",
   "metadata": {},
   "source": [
    "### Оценка работы моделей"
   ]
  },
  {
   "cell_type": "markdown",
   "id": "cffd5192-fc5d-483b-abff-5d507c602856",
   "metadata": {},
   "source": [
    "Посмотрим как ведут себя модели с наилучшими параметрами"
   ]
  },
  {
   "cell_type": "markdown",
   "id": "3fabcc10-6799-485f-98dc-009ebc33a840",
   "metadata": {},
   "source": [
    "#### LightGBM"
   ]
  },
  {
   "cell_type": "markdown",
   "id": "d2830c8b-b0fa-4df0-9cc1-96999984b486",
   "metadata": {},
   "source": [
    "##### Время обучения"
   ]
  },
  {
   "cell_type": "code",
   "execution_count": 90,
   "id": "63c00406-d51f-4042-99db-3a46ebc11053",
   "metadata": {},
   "outputs": [
    {
     "name": "stdout",
     "output_type": "stream",
     "text": [
      "[LightGBM] [Info] Auto-choosing row-wise multi-threading, the overhead of testing was 0.011211 seconds.\n",
      "You can set `force_row_wise=true` to remove the overhead.\n",
      "And if memory is not enough, you can set `force_col_wise=true`.\n",
      "[LightGBM] [Info] Total Bins 663\n",
      "[LightGBM] [Info] Number of data points in the train set: 222039, number of used features: 58\n",
      "[LightGBM] [Info] Start training from score 4541.964006\n",
      "CPU times: user 5.25 s, sys: 3.08 s, total: 8.33 s\n",
      "Wall time: 1.71 s\n"
     ]
    }
   ],
   "source": [
    "%%time\n",
    "lgbm = LGBMRegressor(n_estimators=200, num_leaves=100, random_state=RANDOM_STATE)\n",
    "lgbm.fit(X_train, y_train);"
   ]
  },
  {
   "cell_type": "markdown",
   "id": "107852b3-5a4c-48d2-acf5-47327a44ad66",
   "metadata": {},
   "source": [
    "Обучение проходит достаточно быстро."
   ]
  },
  {
   "cell_type": "markdown",
   "id": "9e8ab664-7952-416a-9992-673cffe4b4b7",
   "metadata": {},
   "source": [
    "##### Время предсказания"
   ]
  },
  {
   "cell_type": "code",
   "execution_count": 91,
   "id": "202e8a01-535d-4f26-a6cb-8f2b75fc1ba0",
   "metadata": {},
   "outputs": [
    {
     "name": "stdout",
     "output_type": "stream",
     "text": [
      "CPU times: user 1.27 s, sys: 0 ns, total: 1.27 s\n",
      "Wall time: 139 ms\n"
     ]
    },
    {
     "data": {
      "text/plain": [
       "array([ 3174.61746432,   716.39590857, 11940.21313838, ...,\n",
       "        6234.29462152,  2934.9294939 ,  2199.35846479])"
      ]
     },
     "execution_count": 91,
     "metadata": {},
     "output_type": "execute_result"
    }
   ],
   "source": [
    "%%time\n",
    "lgbm.predict(X_test)"
   ]
  },
  {
   "cell_type": "markdown",
   "id": "3de6dabf-b892-4d8e-b8ae-ec98fe861426",
   "metadata": {},
   "source": [
    "#### Решающее дерево"
   ]
  },
  {
   "cell_type": "markdown",
   "id": "0ddeff65-d994-4ca5-ab86-4020aea75aec",
   "metadata": {},
   "source": [
    "##### Время обучения"
   ]
  },
  {
   "cell_type": "code",
   "execution_count": 92,
   "id": "761b100e-d260-428d-bcdd-263b0a7a8433",
   "metadata": {},
   "outputs": [
    {
     "name": "stdout",
     "output_type": "stream",
     "text": [
      "CPU times: user 843 ms, sys: 4.76 ms, total: 847 ms\n",
      "Wall time: 844 ms\n"
     ]
    }
   ],
   "source": [
    "%%time\n",
    "model_dtreer = DecisionTreeRegressor(max_depth=10, random_state=RANDOM_STATE)\n",
    "model_dtreer.fit(X_train, y_train);"
   ]
  },
  {
   "cell_type": "markdown",
   "id": "fb0240b1-e86f-4c3d-a80b-a9462cbafc0a",
   "metadata": {},
   "source": [
    "Время обучения дольше, чем у LightGBM."
   ]
  },
  {
   "cell_type": "markdown",
   "id": "8b234058-14a6-40ed-8144-62d29ae550d3",
   "metadata": {},
   "source": [
    "##### Время предсказания"
   ]
  },
  {
   "cell_type": "code",
   "execution_count": 93,
   "id": "2b9a921a-f686-4af7-b873-fa1bba720e66",
   "metadata": {},
   "outputs": [
    {
     "name": "stdout",
     "output_type": "stream",
     "text": [
      "CPU times: user 17.2 ms, sys: 0 ns, total: 17.2 ms\n",
      "Wall time: 15.8 ms\n"
     ]
    },
    {
     "data": {
      "text/plain": [
       "array([ 2896.7367573 ,   847.85572687, 13007.91428571, ...,\n",
       "        5836.0466067 ,  2981.26468507,  2745.92647059])"
      ]
     },
     "execution_count": 93,
     "metadata": {},
     "output_type": "execute_result"
    }
   ],
   "source": [
    "%%time\n",
    "model_dtreer.predict(X_test)"
   ]
  },
  {
   "cell_type": "markdown",
   "id": "7cd135cd-5815-4f89-99c1-c87bad844730",
   "metadata": {},
   "source": [
    "Предсказания у решающего дерева очень быстрое."
   ]
  },
  {
   "cell_type": "markdown",
   "id": "23882519-a717-4e95-a284-49a70d3455a2",
   "metadata": {},
   "source": [
    "#### Случайный лес"
   ]
  },
  {
   "cell_type": "markdown",
   "id": "e4fe04bc-5a02-468b-a64f-441ea04a0a16",
   "metadata": {},
   "source": [
    "##### Время обучения"
   ]
  },
  {
   "cell_type": "code",
   "execution_count": 94,
   "id": "07474846-984c-4b4e-ac3f-c58b85e969a2",
   "metadata": {},
   "outputs": [
    {
     "name": "stdout",
     "output_type": "stream",
     "text": [
      "CPU times: user 4.78 s, sys: 0 ns, total: 4.78 s\n",
      "Wall time: 4.78 s\n"
     ]
    }
   ],
   "source": [
    "%%time\n",
    "model_rforr = RandomForestRegressor(max_depth=10, n_estimators=10, random_state=RANDOM_STATE)\n",
    "model_rforr.fit(X_train, y_train);"
   ]
  },
  {
   "cell_type": "markdown",
   "id": "e88c73cc-1f3d-41ee-b0fb-defd2330b872",
   "metadata": {},
   "source": [
    "Время обучения заметно дольше всех."
   ]
  },
  {
   "cell_type": "markdown",
   "id": "48baae14-4855-4615-b49c-4b7667ee136f",
   "metadata": {},
   "source": [
    "##### Время предсказания"
   ]
  },
  {
   "cell_type": "code",
   "execution_count": 95,
   "id": "7f081fb6-312e-4f41-b09d-fe72518c6259",
   "metadata": {},
   "outputs": [
    {
     "name": "stdout",
     "output_type": "stream",
     "text": [
      "CPU times: user 68.7 ms, sys: 0 ns, total: 68.7 ms\n",
      "Wall time: 63.2 ms\n"
     ]
    },
    {
     "data": {
      "text/plain": [
       "array([ 3411.30352002,   882.8218209 , 11442.91708599, ...,\n",
       "        6010.95953014,  2987.04081463,  2772.02866479])"
      ]
     },
     "execution_count": 95,
     "metadata": {},
     "output_type": "execute_result"
    }
   ],
   "source": [
    "%%time\n",
    "model_rforr.predict(X_test)"
   ]
  },
  {
   "cell_type": "markdown",
   "id": "ccaec407-a79c-4ce3-8035-147e05a17f19",
   "metadata": {},
   "source": [
    "Предсказание проходит довольно быстро."
   ]
  },
  {
   "cell_type": "markdown",
   "id": "d97b76d0-79ae-4686-a26b-260352989d69",
   "metadata": {},
   "source": [
    "С точки зрения качества, то на кросс-валидации заметно лучший RMSE продемонстрировала модель LightGBM.\n",
    "Выберем ее в качестве лучшей и оценим ее качество на тестовой выборке."
   ]
  },
  {
   "cell_type": "markdown",
   "id": "edab80fa-4fe3-4e41-a5f6-09d9988a72da",
   "metadata": {},
   "source": [
    "#### Качество лучшей модели на тестовой выборке"
   ]
  },
  {
   "cell_type": "markdown",
   "id": "d4fe667f-b3f5-4a14-a597-f21f781ae8fd",
   "metadata": {},
   "source": [
    "Оценим RMSE у LightGBM на тестовой выборке."
   ]
  },
  {
   "cell_type": "code",
   "execution_count": 96,
   "id": "cacb875c-f895-4a57-a95c-39dd01953635",
   "metadata": {},
   "outputs": [
    {
     "name": "stderr",
     "output_type": "stream",
     "text": [
      "/usr/lib64/python3.11/site-packages/sklearn/metrics/_regression.py:492: FutureWarning: 'squared' is deprecated in version 1.4 and will be removed in 1.6. To calculate the root mean squared error, use the function'root_mean_squared_error'.\n",
      "  warnings.warn(\n"
     ]
    },
    {
     "data": {
      "text/plain": [
       "np.float64(1728.4586438802528)"
      ]
     },
     "execution_count": 96,
     "metadata": {},
     "output_type": "execute_result"
    }
   ],
   "source": [
    "try:\n",
    "    rmse = mean_squared_error(y_test, lgbm.predict(X_test), squared=False)\n",
    "except:\n",
    "    rmse = root_mean_squared_error(y_test, lgbm.predict(X_test))\n",
    "\n",
    "rmse"
   ]
  },
  {
   "cell_type": "markdown",
   "id": "e29f7e96-b1d3-4548-9fba-cda568b6f417",
   "metadata": {},
   "source": [
    "Качество модели удовлетворяет условию."
   ]
  },
  {
   "cell_type": "markdown",
   "id": "20d082ea-6830-4842-a28d-304f11da493d",
   "metadata": {},
   "source": [
    "## Вывод"
   ]
  },
  {
   "cell_type": "markdown",
   "id": "009b5dd5-5687-4e0c-9aa4-bcf814870f9d",
   "metadata": {},
   "source": [
    "Был проведен анализ данных и получены следующие результаты:\n",
    "\n",
    "На этапе осмотра и предобработки данных в представленном датасете были исправлены названия столбцов (приведены к стандартному стилю),\n",
    "обнаружены и исправлены скрытые повторы данных, были заполнены пропуски в данных, а также удалены явные дубликаты.\n",
    "\n",
    "Были обучены 3 модели регрессии — LightGBM, решающее дерево и случайный лес — и найдены лучшие значения гиперпараметров этих моделей.\n",
    "Лучшее значение RMSE продемонстрировала модель LightGBM.\n",
    "\n",
    "С точки зрения скорости работы, то модель LightGBM продемонстрировала приемлемое время обучения и предсказания, тогда как у случайного леса\n",
    "время обучения заметно дольше всех.\n",
    "\n",
    "В качестве лучшей была выбрана модель LightGBM, т.к. имеет оптимальные характеристики времени обучения и предсказания, а также лучший RMSE.\n",
    "Проверка качества на тестовой выборке также продемонстрировала хороший результат с точки зрения качества по метрике RMSE."
   ]
  },
  {
   "cell_type": "code",
   "execution_count": null,
   "id": "18319b16-8b5c-4109-a293-104d8b61e57e",
   "metadata": {},
   "outputs": [],
   "source": []
  }
 ],
 "metadata": {
  "kernelspec": {
   "display_name": "Python 3 (ipykernel)",
   "language": "python",
   "name": "python3"
  },
  "language_info": {
   "codemirror_mode": {
    "name": "ipython",
    "version": 3
   },
   "file_extension": ".py",
   "mimetype": "text/x-python",
   "name": "python",
   "nbconvert_exporter": "python",
   "pygments_lexer": "ipython3",
   "version": "3.13.2"
  },
  "toc": {
   "base_numbering": 1,
   "nav_menu": {},
   "number_sections": true,
   "sideBar": true,
   "skip_h1_title": true,
   "title_cell": "Table of Contents",
   "title_sidebar": "Contents",
   "toc_cell": false,
   "toc_position": {},
   "toc_section_display": true,
   "toc_window_display": false
  }
 },
 "nbformat": 4,
 "nbformat_minor": 5
}

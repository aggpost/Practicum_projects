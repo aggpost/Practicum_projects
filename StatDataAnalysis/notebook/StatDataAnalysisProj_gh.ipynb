{
 "cells": [
  {
   "cell_type": "markdown",
   "id": "e69acb68-a2e6-4e2d-a858-dbd4bb82b16a",
   "metadata": {},
   "source": [
    "# Проект «Аренда самокатов»"
   ]
  },
  {
   "cell_type": "markdown",
   "id": "26a0b908-63f2-485f-bf6f-c9c63199ee17",
   "metadata": {},
   "source": [
    "У нас имеются данные сервиса аренды самокатов.\n",
    "Данные представляют собой информацию о некоторых пользователях из нескольких городов, а также об их поездках.\n",
    "Структурно данные содержатся в 3 разных файлах: пользователи, поездки, подписки."
   ]
  },
  {
   "cell_type": "markdown",
   "id": "3a6053e4-ccb3-4bed-9c21-c9e1fcc4ca88",
   "metadata": {},
   "source": [
    "#### Задача"
   ]
  },
  {
   "cell_type": "markdown",
   "id": "02d5c681-1e64-470e-9378-c5d16d0c901c",
   "metadata": {},
   "source": [
    "Проанализировать данные и проверить некоторые гипотезы в интересах бизнеса, выводы о которых могут способствовать его росту."
   ]
  },
  {
   "cell_type": "code",
   "execution_count": 1,
   "id": "cbcb5fb1-790a-48bc-a281-9dd07cd8d747",
   "metadata": {},
   "outputs": [],
   "source": [
    "import pandas as pd\n",
    "import matplotlib.pyplot as plt\n",
    "import numpy\n",
    "from scipy import stats as st"
   ]
  },
  {
   "cell_type": "code",
   "execution_count": 2,
   "id": "c0213e6c-904f-407f-b973-a6801b620728",
   "metadata": {},
   "outputs": [],
   "source": [
    "pd.set_option('display.width', 300)\n",
    "pd.set_option('display.max_columns', 40)"
   ]
  },
  {
   "cell_type": "code",
   "execution_count": 3,
   "id": "02b11806-82e1-4368-b876-bf7f27dbd946",
   "metadata": {},
   "outputs": [],
   "source": [
    "url = '~/Documents/DataScience/StatDataAnalysis/'"
   ]
  },
  {
   "cell_type": "code",
   "execution_count": 4,
   "id": "43aa6300-0721-4be5-9d8a-3966f0451e1f",
   "metadata": {},
   "outputs": [],
   "source": [
    "try:\n",
    "    data_users = pd.read_csv('/datasets/users_go.csv')\n",
    "except:\n",
    "    data_users = pd.read_csv(url + 'users_go.csv')"
   ]
  },
  {
   "cell_type": "code",
   "execution_count": 5,
   "id": "ee0d9676-8ad0-4a1a-804c-2e44d471ca31",
   "metadata": {},
   "outputs": [],
   "source": [
    "try:\n",
    "    data_rides = pd.read_csv('/datasets/rides_go.csv')\n",
    "except:\n",
    "    data_rides = pd.read_csv(url + 'rides_go.csv')"
   ]
  },
  {
   "cell_type": "code",
   "execution_count": 6,
   "id": "3577e8f0-28e2-49c5-91f3-2156e65a02be",
   "metadata": {},
   "outputs": [],
   "source": [
    "try:\n",
    "    data_subs = pd.read_csv('/datasets/subscriptions_go.csv')\n",
    "except:\n",
    "    data_subs = pd.read_csv(url + 'subscriptions_go.csv')"
   ]
  },
  {
   "cell_type": "markdown",
   "id": "4ed6c770-233b-4e1e-879d-aeab05b2e328",
   "metadata": {},
   "source": [
    "Посмотрим первые строки каждого набора данных:"
   ]
  },
  {
   "cell_type": "code",
   "execution_count": 7,
   "id": "43042094-2de8-49b5-beb4-1cf24e3d7a3f",
   "metadata": {},
   "outputs": [
    {
     "data": {
      "text/html": [
       "<div>\n",
       "<style scoped>\n",
       "    .dataframe tbody tr th:only-of-type {\n",
       "        vertical-align: middle;\n",
       "    }\n",
       "\n",
       "    .dataframe tbody tr th {\n",
       "        vertical-align: top;\n",
       "    }\n",
       "\n",
       "    .dataframe thead th {\n",
       "        text-align: right;\n",
       "    }\n",
       "</style>\n",
       "<table border=\"1\" class=\"dataframe\">\n",
       "  <thead>\n",
       "    <tr style=\"text-align: right;\">\n",
       "      <th></th>\n",
       "      <th>user_id</th>\n",
       "      <th>name</th>\n",
       "      <th>age</th>\n",
       "      <th>city</th>\n",
       "      <th>subscription_type</th>\n",
       "    </tr>\n",
       "  </thead>\n",
       "  <tbody>\n",
       "    <tr>\n",
       "      <th>0</th>\n",
       "      <td>1</td>\n",
       "      <td>Кира</td>\n",
       "      <td>22</td>\n",
       "      <td>Тюмень</td>\n",
       "      <td>ultra</td>\n",
       "    </tr>\n",
       "    <tr>\n",
       "      <th>1</th>\n",
       "      <td>2</td>\n",
       "      <td>Станислав</td>\n",
       "      <td>31</td>\n",
       "      <td>Омск</td>\n",
       "      <td>ultra</td>\n",
       "    </tr>\n",
       "    <tr>\n",
       "      <th>2</th>\n",
       "      <td>3</td>\n",
       "      <td>Алексей</td>\n",
       "      <td>20</td>\n",
       "      <td>Москва</td>\n",
       "      <td>ultra</td>\n",
       "    </tr>\n",
       "    <tr>\n",
       "      <th>3</th>\n",
       "      <td>4</td>\n",
       "      <td>Константин</td>\n",
       "      <td>26</td>\n",
       "      <td>Ростов-на-Дону</td>\n",
       "      <td>ultra</td>\n",
       "    </tr>\n",
       "    <tr>\n",
       "      <th>4</th>\n",
       "      <td>5</td>\n",
       "      <td>Адель</td>\n",
       "      <td>28</td>\n",
       "      <td>Омск</td>\n",
       "      <td>ultra</td>\n",
       "    </tr>\n",
       "  </tbody>\n",
       "</table>\n",
       "</div>"
      ],
      "text/plain": [
       "   user_id        name  age            city subscription_type\n",
       "0        1        Кира   22          Тюмень             ultra\n",
       "1        2   Станислав   31            Омск             ultra\n",
       "2        3     Алексей   20          Москва             ultra\n",
       "3        4  Константин   26  Ростов-на-Дону             ultra\n",
       "4        5       Адель   28            Омск             ultra"
      ]
     },
     "execution_count": 7,
     "metadata": {},
     "output_type": "execute_result"
    }
   ],
   "source": [
    "data_users.head()"
   ]
  },
  {
   "cell_type": "code",
   "execution_count": 8,
   "id": "6a211f8a-1008-459c-965b-e9965ebf5617",
   "metadata": {},
   "outputs": [
    {
     "data": {
      "text/html": [
       "<div>\n",
       "<style scoped>\n",
       "    .dataframe tbody tr th:only-of-type {\n",
       "        vertical-align: middle;\n",
       "    }\n",
       "\n",
       "    .dataframe tbody tr th {\n",
       "        vertical-align: top;\n",
       "    }\n",
       "\n",
       "    .dataframe thead th {\n",
       "        text-align: right;\n",
       "    }\n",
       "</style>\n",
       "<table border=\"1\" class=\"dataframe\">\n",
       "  <thead>\n",
       "    <tr style=\"text-align: right;\">\n",
       "      <th></th>\n",
       "      <th>user_id</th>\n",
       "      <th>distance</th>\n",
       "      <th>duration</th>\n",
       "      <th>date</th>\n",
       "    </tr>\n",
       "  </thead>\n",
       "  <tbody>\n",
       "    <tr>\n",
       "      <th>0</th>\n",
       "      <td>1</td>\n",
       "      <td>4409.919140</td>\n",
       "      <td>25.599769</td>\n",
       "      <td>2021-01-01</td>\n",
       "    </tr>\n",
       "    <tr>\n",
       "      <th>1</th>\n",
       "      <td>1</td>\n",
       "      <td>2617.592153</td>\n",
       "      <td>15.816871</td>\n",
       "      <td>2021-01-18</td>\n",
       "    </tr>\n",
       "    <tr>\n",
       "      <th>2</th>\n",
       "      <td>1</td>\n",
       "      <td>754.159807</td>\n",
       "      <td>6.232113</td>\n",
       "      <td>2021-04-20</td>\n",
       "    </tr>\n",
       "    <tr>\n",
       "      <th>3</th>\n",
       "      <td>1</td>\n",
       "      <td>2694.783254</td>\n",
       "      <td>18.511000</td>\n",
       "      <td>2021-08-11</td>\n",
       "    </tr>\n",
       "    <tr>\n",
       "      <th>4</th>\n",
       "      <td>1</td>\n",
       "      <td>4028.687306</td>\n",
       "      <td>26.265803</td>\n",
       "      <td>2021-08-28</td>\n",
       "    </tr>\n",
       "  </tbody>\n",
       "</table>\n",
       "</div>"
      ],
      "text/plain": [
       "   user_id     distance   duration        date\n",
       "0        1  4409.919140  25.599769  2021-01-01\n",
       "1        1  2617.592153  15.816871  2021-01-18\n",
       "2        1   754.159807   6.232113  2021-04-20\n",
       "3        1  2694.783254  18.511000  2021-08-11\n",
       "4        1  4028.687306  26.265803  2021-08-28"
      ]
     },
     "execution_count": 8,
     "metadata": {},
     "output_type": "execute_result"
    }
   ],
   "source": [
    "data_rides.head()"
   ]
  },
  {
   "cell_type": "code",
   "execution_count": 9,
   "id": "5248556e-5098-4557-a2ff-3000956e183e",
   "metadata": {},
   "outputs": [
    {
     "data": {
      "text/html": [
       "<div>\n",
       "<style scoped>\n",
       "    .dataframe tbody tr th:only-of-type {\n",
       "        vertical-align: middle;\n",
       "    }\n",
       "\n",
       "    .dataframe tbody tr th {\n",
       "        vertical-align: top;\n",
       "    }\n",
       "\n",
       "    .dataframe thead th {\n",
       "        text-align: right;\n",
       "    }\n",
       "</style>\n",
       "<table border=\"1\" class=\"dataframe\">\n",
       "  <thead>\n",
       "    <tr style=\"text-align: right;\">\n",
       "      <th></th>\n",
       "      <th>subscription_type</th>\n",
       "      <th>minute_price</th>\n",
       "      <th>start_ride_price</th>\n",
       "      <th>subscription_fee</th>\n",
       "    </tr>\n",
       "  </thead>\n",
       "  <tbody>\n",
       "    <tr>\n",
       "      <th>0</th>\n",
       "      <td>free</td>\n",
       "      <td>8</td>\n",
       "      <td>50</td>\n",
       "      <td>0</td>\n",
       "    </tr>\n",
       "    <tr>\n",
       "      <th>1</th>\n",
       "      <td>ultra</td>\n",
       "      <td>6</td>\n",
       "      <td>0</td>\n",
       "      <td>199</td>\n",
       "    </tr>\n",
       "  </tbody>\n",
       "</table>\n",
       "</div>"
      ],
      "text/plain": [
       "  subscription_type  minute_price  start_ride_price  subscription_fee\n",
       "0              free             8                50                 0\n",
       "1             ultra             6                 0               199"
      ]
     },
     "execution_count": 9,
     "metadata": {},
     "output_type": "execute_result"
    }
   ],
   "source": [
    "data_subs.head()"
   ]
  },
  {
   "cell_type": "markdown",
   "id": "a20bd424-8691-4160-a90e-415525a36811",
   "metadata": {},
   "source": [
    "Посмотрим информацию о датасетах:"
   ]
  },
  {
   "cell_type": "code",
   "execution_count": 10,
   "id": "ba69a290-68f4-4756-b4f2-3078112cc1bf",
   "metadata": {},
   "outputs": [
    {
     "name": "stdout",
     "output_type": "stream",
     "text": [
      "<class 'pandas.core.frame.DataFrame'>\n",
      "RangeIndex: 1565 entries, 0 to 1564\n",
      "Data columns (total 5 columns):\n",
      " #   Column             Non-Null Count  Dtype \n",
      "---  ------             --------------  ----- \n",
      " 0   user_id            1565 non-null   int64 \n",
      " 1   name               1565 non-null   object\n",
      " 2   age                1565 non-null   int64 \n",
      " 3   city               1565 non-null   object\n",
      " 4   subscription_type  1565 non-null   object\n",
      "dtypes: int64(2), object(3)\n",
      "memory usage: 61.3+ KB\n"
     ]
    }
   ],
   "source": [
    "data_users.info()"
   ]
  },
  {
   "cell_type": "code",
   "execution_count": 11,
   "id": "8b9c207f-7afd-4917-aa97-6cde21dd7d18",
   "metadata": {},
   "outputs": [
    {
     "name": "stdout",
     "output_type": "stream",
     "text": [
      "<class 'pandas.core.frame.DataFrame'>\n",
      "RangeIndex: 18068 entries, 0 to 18067\n",
      "Data columns (total 4 columns):\n",
      " #   Column    Non-Null Count  Dtype  \n",
      "---  ------    --------------  -----  \n",
      " 0   user_id   18068 non-null  int64  \n",
      " 1   distance  18068 non-null  float64\n",
      " 2   duration  18068 non-null  float64\n",
      " 3   date      18068 non-null  object \n",
      "dtypes: float64(2), int64(1), object(1)\n",
      "memory usage: 564.8+ KB\n"
     ]
    }
   ],
   "source": [
    "data_rides.info()"
   ]
  },
  {
   "cell_type": "code",
   "execution_count": 12,
   "id": "a924e654-ee0b-41d1-aef7-45115a54fa04",
   "metadata": {},
   "outputs": [
    {
     "name": "stdout",
     "output_type": "stream",
     "text": [
      "<class 'pandas.core.frame.DataFrame'>\n",
      "RangeIndex: 2 entries, 0 to 1\n",
      "Data columns (total 4 columns):\n",
      " #   Column             Non-Null Count  Dtype \n",
      "---  ------             --------------  ----- \n",
      " 0   subscription_type  2 non-null      object\n",
      " 1   minute_price       2 non-null      int64 \n",
      " 2   start_ride_price   2 non-null      int64 \n",
      " 3   subscription_fee   2 non-null      int64 \n",
      "dtypes: int64(3), object(1)\n",
      "memory usage: 196.0+ bytes\n"
     ]
    }
   ],
   "source": [
    "data_subs.info()"
   ]
  },
  {
   "cell_type": "markdown",
   "id": "82715622-9702-4357-aa25-d16c242badab",
   "metadata": {},
   "source": [
    "Мы видим, что таблицы полные, пропусков нет (количество непустых записей совпадает с общим количеством записей для каждой из таблиц). При этом размер таблицы data_subs очень мал, что позволяет нам просто посмотреть ее всю и вручную оценить ситуацию.\n"
   ]
  },
  {
   "cell_type": "markdown",
   "id": "82eaf784-7016-4afc-bec6-e48b2887ac1e",
   "metadata": {},
   "source": [
    "#### Возможные проблемы:\n",
    "* Наличие дубликатов\n",
    "* Заведомо некорректные значения в столбце subscription_type, т.к. есть ограничения в виде перечня возможных значений, указанных в таблице data_subs.\n",
    "* Возможные некорректные значения в столбце даты. Это можно проверить на этапе преобразования к нужному типу данных."
   ]
  },
  {
   "cell_type": "markdown",
   "id": "95ba5f72-909a-420b-b4f9-2fc00eb46efb",
   "metadata": {},
   "source": [
    "### Предобработка данных"
   ]
  },
  {
   "cell_type": "markdown",
   "id": "79b6b36a-d614-401c-90d4-8a7fae6759b8",
   "metadata": {},
   "source": [
    "Приведем столбец \"date\" датасета \"data_rides\" к типу даты pandas:"
   ]
  },
  {
   "cell_type": "code",
   "execution_count": 13,
   "id": "686240bc-5bf4-4319-9a65-d38b359275b4",
   "metadata": {},
   "outputs": [],
   "source": [
    "data_rides['date'] = pd.to_datetime(data_rides['date'], format='%Y-%m-%d')"
   ]
  },
  {
   "cell_type": "markdown",
   "id": "e900a712-d515-4b45-a6e6-978de9f01af8",
   "metadata": {},
   "source": [
    "Создадим новый столбец с номером месяца из столбца \"date\""
   ]
  },
  {
   "cell_type": "code",
   "execution_count": 14,
   "id": "302cf401-242f-45d2-94ae-2d5c5bdbe8a3",
   "metadata": {},
   "outputs": [],
   "source": [
    "data_rides['month_date'] = data_rides['date'].dt.month"
   ]
  },
  {
   "cell_type": "markdown",
   "id": "1a17aac4-8849-4327-a264-16f18591a41f",
   "metadata": {},
   "source": [
    "Мы видим, что все таблицы полные, без пропусков (количество непустых записей совпадает с общим количеством записей для каждой из таблиц).\n",
    "Проверим таблицы на наличие дубликатов и, если есть, удалим их. В таблице с подписками (data_subs) дубликатов, очевидно, нет (всего 2 записи в таблице, можно их посмотреть)."
   ]
  },
  {
   "cell_type": "code",
   "execution_count": 15,
   "id": "51b7ba53-bfbf-4b29-9560-bdd8a4d4fdf5",
   "metadata": {},
   "outputs": [
    {
     "data": {
      "text/plain": [
       "31"
      ]
     },
     "execution_count": 15,
     "metadata": {},
     "output_type": "execute_result"
    }
   ],
   "source": [
    "data_users.duplicated().sum()"
   ]
  },
  {
   "cell_type": "code",
   "execution_count": 16,
   "id": "7214b669-eca3-441e-a834-ad8b9e2a021e",
   "metadata": {},
   "outputs": [],
   "source": [
    "data_users = data_users.drop_duplicates()"
   ]
  },
  {
   "cell_type": "code",
   "execution_count": 17,
   "id": "aab79d7c-c415-49b4-8bb7-96704ac15d9b",
   "metadata": {},
   "outputs": [
    {
     "data": {
      "text/plain": [
       "0"
      ]
     },
     "execution_count": 17,
     "metadata": {},
     "output_type": "execute_result"
    }
   ],
   "source": [
    "data_rides.duplicated().sum()"
   ]
  },
  {
   "cell_type": "markdown",
   "id": "bc8c0cfa-3059-4ffd-9f88-77170cd5c995",
   "metadata": {},
   "source": [
    "Проверим, что в столбце subscription_type нет неожиданных значений:"
   ]
  },
  {
   "cell_type": "code",
   "execution_count": 18,
   "id": "daad7eb5-6d74-4364-91c5-f71d650c2a84",
   "metadata": {},
   "outputs": [
    {
     "data": {
      "text/plain": [
       "array(['ultra', 'free'], dtype=object)"
      ]
     },
     "execution_count": 18,
     "metadata": {},
     "output_type": "execute_result"
    }
   ],
   "source": [
    "data_users['subscription_type'].unique()"
   ]
  },
  {
   "cell_type": "markdown",
   "id": "d92a288b-37fc-485c-b003-1921b88012b1",
   "metadata": {},
   "source": [
    "Предобработка данных выполнена. Дубликаты удалены, значения столбцов subscription_type и date оказались корректными."
   ]
  },
  {
   "cell_type": "markdown",
   "id": "43f7de47-71b1-4ffa-a9b6-49e7fc6b0303",
   "metadata": {},
   "source": [
    "### Исследовательский анализ данных"
   ]
  },
  {
   "cell_type": "code",
   "execution_count": 19,
   "id": "f91c9224-ba58-47be-bef4-16442c5b13e3",
   "metadata": {},
   "outputs": [
    {
     "data": {
      "text/plain": [
       "<Axes: title={'center': 'Распределение количества клиентов по городам'}, xlabel='Города', ylabel='Количество клиентов'>"
      ]
     },
     "execution_count": 19,
     "metadata": {},
     "output_type": "execute_result"
    },
    {
     "data": {
      "image/png": "[encoded data removed]",
      "text/plain": [
       "<Figure size 640x480 with 1 Axes>"
      ]
     },
     "metadata": {},
     "output_type": "display_data"
    }
   ],
   "source": [
    "data_users['city'].value_counts().plot(kind='bar', xlabel='Города', ylabel='Количество клиентов', title='Распределение количества клиентов по городам')"
   ]
  },
  {
   "cell_type": "markdown",
   "id": "a74858c8-d732-4494-88ae-d42315cfd27e",
   "metadata": {},
   "source": [
    "Мы видим, что города в выборке представлены неодинаково, и разница между большинством и меньшинством пользователей из различных городов составляет:"
   ]
  },
  {
   "cell_type": "code",
   "execution_count": 20,
   "id": "a528b154-8811-4ce7-b712-ca716953f42e",
   "metadata": {},
   "outputs": [
    {
     "data": {
      "text/plain": [
       "'30.4%'"
      ]
     },
     "execution_count": 20,
     "metadata": {},
     "output_type": "execute_result"
    }
   ],
   "source": [
    "'{:.1%}'.format((data_users['city'].value_counts().max() - data_users['city'].value_counts().min()) / float(data_users['city'].value_counts().min()))"
   ]
  },
  {
   "cell_type": "markdown",
   "id": "8f3c290d-e826-4dbf-8d90-501a25094ff7",
   "metadata": {},
   "source": [
    "от числа пользователей в городе с меньшинством пользователей -- Москве."
   ]
  },
  {
   "cell_type": "markdown",
   "id": "d6e984db-184c-435b-b389-ab895fc21518",
   "metadata": {},
   "source": [
    "Отобразим таблицу частотности городов:"
   ]
  },
  {
   "cell_type": "code",
   "execution_count": 21,
   "id": "9d60aebb-fa7f-44b4-bfb5-c0cb7bfca9fa",
   "metadata": {},
   "outputs": [
    {
     "data": {
      "text/html": [
       "<div>\n",
       "<style scoped>\n",
       "    .dataframe tbody tr th:only-of-type {\n",
       "        vertical-align: middle;\n",
       "    }\n",
       "\n",
       "    .dataframe tbody tr th {\n",
       "        vertical-align: top;\n",
       "    }\n",
       "\n",
       "    .dataframe thead th {\n",
       "        text-align: right;\n",
       "    }\n",
       "</style>\n",
       "<table border=\"1\" class=\"dataframe\">\n",
       "  <thead>\n",
       "    <tr style=\"text-align: right;\">\n",
       "      <th></th>\n",
       "      <th>Частотность</th>\n",
       "    </tr>\n",
       "    <tr>\n",
       "      <th>city</th>\n",
       "      <th></th>\n",
       "    </tr>\n",
       "  </thead>\n",
       "  <tbody>\n",
       "    <tr>\n",
       "      <th>Екатеринбург</th>\n",
       "      <td>13.3%</td>\n",
       "    </tr>\n",
       "    <tr>\n",
       "      <th>Краснодар</th>\n",
       "      <td>12.6%</td>\n",
       "    </tr>\n",
       "    <tr>\n",
       "      <th>Москва</th>\n",
       "      <td>11.0%</td>\n",
       "    </tr>\n",
       "    <tr>\n",
       "      <th>Омск</th>\n",
       "      <td>11.9%</td>\n",
       "    </tr>\n",
       "    <tr>\n",
       "      <th>Пятигорск</th>\n",
       "      <td>14.3%</td>\n",
       "    </tr>\n",
       "    <tr>\n",
       "      <th>Ростов-на-Дону</th>\n",
       "      <td>12.9%</td>\n",
       "    </tr>\n",
       "    <tr>\n",
       "      <th>Сочи</th>\n",
       "      <td>12.3%</td>\n",
       "    </tr>\n",
       "    <tr>\n",
       "      <th>Тюмень</th>\n",
       "      <td>11.7%</td>\n",
       "    </tr>\n",
       "  </tbody>\n",
       "</table>\n",
       "</div>"
      ],
      "text/plain": [
       "               Частотность\n",
       "city                      \n",
       "Екатеринбург         13.3%\n",
       "Краснодар            12.6%\n",
       "Москва               11.0%\n",
       "Омск                 11.9%\n",
       "Пятигорск            14.3%\n",
       "Ростов-на-Дону       12.9%\n",
       "Сочи                 12.3%\n",
       "Тюмень               11.7%"
      ]
     },
     "execution_count": 21,
     "metadata": {},
     "output_type": "execute_result"
    }
   ],
   "source": [
    "t_table = pd.pivot_table(data_users, index='city', values='user_id', aggfunc=lambda col: '{:.1%}'.format(float(col.count() / len(data_users))))\n",
    "t_table.columns = ['Частотность']\n",
    "t_table"
   ]
  },
  {
   "cell_type": "markdown",
   "id": "e2902921-a746-40fb-80a9-d4b4bcc40b4f",
   "metadata": {},
   "source": [
    "Мы видим, что доли городов, хоть и не одинаковы, но распределены более-менее ровно относительно потенциальной средней доли \n",
    "(100 / 8 = $12.5\\%$)."
   ]
  },
  {
   "cell_type": "markdown",
   "id": "07123222-bb7d-45cb-908a-f693a6da340e",
   "metadata": {},
   "source": [
    "Соотношение пользователей с подпиской и без:"
   ]
  },
  {
   "cell_type": "code",
   "execution_count": 22,
   "id": "e9136649-dcef-4477-a512-4aafdc3e4412",
   "metadata": {},
   "outputs": [
    {
     "data": {
      "text/plain": [
       "<Axes: title={'center': 'Распределение количества пользователей по типам подписок'}, xlabel='Тип подписки', ylabel='Количество пользователей'>"
      ]
     },
     "execution_count": 22,
     "metadata": {},
     "output_type": "execute_result"
    },
    {
     "data": {
      "image/png": "[encoded data removed]",
      "text/plain": [
       "<Figure size 640x480 with 1 Axes>"
      ]
     },
     "metadata": {},
     "output_type": "display_data"
    }
   ],
   "source": [
    "data_users['subscription_type'].value_counts().plot(kind='bar', xlabel='Тип подписки', ylabel='Количество пользователей', title='Распределение количества пользователей по типам подписок')"
   ]
  },
  {
   "cell_type": "markdown",
   "id": "1d84091b-f703-43a8-ada0-b70ef61f882d",
   "metadata": {},
   "source": [
    "Мы видим, что в выборке количество пользователей без подписки (и абонентской платы) превышает количество пользователей-абонентов на"
   ]
  },
  {
   "cell_type": "code",
   "execution_count": 23,
   "id": "c232f53c-be35-4b46-993c-420f9cd61244",
   "metadata": {},
   "outputs": [
    {
     "data": {
      "text/plain": [
       "8.9"
      ]
     },
     "execution_count": 23,
     "metadata": {},
     "output_type": "execute_result"
    }
   ],
   "source": [
    "((data_users.query('subscription_type == \"free\"')['subscription_type'].count() - data_users.query('subscription_type == \"ultra\"')['subscription_type'].count()) / float(data_users['subscription_type'].count()) * 100).round(1)"
   ]
  },
  {
   "cell_type": "markdown",
   "id": "74bd7d6f-f6e2-40d0-afb7-7d6b59c8f8cc",
   "metadata": {},
   "source": [
    "процентов от общего числа клиентов"
   ]
  },
  {
   "cell_type": "code",
   "execution_count": 24,
   "id": "968d96ca-dc1d-4e33-9a35-f269c329270a",
   "metadata": {},
   "outputs": [
    {
     "data": {
      "text/plain": [
       "<Axes: title={'center': 'Пользователи по типам подписки в долях'}, ylabel='Доля пользователей'>"
      ]
     },
     "execution_count": 24,
     "metadata": {},
     "output_type": "execute_result"
    },
    {
     "data": {
      "image/png": "[encoded data removed]",
      "text/plain": [
       "<Figure size 640x480 with 1 Axes>"
      ]
     },
     "metadata": {},
     "output_type": "display_data"
    }
   ],
   "source": [
    "data_users['subscription_type'].value_counts().plot(kind='pie', ylabel='Доля пользователей', title='Пользователи по типам подписки в долях', autopct='%1.1f%%')"
   ]
  },
  {
   "cell_type": "markdown",
   "id": "953bc67c-0114-4980-9b26-6cc3275ef074",
   "metadata": {},
   "source": [
    "Мы видим, что количество пользователей с подпиской меньше чуть менее, чем на $9\\%$ от общего числа пользователей."
   ]
  },
  {
   "cell_type": "markdown",
   "id": "689817c8-bd17-4415-8e4e-e52282d81c00",
   "metadata": {},
   "source": [
    "Проанализируем возраст клиентов."
   ]
  },
  {
   "cell_type": "code",
   "execution_count": 25,
   "id": "27ecd12d-56c3-4777-8600-0d9a2b003508",
   "metadata": {},
   "outputs": [
    {
     "data": {
      "text/plain": [
       "<Axes: title={'center': 'Распределение клиентов по возрастам'}, xlabel='Возраст', ylabel='Количество пользователей'>"
      ]
     },
     "execution_count": 25,
     "metadata": {},
     "output_type": "execute_result"
    },
    {
     "data": {
      "image/png": "[encoded data removed]",
      "text/plain": [
       "<Figure size 640x480 with 1 Axes>"
      ]
     },
     "metadata": {},
     "output_type": "display_data"
    }
   ],
   "source": [
    "data_users['age'].value_counts().plot(kind='bar', xlabel='Возраст', ylabel='Количество пользователей', title='Распределение клиентов по возрастам')"
   ]
  },
  {
   "cell_type": "markdown",
   "id": "f2f5c7dc-0925-4395-baf2-c68e5062cbb7",
   "metadata": {},
   "source": [
    "Для большей наглядности посмотрим разбиение клиентов по группам возрастов:"
   ]
  },
  {
   "cell_type": "code",
   "execution_count": 26,
   "id": "9e53092c-9959-45fa-8e94-83044b8922c4",
   "metadata": {},
   "outputs": [
    {
     "data": {
      "image/png": "[encoded data removed]",
      "text/plain": [
       "<Figure size 640x480 with 1 Axes>"
      ]
     },
     "metadata": {},
     "output_type": "display_data"
    }
   ],
   "source": [
    "fig, ax = plt.subplots()\n",
    "ax.set_title('Разбиение клиентов по категориям возрастов')\n",
    "plt.bar(\n",
    "    ['10-19', '20-29', '30-39', '40 и старше'], \n",
    "    [\n",
    "        data_users.query('(age >= 10) & (age <= 19)')['age'].count(),\n",
    "        data_users.query('(age >= 20) & (age <= 29)')['age'].count(),\n",
    "        data_users.query('(age >= 30) & (age <= 39)')['age'].count(),\n",
    "        data_users.query('(age >= 40)')['age'].count()\n",
    "    ]\n",
    ")\n",
    "plt.xlabel(\"Категории возрастов\")\n",
    "plt.ylabel('Количество клиентов')\n",
    "plt.show()"
   ]
  },
  {
   "cell_type": "markdown",
   "id": "23160bd5-8c9c-4abf-ac41-6740f65f7465",
   "metadata": {},
   "source": [
    "Самая многочисленная группа клиентов -- молодые 20-летние люди, что объяснимо молодостью и платежеспособностью.\n",
    "\n",
    "Следующая группа -- 30-летние люди.\n",
    "Самая малочисленная группа -- подростки и совсем молодые люди, у любителей самокатов в которой скорее будет собственный самокат, нежели\n",
    "прокатный, поэтому их немного.\n",
    "\n",
    "Группа людей старше 40 лет пренебрежимо мала."
   ]
  },
  {
   "cell_type": "markdown",
   "id": "533b61ed-3ada-4020-bc03-92d2d58b955a",
   "metadata": {},
   "source": [
    "Распределение расстояний за одну поездку:"
   ]
  },
  {
   "cell_type": "code",
   "execution_count": 27,
   "id": "448b0c74-89a7-4e43-b225-dcf784979c95",
   "metadata": {},
   "outputs": [
    {
     "data": {
      "text/plain": [
       "<Axes: title={'center': 'Распределение расстояний за поездку'}, xlabel='Расстояние', ylabel='Количество поездок'>"
      ]
     },
     "execution_count": 27,
     "metadata": {},
     "output_type": "execute_result"
    },
    {
     "data": {
      "image/png": "[encoded data removed]",
      "text/plain": [
       "<Figure size 640x480 with 1 Axes>"
      ]
     },
     "metadata": {},
     "output_type": "display_data"
    }
   ],
   "source": [
    "data_rides['distance'].plot(kind='hist', xlabel='Расстояние', ylabel='Количество поездок', title='Распределение расстояний за поездку')"
   ]
  },
  {
   "cell_type": "markdown",
   "id": "eed56f1f-84dc-4018-8b5c-6d410cb2b251",
   "metadata": {},
   "source": [
    "Мы видим, что расстояние большинства совершаемых поездок находится в пределах от 0 км до 5 км. При этом наблюдаются пиковые значения расстояний от 2.1 км до 4.1, что может объяснятся регулярностью маршрутов клиентов (например, с работы/на работу)."
   ]
  },
  {
   "cell_type": "code",
   "execution_count": 28,
   "id": "d1cd6ecf-27da-4e59-9552-1eba36fedd01",
   "metadata": {},
   "outputs": [
    {
     "data": {
      "text/plain": [
       "<Axes: title={'center': 'Распределение времени за поездку'}, xlabel='Время поездки', ylabel='Количество поездок'>"
      ]
     },
     "execution_count": 28,
     "metadata": {},
     "output_type": "execute_result"
    },
    {
     "data": {
      "image/png": "[encoded data removed]",
      "text/plain": [
       "<Figure size 640x480 with 1 Axes>"
      ]
     },
     "metadata": {},
     "output_type": "display_data"
    }
   ],
   "source": [
    "data_rides['duration'].plot(kind='hist', xlabel = 'Время поездки', ylabel = 'Количество поездок', title='Распределение времени за поездку')"
   ]
  },
  {
   "cell_type": "markdown",
   "id": "d6371f63-8f5b-43e7-b717-1559ebdf9c47",
   "metadata": {},
   "source": [
    "Мы видим, что большинство совершаемых поездок имеет продолжительность от 8 до примерно 27 минут."
   ]
  },
  {
   "cell_type": "markdown",
   "id": "aecc6726-3d89-4bd0-9a43-952dcbaff553",
   "metadata": {},
   "source": [
    "### Объединение данных"
   ]
  },
  {
   "cell_type": "markdown",
   "id": "1e94d0bf-e3a7-4eef-af0b-25f90a4b6f20",
   "metadata": {},
   "source": [
    "Объединим все таблицы в один датафрейм, опираясь сначала на поле идентификатора пользователя (user_id), а затем на тип подписки.\n",
    "\n",
    "Для начала проверим, есть ли такие записи в data_rides, user_id которых нет в датасете пользователей"
   ]
  },
  {
   "cell_type": "code",
   "execution_count": 29,
   "id": "465ea8d0-edc0-4ba7-8014-684b499a3dad",
   "metadata": {},
   "outputs": [
    {
     "data": {
      "text/plain": [
       "0"
      ]
     },
     "execution_count": 29,
     "metadata": {},
     "output_type": "execute_result"
    }
   ],
   "source": [
    "data_rides['user_id'].apply(lambda t: t not in data_users['user_id'].values).sum()"
   ]
  },
  {
   "cell_type": "markdown",
   "id": "6587a5d9-596f-4b43-aaa7-89a9e4989035",
   "metadata": {},
   "source": [
    "Таких записей нет.\n",
    "Объединяем таблицы."
   ]
  },
  {
   "cell_type": "code",
   "execution_count": 30,
   "id": "e46d253b-77ea-41a6-9052-e139c44f3da9",
   "metadata": {},
   "outputs": [],
   "source": [
    "data = data_users.merge(data_rides, on='user_id')"
   ]
  },
  {
   "cell_type": "code",
   "execution_count": 31,
   "id": "11ddf76b-870f-4fff-b926-9c1d5cd950e8",
   "metadata": {},
   "outputs": [],
   "source": [
    "data = data.merge(data_subs, on='subscription_type')"
   ]
  },
  {
   "cell_type": "markdown",
   "id": "9b97ed17-fa30-4c11-94ad-0d02cf4e3032",
   "metadata": {},
   "source": [
    "Выделим два новых датафрейма (с подпиской и без)"
   ]
  },
  {
   "cell_type": "code",
   "execution_count": 32,
   "id": "89d9828e-0d36-4c79-bc36-663d3abf654e",
   "metadata": {},
   "outputs": [],
   "source": [
    "data_ultra_sub = data.query('subscription_type == \"ultra\"')"
   ]
  },
  {
   "cell_type": "code",
   "execution_count": 33,
   "id": "aa2302cc-fc86-4c40-90e5-f71e12e78f28",
   "metadata": {},
   "outputs": [],
   "source": [
    "data_free_sub = data.query('subscription_type == \"free\"')"
   ]
  },
  {
   "cell_type": "markdown",
   "id": "3b13d3c9-80a2-45d4-95a8-c99b167ea11d",
   "metadata": {},
   "source": [
    "Расстояние, которое в среднем проезжают пользователи разных подписок:"
   ]
  },
  {
   "cell_type": "code",
   "execution_count": 34,
   "id": "37c2da64-9263-45e1-8466-039de772ff4f",
   "metadata": {},
   "outputs": [
    {
     "data": {
      "text/plain": [
       "<Axes: title={'center': 'Распределение расстояний за поездку среди пользователей платной подписки'}, xlabel='Расстояние', ylabel='Количество поездок'>"
      ]
     },
     "execution_count": 34,
     "metadata": {},
     "output_type": "execute_result"
    },
    {
     "data": {
      "image/png": "[encoded data removed]",
      "text/plain": [
       "<Figure size 640x480 with 1 Axes>"
      ]
     },
     "metadata": {},
     "output_type": "display_data"
    }
   ],
   "source": [
    "data_ultra_sub['distance'].plot(kind='hist', xlabel='Расстояние', ylabel='Количество поездок', title='Распределение расстояний за поездку среди пользователей платной подписки')"
   ]
  },
  {
   "cell_type": "markdown",
   "id": "89543867-35ac-4eb7-b371-0cb0e9d8e555",
   "metadata": {},
   "source": [
    "Мы видим, что большинство пользователей платной подписки в среднем проезжает от 2.5 до 4 км, что может объясняться регулярностью маршрута,"
   ]
  },
  {
   "cell_type": "code",
   "execution_count": 35,
   "id": "d9a935b9-5111-49b2-9164-bd68be204ff6",
   "metadata": {},
   "outputs": [
    {
     "data": {
      "text/plain": [
       "<Axes: title={'center': 'Распределение времени за поездку среди пользователей платной подписки'}, xlabel='Время поездки', ylabel='Количество поездок'>"
      ]
     },
     "execution_count": 35,
     "metadata": {},
     "output_type": "execute_result"
    },
    {
     "data": {
      "image/png": "[encoded data removed]",
      "text/plain": [
       "<Figure size 640x480 with 1 Axes>"
      ]
     },
     "metadata": {},
     "output_type": "display_data"
    }
   ],
   "source": [
    "data_ultra_sub['duration'].plot(kind='hist', xlabel='Время поездки', ylabel='Количество поездок', title='Распределение времени за поездку среди пользователей платной подписки')"
   ]
  },
  {
   "cell_type": "markdown",
   "id": "cdb9df58-cd12-4362-9a1e-007a068ade7e",
   "metadata": {},
   "source": [
    "Мы видим, что большинство пользоваателей с платной подпиской тратит на поездку в среднем от 13 до 25 минут."
   ]
  },
  {
   "cell_type": "code",
   "execution_count": 36,
   "id": "8884f72f-ff2b-4382-b4ec-5180355819fc",
   "metadata": {},
   "outputs": [
    {
     "data": {
      "text/plain": [
       "<Axes: title={'center': 'Распределение расстояний за поездку среди пользователей бесплатной подписки'}, xlabel='Расстояние', ylabel='Количество поездок'>"
      ]
     },
     "execution_count": 36,
     "metadata": {},
     "output_type": "execute_result"
    },
    {
     "data": {
      "image/png": "[encoded data removed]",
      "text/plain": [
       "<Figure size 640x480 with 1 Axes>"
      ]
     },
     "metadata": {},
     "output_type": "display_data"
    }
   ],
   "source": [
    "data_free_sub['distance'].plot(kind='hist', xlabel='Расстояние', ylabel='Количество поездок', title='Распределение расстояний за поездку среди пользователей бесплатной подписки')"
   ]
  },
  {
   "cell_type": "markdown",
   "id": "55da54f4-cd4d-45ad-8606-7f0b7e1dc286",
   "metadata": {},
   "source": [
    "Мы видим, что большинство пользователей с бесплатной подпиской в среднем проезжает от 2.1 до 5 км.\n",
    "Кроме того, аидим всплеск пользователей до 1500 км, что может объяснятся желанием новых пользователей попробовать сервис."
   ]
  },
  {
   "cell_type": "code",
   "execution_count": 37,
   "id": "0b2d969d-af5c-4d9e-94b2-e5981facba2c",
   "metadata": {},
   "outputs": [
    {
     "data": {
      "text/plain": [
       "<Axes: title={'center': 'Распределение времени за поездку среди пользователей бесплатной подписки'}, xlabel='Время поездки', ylabel='Количество поездок'>"
      ]
     },
     "execution_count": 37,
     "metadata": {},
     "output_type": "execute_result"
    },
    {
     "data": {
      "image/png": "[encoded data removed]",
      "text/plain": [
       "<Figure size 640x480 with 1 Axes>"
      ]
     },
     "metadata": {},
     "output_type": "display_data"
    }
   ],
   "source": [
    "data_free_sub['duration'].plot(kind='hist', xlabel='Время поездки', ylabel='Количество поездок', title='Распределение времени за поездку среди пользователей бесплатной подписки')"
   ]
  },
  {
   "cell_type": "markdown",
   "id": "d91f3a2a-c196-4831-8688-06bafb4df1ca",
   "metadata": {},
   "source": [
    "Мы видим, что большинство пользователей бесплатной подписки тратит на поездку от 8 до 25 минут."
   ]
  },
  {
   "cell_type": "markdown",
   "id": "11b680b1-9c44-4f3e-83de-218259ec1820",
   "metadata": {},
   "source": [
    "### Подсчет выручки"
   ]
  },
  {
   "cell_type": "markdown",
   "id": "1eec0348-27b1-44d7-b171-4274e458374c",
   "metadata": {},
   "source": [
    "Создаем из общей таблицы (data) сводную с агрегированными данными, содержащи суммарное количество поездок, расстояние и время\n",
    "для каждого пользователя за каждый месяц."
   ]
  },
  {
   "cell_type": "code",
   "execution_count": 38,
   "id": "9aab491d-240b-443d-8326-a8e96f42bb42",
   "metadata": {},
   "outputs": [],
   "source": [
    "gr_t_data = data.groupby(['user_id', 'month_date']).aggregate({'distance': ['sum', 'count'], 'duration': lambda col: numpy.ceil(col).sum()})"
   ]
  },
  {
   "cell_type": "markdown",
   "id": "71e6b46f-fd35-4a07-aed3-161d6fc31ff5",
   "metadata": {},
   "source": [
    "Добавляем информацию с помесячной выручкой"
   ]
  },
  {
   "cell_type": "code",
   "execution_count": 39,
   "id": "7365d36b-600a-426d-aa08-6df1fe1d0be0",
   "metadata": {},
   "outputs": [],
   "source": [
    "def subs_info_2(ind, info_type):\n",
    "    def func(x):\n",
    "        return data_subs[data_subs['subscription_type'] == data_users.loc[data_users['user_id'] == x, 'subscription_type'].item()][info_type].item()\n",
    "\n",
    "    t_df = pd.DataFrame(i[0] for i in gr_t_data.index.values).set_index(ind)\n",
    "    t_df[0] = t_df[0].apply(func)\n",
    "\n",
    "    return t_df[0]\n",
    "\n",
    "gr_t_data['Revenue'] = gr_t_data['distance']['count'] * subs_info_2(gr_t_data.index, 'start_ride_price') + \\\n",
    "                        gr_t_data['duration']['<lambda>'] * subs_info_2(gr_t_data.index, 'minute_price') + \\\n",
    "                        subs_info_2(gr_t_data.index, 'subscription_fee')"
   ]
  },
  {
   "cell_type": "code",
   "execution_count": 40,
   "id": "6d6f2b4c-7d4d-4a14-a792-b87536d1692d",
   "metadata": {},
   "outputs": [
    {
     "data": {
      "text/html": [
       "<div>\n",
       "<style scoped>\n",
       "    .dataframe tbody tr th:only-of-type {\n",
       "        vertical-align: middle;\n",
       "    }\n",
       "\n",
       "    .dataframe tbody tr th {\n",
       "        vertical-align: top;\n",
       "    }\n",
       "\n",
       "    .dataframe thead tr th {\n",
       "        text-align: left;\n",
       "    }\n",
       "\n",
       "    .dataframe thead tr:last-of-type th {\n",
       "        text-align: right;\n",
       "    }\n",
       "</style>\n",
       "<table border=\"1\" class=\"dataframe\">\n",
       "  <thead>\n",
       "    <tr>\n",
       "      <th></th>\n",
       "      <th></th>\n",
       "      <th colspan=\"2\" halign=\"left\">distance</th>\n",
       "      <th>duration</th>\n",
       "      <th>Revenue</th>\n",
       "    </tr>\n",
       "    <tr>\n",
       "      <th></th>\n",
       "      <th></th>\n",
       "      <th>sum</th>\n",
       "      <th>count</th>\n",
       "      <th>&lt;lambda&gt;</th>\n",
       "      <th></th>\n",
       "    </tr>\n",
       "    <tr>\n",
       "      <th>user_id</th>\n",
       "      <th>month_date</th>\n",
       "      <th></th>\n",
       "      <th></th>\n",
       "      <th></th>\n",
       "      <th></th>\n",
       "    </tr>\n",
       "  </thead>\n",
       "  <tbody>\n",
       "    <tr>\n",
       "      <th rowspan=\"5\" valign=\"top\">1</th>\n",
       "      <th>1</th>\n",
       "      <td>7027.511294</td>\n",
       "      <td>2</td>\n",
       "      <td>42.0</td>\n",
       "      <td>451.0</td>\n",
       "    </tr>\n",
       "    <tr>\n",
       "      <th>4</th>\n",
       "      <td>754.159807</td>\n",
       "      <td>1</td>\n",
       "      <td>7.0</td>\n",
       "      <td>241.0</td>\n",
       "    </tr>\n",
       "    <tr>\n",
       "      <th>8</th>\n",
       "      <td>6723.470560</td>\n",
       "      <td>2</td>\n",
       "      <td>46.0</td>\n",
       "      <td>475.0</td>\n",
       "    </tr>\n",
       "    <tr>\n",
       "      <th>10</th>\n",
       "      <td>5809.911100</td>\n",
       "      <td>2</td>\n",
       "      <td>32.0</td>\n",
       "      <td>391.0</td>\n",
       "    </tr>\n",
       "    <tr>\n",
       "      <th>11</th>\n",
       "      <td>7003.499363</td>\n",
       "      <td>3</td>\n",
       "      <td>56.0</td>\n",
       "      <td>535.0</td>\n",
       "    </tr>\n",
       "    <tr>\n",
       "      <th>...</th>\n",
       "      <th>...</th>\n",
       "      <td>...</td>\n",
       "      <td>...</td>\n",
       "      <td>...</td>\n",
       "      <td>...</td>\n",
       "    </tr>\n",
       "    <tr>\n",
       "      <th rowspan=\"5\" valign=\"top\">1534</th>\n",
       "      <th>6</th>\n",
       "      <td>3409.468534</td>\n",
       "      <td>2</td>\n",
       "      <td>26.0</td>\n",
       "      <td>308.0</td>\n",
       "    </tr>\n",
       "    <tr>\n",
       "      <th>8</th>\n",
       "      <td>7622.453034</td>\n",
       "      <td>2</td>\n",
       "      <td>48.0</td>\n",
       "      <td>484.0</td>\n",
       "    </tr>\n",
       "    <tr>\n",
       "      <th>9</th>\n",
       "      <td>4928.173852</td>\n",
       "      <td>1</td>\n",
       "      <td>23.0</td>\n",
       "      <td>234.0</td>\n",
       "    </tr>\n",
       "    <tr>\n",
       "      <th>11</th>\n",
       "      <td>13350.015305</td>\n",
       "      <td>4</td>\n",
       "      <td>78.0</td>\n",
       "      <td>824.0</td>\n",
       "    </tr>\n",
       "    <tr>\n",
       "      <th>12</th>\n",
       "      <td>2371.711192</td>\n",
       "      <td>1</td>\n",
       "      <td>16.0</td>\n",
       "      <td>178.0</td>\n",
       "    </tr>\n",
       "  </tbody>\n",
       "</table>\n",
       "<p>11331 rows × 4 columns</p>\n",
       "</div>"
      ],
      "text/plain": [
       "                        distance       duration Revenue\n",
       "                             sum count <lambda>        \n",
       "user_id month_date                                     \n",
       "1       1            7027.511294     2     42.0   451.0\n",
       "        4             754.159807     1      7.0   241.0\n",
       "        8            6723.470560     2     46.0   475.0\n",
       "        10           5809.911100     2     32.0   391.0\n",
       "        11           7003.499363     3     56.0   535.0\n",
       "...                          ...   ...      ...     ...\n",
       "1534    6            3409.468534     2     26.0   308.0\n",
       "        8            7622.453034     2     48.0   484.0\n",
       "        9            4928.173852     1     23.0   234.0\n",
       "        11          13350.015305     4     78.0   824.0\n",
       "        12           2371.711192     1     16.0   178.0\n",
       "\n",
       "[11331 rows x 4 columns]"
      ]
     },
     "execution_count": 40,
     "metadata": {},
     "output_type": "execute_result"
    }
   ],
   "source": [
    "gr_t_data"
   ]
  },
  {
   "cell_type": "markdown",
   "id": "5b8e6d4d-6612-4fe3-ae4c-32b2162c35ec",
   "metadata": {},
   "source": [
    "### Проверка гипотез"
   ]
  },
  {
   "cell_type": "markdown",
   "id": "dbc991fa-5e88-4b48-ae66-0f342136b74a",
   "metadata": {},
   "source": [
    "#### Проверим гипотезу о том, тратят ли пользоваатели с подпиской больше времени на поездки."
   ]
  },
  {
   "cell_type": "markdown",
   "id": "d9eb1869-8d52-4f64-8544-6ff5cb1792e3",
   "metadata": {},
   "source": [
    "Сформируем выборки"
   ]
  },
  {
   "cell_type": "code",
   "execution_count": 41,
   "id": "a4ebcad5-0e7c-44c4-a325-b4fe8daca702",
   "metadata": {},
   "outputs": [],
   "source": [
    "sample_ultra = data_ultra_sub['duration']"
   ]
  },
  {
   "cell_type": "code",
   "execution_count": 42,
   "id": "e3e90121-ba99-4b4b-b6d6-eac0c0ec5a6c",
   "metadata": {},
   "outputs": [],
   "source": [
    "sample_free = data_free_sub['duration']"
   ]
  },
  {
   "cell_type": "markdown",
   "id": "7524bdac-8193-4959-aa93-6421ac01fd16",
   "metadata": {},
   "source": [
    "Эти выборки независимы, т.к. сформированы по непересекающемуся признаку.\n",
    "Нам необходимо проверить одностороннюю гипотезу о том, что среднее генеральной совокупности (далее -- ГС), из которой взята выборка с пользователями c подпиской (sample_ultra), больше, чем среднее ГС, из которой взята выборка с пользователями без подписки (sample_free)."
   ]
  },
  {
   "cell_type": "markdown",
   "id": "c043c02e-2d90-4e55-81e9-146521911ea1",
   "metadata": {},
   "source": [
    "Более точно: $$H_0: \\mu_1 = \\mu_2 $$ $$ H_1: \\mu_1 > \\mu_2 $$"
   ]
  },
  {
   "cell_type": "markdown",
   "id": "26ec6bc8-c99d-498f-bdcc-d5431a79b3d8",
   "metadata": {},
   "source": [
    "где $\\mu_1$ -- истинное среднее ГС, из которой взята выборка с пользователями с платной подпиской, а $\\mu_2$ -- истинное среднее ГС,\n",
    "из которой взята выборка с пользователями с бесплатной подпиской."
   ]
  },
  {
   "cell_type": "markdown",
   "id": "e38c18d9-03d3-4bc5-98c6-d439b01153e1",
   "metadata": {},
   "source": [
    "Для решения этой задачи предлагается привлечь двухвыборочный t-тест для независимых выборок."
   ]
  },
  {
   "cell_type": "markdown",
   "id": "dbff79af-5936-4980-88a1-efa503d8ea77",
   "metadata": {},
   "source": [
    "Установим уровень статистической значимости в $5\\%$"
   ]
  },
  {
   "cell_type": "code",
   "execution_count": 43,
   "id": "c88df3f8-b231-4f1b-a03e-b407b6aeca1b",
   "metadata": {},
   "outputs": [],
   "source": [
    "alpha = 0.05"
   ]
  },
  {
   "cell_type": "code",
   "execution_count": 44,
   "id": "19187ed9-1d11-4a84-b295-4a90e16df9c5",
   "metadata": {},
   "outputs": [],
   "source": [
    "results = st.ttest_ind(sample_ultra, sample_free, alternative='greater')"
   ]
  },
  {
   "cell_type": "code",
   "execution_count": 45,
   "id": "fb21311f-3cb7-4f4c-afe0-03e644e66c53",
   "metadata": {},
   "outputs": [
    {
     "data": {
      "text/plain": [
       "1.2804098316645618e-34"
      ]
     },
     "execution_count": 45,
     "metadata": {},
     "output_type": "execute_result"
    }
   ],
   "source": [
    "results.pvalue"
   ]
  },
  {
   "cell_type": "markdown",
   "id": "b5cdcce9-71f9-4271-9cc1-38c167388a68",
   "metadata": {},
   "source": [
    "pvalue очень мал (заведомо меньше уровня значимости alpha), что говорит о том, что нулевую гипотезу (о том, что истинные средние этих двух ГС равны) следует отвергнуть в пользу альтернативной гипотезы."
   ]
  },
  {
   "cell_type": "markdown",
   "id": "2c6be1a9-b73d-4664-ae42-d1608f37ee87",
   "metadata": {},
   "source": [
    "Это означает, что утверждение \"пользователи с подпиской проводят больше времени на поездки\" заслуживает пристальное внимание."
   ]
  },
  {
   "cell_type": "markdown",
   "id": "d32e6f59-bf1e-48b0-948b-f99aa799c31e",
   "metadata": {},
   "source": [
    "#### Оптимальное расстояние с точки зрения износа самоката"
   ]
  },
  {
   "cell_type": "markdown",
   "id": "78c4b80d-4e95-4729-8e58-25e526beb03a",
   "metadata": {},
   "source": [
    "Сформируем выборку расстояний поездок пользователей с подпиской и проверим гипотезу о том, что среднее расстояние,\n",
    "которое проезжают пользователи с подпиской за одну поездку, превышает оптимальные с точки зрения износа 3130 метров"
   ]
  },
  {
   "cell_type": "markdown",
   "id": "4ba4446c-1cc0-43f1-b93c-3d487e54db3b",
   "metadata": {},
   "source": [
    "В качестве нулевой гипотезы выберем утверждение о том, что истинное среднее из ГС с выборкой"
   ]
  },
  {
   "cell_type": "code",
   "execution_count": 46,
   "id": "3fce1d65-72fd-4299-8666-1c2a83c4d7ea",
   "metadata": {},
   "outputs": [],
   "source": [
    "sample_ultra = data_ultra_sub['distance']"
   ]
  },
  {
   "cell_type": "markdown",
   "id": "15b2ffb0-1d2c-40b9-96c6-7693308c3852",
   "metadata": {},
   "source": [
    "равно 3130:"
   ]
  },
  {
   "cell_type": "markdown",
   "id": "2867b570-bcc1-4b91-b1d1-2e48b9e92825",
   "metadata": {},
   "source": [
    "$$ H_0: \\mu = 3130 $$ $$ H_1: \\mu > 3130 $$"
   ]
  },
  {
   "cell_type": "markdown",
   "id": "31536a54-8dfe-4074-a8ad-2ccbd12be79b",
   "metadata": {},
   "source": [
    "где $\\mu$ -- истинное среднее ГС, из которой взята выборка sample_ultra."
   ]
  },
  {
   "cell_type": "markdown",
   "id": "47a26fdf-b294-484b-b200-79f980627a82",
   "metadata": {},
   "source": [
    "Установим уровень статистической значимости в $5\\%$"
   ]
  },
  {
   "cell_type": "code",
   "execution_count": 47,
   "id": "64ab4ecd-934d-4b6f-b0d2-338d707b7fd9",
   "metadata": {},
   "outputs": [],
   "source": [
    "alpha = 0.05\n",
    "value = 3130"
   ]
  },
  {
   "cell_type": "code",
   "execution_count": 48,
   "id": "530a93cf-9e09-4865-a336-458337f7247c",
   "metadata": {},
   "outputs": [],
   "source": [
    "results = st.ttest_1samp(sample_ultra, value, alternative='greater')"
   ]
  },
  {
   "cell_type": "code",
   "execution_count": 49,
   "id": "ec51c630-bad6-4d65-9448-3d424a30f45a",
   "metadata": {},
   "outputs": [
    {
     "data": {
      "text/plain": [
       "0.9195368847849785"
      ]
     },
     "execution_count": 49,
     "metadata": {},
     "output_type": "execute_result"
    }
   ],
   "source": [
    "results.pvalue"
   ]
  },
  {
   "cell_type": "code",
   "execution_count": 50,
   "id": "f07d13e7-e2b4-42c5-bd9d-aff34cb71c92",
   "metadata": {},
   "outputs": [
    {
     "data": {
      "text/plain": [
       "False"
      ]
     },
     "execution_count": 50,
     "metadata": {},
     "output_type": "execute_result"
    }
   ],
   "source": [
    "results.pvalue < alpha"
   ]
  },
  {
   "cell_type": "markdown",
   "id": "c9c68d69-2bb3-4aaf-8dd2-3833ce05fdae",
   "metadata": {},
   "source": [
    "Гипотеза $H_0$ не может быть отвергнута, а, стало быть, вероятность наблюдаемого значения -- посчитанное на выборке среднее -- или еще более далекое от него в рамках предположения об истинности нулевой гипотезы о равенстве истинного среднего заданной величине достаточно велика."
   ]
  },
  {
   "cell_type": "markdown",
   "id": "84b363fc-1755-445d-86e5-9c3df0694514",
   "metadata": {},
   "source": [
    "Скомпрометировать нулевую гипотезу в пользу альтернативной не удалось, соответственно, статистических оснований принимать\n",
    "утверждение \"среднее расстояние, которое проезжают пользователи с подпиской за одну поездку, превышает 3130 метров\" мы не имеем."
   ]
  },
  {
   "cell_type": "markdown",
   "id": "76e115fd-417d-4412-879c-c2686407ecf0",
   "metadata": {},
   "source": [
    "#### Размер помесячной выручки по месяцам"
   ]
  },
  {
   "cell_type": "markdown",
   "id": "fc428119-7bd4-4d40-ba88-9d836921f010",
   "metadata": {},
   "source": [
    "Сформируем выборки помесячных выручек от пользователей с платной подпиской и бесплатной."
   ]
  },
  {
   "cell_type": "code",
   "execution_count": 51,
   "id": "ed551044-2ef2-43c5-be96-576a9e641824",
   "metadata": {},
   "outputs": [],
   "source": [
    "sample_ultra = gr_t_data[subs_info_2(gr_t_data.index, 'subscription_type') == 'ultra']['Revenue']"
   ]
  },
  {
   "cell_type": "code",
   "execution_count": 52,
   "id": "aad1625b-78a7-4a3e-812a-68337e594c3f",
   "metadata": {},
   "outputs": [],
   "source": [
    "sample_free = gr_t_data[subs_info_2(gr_t_data.index, 'subscription_type') == 'free']['Revenue']"
   ]
  },
  {
   "cell_type": "code",
   "execution_count": 53,
   "id": "7988f88c-c5d3-42cc-87f2-45b163e0f978",
   "metadata": {},
   "outputs": [],
   "source": [
    "sample_ultra_by_month = [[],[],[],[],[],[],[],[],[],[],[],[]];\n",
    "sample_free_by_month = [[],[],[],[],[],[],[],[],[],[],[],[]]\n",
    "\n",
    "for index, row in sample_ultra.items():\n",
    "    sample_ultra_by_month[index[1]-1].append(row)\n",
    "\n",
    "for index, row in sample_free.items():\n",
    "    sample_free_by_month[index[1]-1].append(row)"
   ]
  },
  {
   "cell_type": "markdown",
   "id": "01eb8f58-7c7f-41c5-a5eb-3189dc93b45d",
   "metadata": {},
   "source": [
    "Эти выборки для каждого из месяцев независимы, т.к. сформированы по непересекающемуся признаку.\n",
    "Нам необходимо проверить одностороннюю гипотезу о том, что среднее генеральной совокупности (далее -- ГС), из которой взята выборка с пользователями c подпиской (sample_ultra), больше, чем среднее ГС, из которой взята выборка с пользователями без подписки (sample_free) для каждого из месяцев."
   ]
  },
  {
   "cell_type": "markdown",
   "id": "203e0846-fe22-435d-ae88-a956d4e80362",
   "metadata": {},
   "source": [
    "То есть"
   ]
  },
  {
   "cell_type": "markdown",
   "id": "0bb9d906-ce59-4f9b-a202-42093c117cde",
   "metadata": {},
   "source": [
    "$$H_0: \\mu_1 = \\mu_2 $$ $$ H_1: \\mu_1 > \\mu_2 $$"
   ]
  },
  {
   "cell_type": "markdown",
   "id": "26429dbf-b005-4e11-a6cc-334f5b90961d",
   "metadata": {},
   "source": [
    "где $\\mu_1$ -- истинное среднее ГС, из которой взята выборка с выручкой от пользователей с платной подпиской, а $\\mu_2$ -- истинное среднее ГС,\n",
    "из которой взята выборка с выручкой от пользователей с бесплатной подпиской по месяцам."
   ]
  },
  {
   "cell_type": "markdown",
   "id": "7ea1e7a6-1a81-49a5-992a-214a565b15dd",
   "metadata": {},
   "source": [
    "Установим уровень значимости в $5\\%$"
   ]
  },
  {
   "cell_type": "code",
   "execution_count": 54,
   "id": "dd689cd2-647a-49d6-b61e-dafd402e5d92",
   "metadata": {},
   "outputs": [],
   "source": [
    "pvalues = []"
   ]
  },
  {
   "cell_type": "code",
   "execution_count": 55,
   "id": "d22a278e-1243-4a4f-92a8-32d0f131dd2c",
   "metadata": {},
   "outputs": [],
   "source": [
    "for i in range(0, 12):\n",
    "    results = st.ttest_ind(sample_ultra_by_month[i], sample_free_by_month[i], alternative='greater')\n",
    "    pvalues.append(results.pvalue)"
   ]
  },
  {
   "cell_type": "code",
   "execution_count": 56,
   "id": "bbe60c4b-4832-4aeb-bc85-945b48cf31a4",
   "metadata": {},
   "outputs": [
    {
     "data": {
      "text/plain": [
       "0     True\n",
       "1     True\n",
       "2     True\n",
       "3     True\n",
       "4     True\n",
       "5     True\n",
       "6     True\n",
       "7     True\n",
       "8     True\n",
       "9     True\n",
       "10    True\n",
       "11    True\n",
       "dtype: bool"
      ]
     },
     "execution_count": 56,
     "metadata": {},
     "output_type": "execute_result"
    }
   ],
   "source": [
    "pd.Series(pvalues) < 0.05"
   ]
  },
  {
   "cell_type": "markdown",
   "id": "2fd23e80-9e8d-4e69-bdfe-2221174bb09d",
   "metadata": {},
   "source": [
    "Мы видим, что для каждого месяца нулевую гипотезу стоит отвергнуть в пользу альтернативной, то есть тезис о том, что помесячная выручка от пользователей с подпиской по месяцам выше, чем от пользователей бесплатной подписки заслуживает пристальное внимание."
   ]
  },
  {
   "cell_type": "markdown",
   "id": "da42b809-c106-4a07-b75c-26b8e7928686",
   "metadata": {},
   "source": [
    "Проверим теперь гипотезу без разбивки по месяцам"
   ]
  },
  {
   "cell_type": "markdown",
   "id": "cd2decfe-016d-449e-8114-17fd9a21bb94",
   "metadata": {},
   "source": [
    "Сформируем выборки:"
   ]
  },
  {
   "cell_type": "code",
   "execution_count": 57,
   "id": "245db09c-2c05-4246-9bb2-583f62f0ccc3",
   "metadata": {},
   "outputs": [],
   "source": [
    "sample_ultra = sample_ultra.reset_index(drop=True)"
   ]
  },
  {
   "cell_type": "code",
   "execution_count": 58,
   "id": "bb69af0c-bb35-4427-9da5-f65ac5c53a16",
   "metadata": {},
   "outputs": [],
   "source": [
    "sample_free = sample_free.reset_index(drop=True)"
   ]
  },
  {
   "cell_type": "markdown",
   "id": "67b5d26e-9c9b-4026-9ebf-1fa4f1dc75b3",
   "metadata": {},
   "source": [
    "Эти выборки для каждого из месяцев независимы, т.к. сформированы по непересекающемуся признаку.\n",
    "Нам необходимо проверить одностороннюю гипотезу о том, что среднее генеральной совокупности (далее -- ГС), из которой взята выборка с пользователями c подпиской (sample_ultra), больше, чем среднее ГС, из которой взята выборка с пользователями без подписки (sample_free) без учета месяцев."
   ]
  },
  {
   "cell_type": "markdown",
   "id": "c771c037-a68e-4e97-9a35-017063c74d2e",
   "metadata": {},
   "source": [
    "Точнее $$H_0: \\mu_1 = \\mu_2 $$ $$ H_1: \\mu_1 > \\mu_2 $$"
   ]
  },
  {
   "cell_type": "markdown",
   "id": "eebcb9d7-be37-4e3b-8356-d4c30aa7a261",
   "metadata": {},
   "source": [
    "где $\\mu_1$ -- истинное среднее ГС, из которой взята выборка с выручкой от пользователей с платной подпиской, а $\\mu_2$ -- истинное среднее ГС,\n",
    "из которой взята выборка с выручкой от пользователей с бесплатной подпиской без учета месяцев."
   ]
  },
  {
   "cell_type": "markdown",
   "id": "3387e8df-ae4e-4c7c-bbb6-2377ee7f8462",
   "metadata": {},
   "source": [
    "Выберем уровень значимости в $5\\%$"
   ]
  },
  {
   "cell_type": "code",
   "execution_count": 59,
   "id": "63f878d4-a882-4582-8a38-2ce4acc084ba",
   "metadata": {},
   "outputs": [],
   "source": [
    "alpha = 0.05"
   ]
  },
  {
   "cell_type": "code",
   "execution_count": 60,
   "id": "264abfc9-a35f-433e-af12-802fa244e796",
   "metadata": {},
   "outputs": [],
   "source": [
    "results = st.ttest_ind(sample_ultra, sample_free, alternative='greater')"
   ]
  },
  {
   "cell_type": "code",
   "execution_count": 61,
   "id": "c0cf95f4-a63d-4038-9666-d57f9fb5ffe1",
   "metadata": {},
   "outputs": [
    {
     "data": {
      "text/plain": [
       "1.8850394384715216e-31"
      ]
     },
     "execution_count": 61,
     "metadata": {},
     "output_type": "execute_result"
    }
   ],
   "source": [
    "results.pvalue"
   ]
  },
  {
   "cell_type": "markdown",
   "id": "1a65e6c0-8f6b-44dd-a82c-a01a7697a2e6",
   "metadata": {},
   "source": [
    "Мы видим, что pvalue очень мал (заведомо меньше уровня значимости alpha),-- нулевую гипотезу следует отвергнуть в пользу альтернативной.\n",
    "Это означает, что утверждение \"помесячная выручка пользователей с платной подпиской больше помесячной выручки пользователей с бесплатной подпиской\" заслуживает пристальное внимание."
   ]
  },
  {
   "cell_type": "markdown",
   "id": "b51149a1-c48d-4fc2-a810-a3e06a1ba944",
   "metadata": {},
   "source": [
    "#### Обновление серверов"
   ]
  },
  {
   "cell_type": "markdown",
   "id": "f5685535-9c3c-49f0-9861-bd71926f33f9",
   "metadata": {},
   "source": [
    "Если мы хотим проверить гипотезу о качестве работы сервера после обновления, то естественно предположить, что необходимо получить 2 выбори от одних и тех же пользователей до и после обновления -- рассматривать только новых пользователей бессмысленно, т.к. они не в курсе старого положения вещей.\n",
    "\n",
    "Тем самым у нас образуются парные (зависимые) выборки.\n",
    "Для корректного теста выборки необходимо нормировать по размеру (должны быть одинаковыми), отражающему, скажем, число пользователей (или иных логических, но одинаковых сущностей), а также упорядочить так, чтобы номер элемента из обеих выборок соответствовал одному и тому же пользователю (либо логической сущности).\n",
    "После чего можно применить левосторонний t-тест для зависимых выборок -- ttest_rel."
   ]
  },
  {
   "cell_type": "markdown",
   "id": "778b013f-a6a0-411d-9ae0-53bfcc0495cb",
   "metadata": {},
   "source": [
    "### Общий вывод"
   ]
  },
  {
   "cell_type": "markdown",
   "id": "087a379c-0aa4-4bf2-a91f-841e690cb36b",
   "metadata": {},
   "source": [
    "Был проведен анализ данных и получены следующие результаты."
   ]
  },
  {
   "cell_type": "markdown",
   "id": "6951cb62-d3de-415f-8f08-ae13dbe2918b",
   "metadata": {},
   "source": [
    "На этапе предобработки проблем практически не было.\n",
    "* Столбец с датами был приведен к нужному типу данных.\n",
    "* Был создан новый столбец с номером месяца на основе столбца с датами.\n",
    "* Было найдено небольшое количество дубликатов и они были удалены.\n",
    "\n",
    "Мы исследовали данные и обнаружили следующие особенности:\n",
    "* Города в данных встречаются неодинаково, но доли городов распределены более-менее ровно относительно потенциальной средней доли \n",
    "(100 / 8 = $12.5\\%$).\n",
    "* Количество пользователей с подпиской и без примерно одинаково с разницей менее чем в $9\\%$ от общего числа пользователей.\n",
    "* Для анализа возраста клиентов была проведена дополнительная категоризация по группам возрастов и выяснено, что самая многочисленная группа клиентов -- молодые 20-летние люди, что объяснимо молодостью и платежеспособностью. Следующая группа клиентов -- 30-летние люди. Самая малочисленная группа -- подростки и совсем молодые люди, у любителей самокатов в которой скорее будет собственный самокат, нежели прокатный, поэтому, вероятно, их и немного. Группа людей старше 40 лет пренебрежимо мала.\n",
    "* Расстояние большинства совершаемых поездок находится в пределах от 0 км до 5 км. При этом наблюдаются пиковые значения расстояний от 2.1 км до 4.1, что может объяснятся регулярностью маршрутов клиентов (например, с работы/на работу).\n",
    "* Большинство совершаемых поездок имеет продолжительность от 8 до примерно 27 минут\n",
    "* Большинство пользователей платной подписки проезжает от 2.5 до 4 км\n",
    "* Большинство пользоваателей с платной подпиской тратит на поездку от 13 до 25 минут.\n",
    "* Большинство пользователей с бесплатной подпиской проезжает от 2.1 до 5 км. Кроме того, аидим всплеск пользователей до 1500 м, что может объяснятся желанием новых пользователей попробовать сервис.\n",
    "* Большинство пользователей бесплатной подписки тратит на поездку от 8 до 25 минут.\n"
   ]
  },
  {
   "cell_type": "markdown",
   "id": "bc2a750e-84d6-47ed-8d53-1007ba75fe11",
   "metadata": {},
   "source": [
    "Был произведен расчет помесячной выручки для каждого пользователя."
   ]
  },
  {
   "cell_type": "markdown",
   "id": "c9a9e753-e92f-4600-9c19-07f15a10c1c9",
   "metadata": {},
   "source": [
    "Были проверены 3 статистические гипотезы:\n",
    "* Тратят ли пользователи с подпиской больше времени на поездки. Было установлено, что утверждение о том, что пользователи с подпиской\n",
    "склонны тратить больше времени на поездки, имеет под собой статистическое основание и ему должно быть уделено пристальное внимание.\n",
    "* Об оптимальном расстоянии с точки зрения износа самоката. Было установлено, что статистических оснований утверждать, что среднее расстояние, которое проезжают пользователи с подпиской, превышает оптимальные с точки зрения износа 3130 м, мы не имеем.\n",
    "* Будет ли помесячная выручка от пользователей с подпиской по месяцам выше, чем выручка от пользователей без подписки. Установлено, что для каждого месяца тезис о том, что выручка от пользователей с подпиской по месяцам выше, чем от пользователей бесплатной подписки имеет статистические основания и заслуживает внимания. Была также проверена гипотеза о том, что помесячная выручка пользователей с платной подпиской выше, чем помесячная выручка от пользователей с бесплатной подпиской без учета месяцев. Установлено, что тезис \"помесячня выручка пользователей с платной подпиской выше, чем помесячная выручка от пользователей с бесплатной подпиской\" заслуживает пристальное внимание."
   ]
  },
  {
   "cell_type": "markdown",
   "id": "3a80eed5-87dd-40ed-a802-7519b8395e4e",
   "metadata": {},
   "source": [
    "В целом, для сервиса проката рекомендуется сфокусироваться на возрастной группе 20-29 лет как основной среди клиентов сервиса, а также уделять особое внимание пользователям с подпиской, т.к. они могут быть выгоднее для компании, т.к., вероятно, тратят больше времени на поездки, а также помесячная выручка от них больше."
   ]
  },
  {
   "cell_type": "code",
   "execution_count": null,
   "id": "347d5e49-c822-4875-902b-a60dc8ec0386",
   "metadata": {},
   "outputs": [],
   "source": []
  }
 ],
 "metadata": {
  "ExecuteTimeLog": [
   {
    "duration": 1133,
    "start_time": "2024-04-23T19:23:53.334Z"
   },
   {
    "duration": 3,
    "start_time": "2024-04-23T19:23:54.469Z"
   },
   {
    "duration": 7,
    "start_time": "2024-04-23T19:23:54.473Z"
   },
   {
    "duration": 31,
    "start_time": "2024-04-23T19:23:54.481Z"
   },
   {
    "duration": 28,
    "start_time": "2024-04-23T19:23:54.514Z"
   },
   {
    "duration": 16,
    "start_time": "2024-04-23T19:23:54.543Z"
   },
   {
    "duration": 12,
    "start_time": "2024-04-23T19:23:54.560Z"
   },
   {
    "duration": 7,
    "start_time": "2024-04-23T19:23:54.574Z"
   },
   {
    "duration": 14,
    "start_time": "2024-04-23T19:23:54.583Z"
   },
   {
    "duration": 9,
    "start_time": "2024-04-23T19:23:54.599Z"
   },
   {
    "duration": 10,
    "start_time": "2024-04-23T19:23:54.610Z"
   },
   {
    "duration": 11,
    "start_time": "2024-04-23T19:23:54.622Z"
   },
   {
    "duration": 31,
    "start_time": "2024-04-23T19:23:54.634Z"
   },
   {
    "duration": 5,
    "start_time": "2024-04-23T19:23:54.669Z"
   },
   {
    "duration": 10,
    "start_time": "2024-04-23T19:23:54.675Z"
   },
   {
    "duration": 11,
    "start_time": "2024-04-23T19:23:54.687Z"
   },
   {
    "duration": 10,
    "start_time": "2024-04-23T19:23:54.700Z"
   },
   {
    "duration": 6,
    "start_time": "2024-04-23T19:23:54.711Z"
   },
   {
    "duration": 174,
    "start_time": "2024-04-23T19:23:54.718Z"
   },
   {
    "duration": 8,
    "start_time": "2024-04-23T19:23:54.893Z"
   },
   {
    "duration": 122,
    "start_time": "2024-04-23T19:23:54.902Z"
   },
   {
    "duration": 10,
    "start_time": "2024-04-23T19:23:55.026Z"
   },
   {
    "duration": 245,
    "start_time": "2024-04-23T19:23:55.038Z"
   },
   {
    "duration": 113,
    "start_time": "2024-04-23T19:23:55.285Z"
   },
   {
    "duration": 139,
    "start_time": "2024-04-23T19:23:55.400Z"
   },
   {
    "duration": 158,
    "start_time": "2024-04-23T19:23:55.540Z"
   },
   {
    "duration": 121,
    "start_time": "2024-04-23T19:23:55.700Z"
   },
   {
    "duration": 10,
    "start_time": "2024-04-23T19:23:55.822Z"
   },
   {
    "duration": 9,
    "start_time": "2024-04-23T19:23:55.834Z"
   },
   {
    "duration": 11,
    "start_time": "2024-04-23T19:23:55.860Z"
   },
   {
    "duration": 10,
    "start_time": "2024-04-23T19:23:55.873Z"
   },
   {
    "duration": 195,
    "start_time": "2024-04-23T19:23:55.885Z"
   },
   {
    "duration": 154,
    "start_time": "2024-04-23T19:23:56.081Z"
   },
   {
    "duration": 216,
    "start_time": "2024-04-23T19:23:56.236Z"
   },
   {
    "duration": 146,
    "start_time": "2024-04-23T19:23:56.454Z"
   },
   {
    "duration": 28,
    "start_time": "2024-04-23T19:23:56.601Z"
   },
   {
    "duration": 5,
    "start_time": "2024-04-23T19:23:56.630Z"
   },
   {
    "duration": 6,
    "start_time": "2024-04-23T19:23:56.636Z"
   },
   {
    "duration": 18,
    "start_time": "2024-04-23T19:23:56.643Z"
   },
   {
    "duration": 35950,
    "start_time": "2024-04-23T19:23:56.662Z"
   },
   {
    "duration": 73,
    "start_time": "2024-04-23T19:24:32.617Z"
   },
   {
    "duration": 4,
    "start_time": "2024-04-23T19:24:32.693Z"
   },
   {
    "duration": 15,
    "start_time": "2024-04-23T19:24:32.699Z"
   },
   {
    "duration": 11,
    "start_time": "2024-04-23T19:24:32.715Z"
   },
   {
    "duration": 11,
    "start_time": "2024-04-23T19:24:32.727Z"
   },
   {
    "duration": 15,
    "start_time": "2024-04-23T19:24:32.740Z"
   },
   {
    "duration": 20,
    "start_time": "2024-04-23T19:24:32.756Z"
   },
   {
    "duration": 96,
    "start_time": "2024-04-23T19:24:32.778Z"
   },
   {
    "duration": 0,
    "start_time": "2024-04-23T19:24:32.875Z"
   },
   {
    "duration": 0,
    "start_time": "2024-04-23T19:24:32.877Z"
   },
   {
    "duration": 0,
    "start_time": "2024-04-23T19:24:32.878Z"
   },
   {
    "duration": 0,
    "start_time": "2024-04-23T19:24:32.879Z"
   },
   {
    "duration": 0,
    "start_time": "2024-04-23T19:24:32.880Z"
   },
   {
    "duration": 0,
    "start_time": "2024-04-23T19:24:32.881Z"
   },
   {
    "duration": 57,
    "start_time": "2024-04-23T19:29:34.449Z"
   },
   {
    "duration": 1238,
    "start_time": "2024-04-23T19:29:48.933Z"
   },
   {
    "duration": 3,
    "start_time": "2024-04-23T19:29:50.173Z"
   },
   {
    "duration": 18,
    "start_time": "2024-04-23T19:29:50.177Z"
   },
   {
    "duration": 59,
    "start_time": "2024-04-23T19:29:50.196Z"
   },
   {
    "duration": 29,
    "start_time": "2024-04-23T19:29:50.257Z"
   },
   {
    "duration": 16,
    "start_time": "2024-04-23T19:29:50.288Z"
   },
   {
    "duration": 12,
    "start_time": "2024-04-23T19:29:50.305Z"
   },
   {
    "duration": 8,
    "start_time": "2024-04-23T19:29:50.319Z"
   },
   {
    "duration": 16,
    "start_time": "2024-04-23T19:29:50.328Z"
   },
   {
    "duration": 15,
    "start_time": "2024-04-23T19:29:50.346Z"
   },
   {
    "duration": 30,
    "start_time": "2024-04-23T19:29:50.363Z"
   },
   {
    "duration": 17,
    "start_time": "2024-04-23T19:29:50.395Z"
   },
   {
    "duration": 12,
    "start_time": "2024-04-23T19:29:50.413Z"
   },
   {
    "duration": 7,
    "start_time": "2024-04-23T19:29:50.428Z"
   },
   {
    "duration": 5,
    "start_time": "2024-04-23T19:29:50.436Z"
   },
   {
    "duration": 13,
    "start_time": "2024-04-23T19:29:50.443Z"
   },
   {
    "duration": 9,
    "start_time": "2024-04-23T19:29:50.458Z"
   },
   {
    "duration": 19,
    "start_time": "2024-04-23T19:29:50.468Z"
   },
   {
    "duration": 139,
    "start_time": "2024-04-23T19:29:50.489Z"
   },
   {
    "duration": 7,
    "start_time": "2024-04-23T19:29:50.630Z"
   },
   {
    "duration": 134,
    "start_time": "2024-04-23T19:29:50.638Z"
   },
   {
    "duration": 10,
    "start_time": "2024-04-23T19:29:50.773Z"
   },
   {
    "duration": 247,
    "start_time": "2024-04-23T19:29:50.784Z"
   },
   {
    "duration": 117,
    "start_time": "2024-04-23T19:29:51.033Z"
   },
   {
    "duration": 140,
    "start_time": "2024-04-23T19:29:51.152Z"
   },
   {
    "duration": 149,
    "start_time": "2024-04-23T19:29:51.293Z"
   },
   {
    "duration": 119,
    "start_time": "2024-04-23T19:29:51.444Z"
   },
   {
    "duration": 9,
    "start_time": "2024-04-23T19:29:51.565Z"
   },
   {
    "duration": 17,
    "start_time": "2024-04-23T19:29:51.576Z"
   },
   {
    "duration": 8,
    "start_time": "2024-04-23T19:29:51.595Z"
   },
   {
    "duration": 20,
    "start_time": "2024-04-23T19:29:51.604Z"
   },
   {
    "duration": 174,
    "start_time": "2024-04-23T19:29:51.626Z"
   },
   {
    "duration": 171,
    "start_time": "2024-04-23T19:29:51.802Z"
   },
   {
    "duration": 211,
    "start_time": "2024-04-23T19:29:51.975Z"
   },
   {
    "duration": 149,
    "start_time": "2024-04-23T19:29:52.187Z"
   },
   {
    "duration": 34,
    "start_time": "2024-04-23T19:29:52.337Z"
   },
   {
    "duration": 49,
    "start_time": "2024-04-23T19:29:52.373Z"
   },
   {
    "duration": 5,
    "start_time": "2024-04-23T19:29:52.423Z"
   },
   {
    "duration": 9,
    "start_time": "2024-04-23T19:29:52.429Z"
   },
   {
    "duration": 22,
    "start_time": "2024-04-23T19:29:52.439Z"
   },
   {
    "duration": 34896,
    "start_time": "2024-04-23T19:29:52.464Z"
   },
   {
    "duration": 55,
    "start_time": "2024-04-23T19:30:27.362Z"
   },
   {
    "duration": 4,
    "start_time": "2024-04-23T19:30:27.419Z"
   },
   {
    "duration": 30,
    "start_time": "2024-04-23T19:30:27.424Z"
   },
   {
    "duration": 13,
    "start_time": "2024-04-23T19:30:27.456Z"
   },
   {
    "duration": 5,
    "start_time": "2024-04-23T19:30:27.471Z"
   },
   {
    "duration": 5,
    "start_time": "2024-04-23T19:30:27.477Z"
   },
   {
    "duration": 5,
    "start_time": "2024-04-23T19:30:27.483Z"
   },
   {
    "duration": 115,
    "start_time": "2024-04-23T19:30:27.490Z"
   },
   {
    "duration": 0,
    "start_time": "2024-04-23T19:30:27.607Z"
   },
   {
    "duration": 0,
    "start_time": "2024-04-23T19:30:27.608Z"
   },
   {
    "duration": 0,
    "start_time": "2024-04-23T19:30:27.610Z"
   },
   {
    "duration": 0,
    "start_time": "2024-04-23T19:30:27.612Z"
   },
   {
    "duration": 0,
    "start_time": "2024-04-23T19:30:27.613Z"
   },
   {
    "duration": 0,
    "start_time": "2024-04-23T19:30:27.615Z"
   },
   {
    "duration": 1146,
    "start_time": "2024-04-25T06:45:23.765Z"
   },
   {
    "duration": 2,
    "start_time": "2024-04-25T06:45:24.913Z"
   },
   {
    "duration": 16,
    "start_time": "2024-04-25T06:45:24.917Z"
   },
   {
    "duration": 39,
    "start_time": "2024-04-25T06:45:24.935Z"
   },
   {
    "duration": 37,
    "start_time": "2024-04-25T06:45:24.976Z"
   },
   {
    "duration": 16,
    "start_time": "2024-04-25T06:45:25.014Z"
   },
   {
    "duration": 12,
    "start_time": "2024-04-25T06:45:25.032Z"
   },
   {
    "duration": 20,
    "start_time": "2024-04-25T06:45:25.045Z"
   },
   {
    "duration": 10,
    "start_time": "2024-04-25T06:45:25.067Z"
   },
   {
    "duration": 17,
    "start_time": "2024-04-25T06:45:25.078Z"
   },
   {
    "duration": 28,
    "start_time": "2024-04-25T06:45:25.097Z"
   },
   {
    "duration": 10,
    "start_time": "2024-04-25T06:45:25.126Z"
   },
   {
    "duration": 25,
    "start_time": "2024-04-25T06:45:25.138Z"
   },
   {
    "duration": 20,
    "start_time": "2024-04-25T06:45:25.166Z"
   },
   {
    "duration": 27,
    "start_time": "2024-04-25T06:45:25.187Z"
   },
   {
    "duration": 5,
    "start_time": "2024-04-25T06:45:25.216Z"
   },
   {
    "duration": 33,
    "start_time": "2024-04-25T06:45:25.223Z"
   },
   {
    "duration": 33,
    "start_time": "2024-04-25T06:45:25.258Z"
   },
   {
    "duration": 171,
    "start_time": "2024-04-25T06:45:25.292Z"
   },
   {
    "duration": 9,
    "start_time": "2024-04-25T06:45:25.465Z"
   },
   {
    "duration": 30,
    "start_time": "2024-04-25T06:45:25.476Z"
   },
   {
    "duration": 163,
    "start_time": "2024-04-25T06:45:25.507Z"
   },
   {
    "duration": 10,
    "start_time": "2024-04-25T06:45:25.671Z"
   },
   {
    "duration": 114,
    "start_time": "2024-04-25T06:45:25.684Z"
   },
   {
    "duration": 273,
    "start_time": "2024-04-25T06:45:25.799Z"
   },
   {
    "duration": 125,
    "start_time": "2024-04-25T06:45:26.074Z"
   },
   {
    "duration": 152,
    "start_time": "2024-04-25T06:45:26.201Z"
   },
   {
    "duration": 151,
    "start_time": "2024-04-25T06:45:26.354Z"
   },
   {
    "duration": 116,
    "start_time": "2024-04-25T06:45:26.506Z"
   },
   {
    "duration": 11,
    "start_time": "2024-04-25T06:45:26.628Z"
   },
   {
    "duration": 14,
    "start_time": "2024-04-25T06:45:26.640Z"
   },
   {
    "duration": 14,
    "start_time": "2024-04-25T06:45:26.656Z"
   },
   {
    "duration": 10,
    "start_time": "2024-04-25T06:45:26.672Z"
   },
   {
    "duration": 153,
    "start_time": "2024-04-25T06:45:26.683Z"
   },
   {
    "duration": 183,
    "start_time": "2024-04-25T06:45:26.837Z"
   },
   {
    "duration": 245,
    "start_time": "2024-04-25T06:45:27.022Z"
   },
   {
    "duration": 160,
    "start_time": "2024-04-25T06:45:27.269Z"
   },
   {
    "duration": 1886,
    "start_time": "2024-04-25T06:45:27.431Z"
   },
   {
    "duration": 21943,
    "start_time": "2024-04-25T06:45:29.319Z"
   },
   {
    "duration": 19,
    "start_time": "2024-04-25T06:45:51.264Z"
   },
   {
    "duration": 24,
    "start_time": "2024-04-25T06:45:51.287Z"
   },
   {
    "duration": 36,
    "start_time": "2024-04-25T06:45:51.313Z"
   },
   {
    "duration": 37,
    "start_time": "2024-04-25T06:45:51.351Z"
   },
   {
    "duration": 27,
    "start_time": "2024-04-25T06:45:51.390Z"
   },
   {
    "duration": 29,
    "start_time": "2024-04-25T06:45:51.419Z"
   },
   {
    "duration": 34,
    "start_time": "2024-04-25T06:45:51.450Z"
   },
   {
    "duration": 15,
    "start_time": "2024-04-25T06:45:51.486Z"
   },
   {
    "duration": 30,
    "start_time": "2024-04-25T06:45:51.502Z"
   },
   {
    "duration": 47,
    "start_time": "2024-04-25T06:45:51.534Z"
   },
   {
    "duration": 36,
    "start_time": "2024-04-25T06:45:51.583Z"
   },
   {
    "duration": 7439,
    "start_time": "2024-04-25T06:45:51.620Z"
   },
   {
    "duration": 7501,
    "start_time": "2024-04-25T06:45:59.060Z"
   },
   {
    "duration": 12,
    "start_time": "2024-04-25T06:46:06.563Z"
   },
   {
    "duration": 14,
    "start_time": "2024-04-25T06:46:06.577Z"
   },
   {
    "duration": 12,
    "start_time": "2024-04-25T06:46:06.592Z"
   },
   {
    "duration": 9,
    "start_time": "2024-04-25T06:46:06.605Z"
   },
   {
    "duration": 26,
    "start_time": "2024-04-25T06:47:02.337Z"
   },
   {
    "duration": 17,
    "start_time": "2024-04-25T06:47:07.881Z"
   },
   {
    "duration": 10,
    "start_time": "2024-04-25T06:47:17.251Z"
   },
   {
    "duration": 11,
    "start_time": "2024-04-25T06:47:29.083Z"
   },
   {
    "duration": 8,
    "start_time": "2024-04-25T06:47:36.685Z"
   },
   {
    "duration": 11,
    "start_time": "2024-04-25T06:47:40.555Z"
   },
   {
    "duration": 11,
    "start_time": "2024-04-25T06:47:50.117Z"
   },
   {
    "duration": 9,
    "start_time": "2024-04-25T06:47:54.135Z"
   }
  ],
  "kernelspec": {
   "display_name": "Python 3 (ipykernel)",
   "language": "python",
   "name": "python3"
  },
  "language_info": {
   "codemirror_mode": {
    "name": "ipython",
    "version": 3
   },
   "file_extension": ".py",
   "mimetype": "text/x-python",
   "name": "python",
   "nbconvert_exporter": "python",
   "pygments_lexer": "ipython3",
   "version": "3.13.7"
  },
  "toc": {
   "base_numbering": 1,
   "nav_menu": {},
   "number_sections": true,
   "sideBar": true,
   "skip_h1_title": true,
   "title_cell": "Table of Contents",
   "title_sidebar": "Contents",
   "toc_cell": false,
   "toc_position": {},
   "toc_section_display": true,
   "toc_window_display": false
  }
 },
 "nbformat": 4,
 "nbformat_minor": 5
}

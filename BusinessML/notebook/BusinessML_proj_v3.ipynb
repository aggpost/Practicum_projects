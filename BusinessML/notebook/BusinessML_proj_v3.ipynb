{
 "cells": [
  {
   "cell_type": "markdown",
   "id": "80442bfb-edcc-43c1-a809-3e50bfb83f95",
   "metadata": {},
   "source": [
    "# Проект «Выбор локации для скважины»"
   ]
  },
  {
   "cell_type": "markdown",
   "id": "aaacb156-12f4-44a1-a453-c23f2d6d5631",
   "metadata": {},
   "source": [
    "### Описание задачи"
   ]
  },
  {
   "cell_type": "markdown",
   "id": "9a63c41f-e349-42bd-a4ba-5b6ad2d9aec8",
   "metadata": {},
   "source": [
    "Мы работаем в добывающей компании «ГлавРосГосНефть».\n",
    "\n",
    "Нам необходимо решить, где бурить новую скважину."
   ]
  },
  {
   "cell_type": "markdown",
   "id": "55127779-e4d6-4641-b5a0-cae2cb257583",
   "metadata": {},
   "source": [
    "#### Постановка задачи"
   ]
  },
  {
   "cell_type": "markdown",
   "id": "dae3ca39-f8d9-4cb1-8829-eab861b9d6c0",
   "metadata": {},
   "source": [
    "Нам предоставлены пробы нефти в трех регионах.\n",
    "Характеристики для каждой скважины уже известны.\n",
    "Необходимо построить модель для определения региона, где добыча принесет наибольшую прибыль, а также проанализировать возможную прибыль\n",
    "и риски техникой Bootstrap."
   ]
  },
  {
   "cell_type": "markdown",
   "id": "ab24d884-a4c5-4bc4-beb7-d05c5ee727e3",
   "metadata": {},
   "source": [
    "### Описание данных"
   ]
  },
  {
   "cell_type": "markdown",
   "id": "b2e744a0-5fdd-4e74-9469-484547a674a5",
   "metadata": {},
   "source": [
    "Данные геологоразведки трех регионов находятся в трех датасетах (geo_data_N.csv, где N = 0, 1, 2), в которых:\n",
    "* id — уникальный идентификатор скважины\n",
    "* f0, f1, f2 — три признака точек\n",
    "* product — объем запасов в скважине (тыс. баррелей)"
   ]
  },
  {
   "cell_type": "markdown",
   "id": "d7c9c2b2-7676-4001-9ec4-597986446e07",
   "metadata": {},
   "source": [
    "#### Условия задачи"
   ]
  },
  {
   "cell_type": "markdown",
   "id": "6d4657d9-8844-4803-8a5f-936a90ca6058",
   "metadata": {},
   "source": [
    "* Для обучения модели подходит только линейная регрессия.\n",
    "* При разведке региона исследуют 500 точек, из которых с помощью машинного обучения выбирают 200 лучших для разработки.\n",
    "* Бюджет на разработку скважин в регионе — 10 млрд рублей.\n",
    "* При нынешних ценах один баррель сырья приносит 450 рублей дохода. Доход с каждой единицы продукта составляет 450 тыс. рублей, поскольку объём указан в тысячах баррелей.\n",
    "* После оценки рисков нужно оставить лишь те регионы, в которых вероятность убытков меньше 2.5%. Среди них выбирают регион с наибольшей средней прибылью."
   ]
  },
  {
   "cell_type": "markdown",
   "id": "342a75b6-72df-4a5a-aa0d-91fdf60bb6fa",
   "metadata": {},
   "source": [
    "Данные синтетические: детали контрактов и характеристики месторождений не разглашаются."
   ]
  },
  {
   "cell_type": "markdown",
   "id": "5548b620-fdcd-4202-ab7a-cdf914846f98",
   "metadata": {},
   "source": [
    "## Загрузка библиотек"
   ]
  },
  {
   "cell_type": "code",
   "execution_count": 1,
   "id": "8e409d26-f004-4187-8c52-e47d6de42961",
   "metadata": {},
   "outputs": [],
   "source": [
    "import matplotlib.pyplot as plt\n",
    "import numpy as np\n",
    "import pandas as pd\n",
    "from sklearn.model_selection import train_test_split\n",
    "from sklearn.preprocessing import StandardScaler\n",
    "from sklearn.linear_model import LinearRegression\n",
    "from sklearn.metrics import mean_absolute_error\n",
    "from sklearn.metrics import root_mean_squared_error"
   ]
  },
  {
   "cell_type": "code",
   "execution_count": 3,
   "id": "da92c598-203f-49f5-a186-cb9335507305",
   "metadata": {},
   "outputs": [],
   "source": [
    "RANDOM_STATE = 12345"
   ]
  },
  {
   "cell_type": "markdown",
   "id": "f4dc3f86-92f0-4a00-a1ec-d801b7b1361c",
   "metadata": {},
   "source": [
    "## Загрузка данных"
   ]
  },
  {
   "cell_type": "code",
   "execution_count": 4,
   "id": "6ce5a9ee-6585-4ad6-a210-7d8390c2e620",
   "metadata": {},
   "outputs": [],
   "source": [
    "filename_1 = 'geo_data_0.csv'\n",
    "filename_2 = 'geo_data_1.csv'\n",
    "filename_3 = 'geo_data_2.csv'"
   ]
  },
  {
   "cell_type": "code",
   "execution_count": 5,
   "id": "9fb3dd41-af74-488b-8cc0-34eea59ff579",
   "metadata": {},
   "outputs": [],
   "source": [
    "try:\n",
    "    data_1 = pd.read_csv('/datasets/' + filename_1)\n",
    "except:\n",
    "    data_1 = pd.read_csv(filename_1)"
   ]
  },
  {
   "cell_type": "code",
   "execution_count": 6,
   "id": "5ffa77b9-4a16-4ab8-9fe6-26e8636336ff",
   "metadata": {},
   "outputs": [],
   "source": [
    "try:\n",
    "    data_2 = pd.read_csv('/datasets/' + filename_2)\n",
    "except:\n",
    "    data_2 = pd.read_csv(filename_2)"
   ]
  },
  {
   "cell_type": "code",
   "execution_count": 7,
   "id": "46d37edb-cda1-43ba-bc29-0a979b9cf9a1",
   "metadata": {},
   "outputs": [],
   "source": [
    "try:\n",
    "    data_3 = pd.read_csv('/datasets/' + filename_3)\n",
    "except:\n",
    "    data_3 = pd.read_csv(filename_3)"
   ]
  },
  {
   "cell_type": "markdown",
   "id": "bb23eeb0-ea13-44e6-97e6-553be71eb586",
   "metadata": {},
   "source": [
    "#### Осмотр данных"
   ]
  },
  {
   "cell_type": "markdown",
   "id": "be3a8956-9733-46f1-a450-be8187628d14",
   "metadata": {},
   "source": [
    "Посмотрим на датасеты"
   ]
  },
  {
   "cell_type": "markdown",
   "id": "4c258b19-184d-43be-b5fb-d187b1c1c8e2",
   "metadata": {},
   "source": [
    "##### data_1"
   ]
  },
  {
   "cell_type": "code",
   "execution_count": 8,
   "id": "99e2c3e5-3494-4a58-9642-54ace7a5b898",
   "metadata": {},
   "outputs": [
    {
     "name": "stdout",
     "output_type": "stream",
     "text": [
      "<class 'pandas.core.frame.DataFrame'>\n",
      "RangeIndex: 100000 entries, 0 to 99999\n",
      "Data columns (total 5 columns):\n",
      " #   Column   Non-Null Count   Dtype  \n",
      "---  ------   --------------   -----  \n",
      " 0   id       100000 non-null  object \n",
      " 1   f0       100000 non-null  float64\n",
      " 2   f1       100000 non-null  float64\n",
      " 3   f2       100000 non-null  float64\n",
      " 4   product  100000 non-null  float64\n",
      "dtypes: float64(4), object(1)\n",
      "memory usage: 3.8+ MB\n"
     ]
    }
   ],
   "source": [
    "data_1.info()"
   ]
  },
  {
   "cell_type": "markdown",
   "id": "6d738f79-49ba-4c1c-a091-32fd46350fad",
   "metadata": {},
   "source": [
    "Видим, что датасет полный (без NaN'ов).\n",
    "Отметим, что индексы имеют тип object, т.е. строковый, а не числовой.\n",
    "\n",
    "Посмотрим на первые 5 строк датасета."
   ]
  },
  {
   "cell_type": "code",
   "execution_count": 9,
   "id": "aa65fc8f-6d91-4e00-90b1-5d182ea864df",
   "metadata": {},
   "outputs": [
    {
     "data": {
      "text/html": [
       "<div>\n",
       "<style scoped>\n",
       "    .dataframe tbody tr th:only-of-type {\n",
       "        vertical-align: middle;\n",
       "    }\n",
       "\n",
       "    .dataframe tbody tr th {\n",
       "        vertical-align: top;\n",
       "    }\n",
       "\n",
       "    .dataframe thead th {\n",
       "        text-align: right;\n",
       "    }\n",
       "</style>\n",
       "<table border=\"1\" class=\"dataframe\">\n",
       "  <thead>\n",
       "    <tr style=\"text-align: right;\">\n",
       "      <th></th>\n",
       "      <th>id</th>\n",
       "      <th>f0</th>\n",
       "      <th>f1</th>\n",
       "      <th>f2</th>\n",
       "      <th>product</th>\n",
       "    </tr>\n",
       "  </thead>\n",
       "  <tbody>\n",
       "    <tr>\n",
       "      <th>0</th>\n",
       "      <td>txEyH</td>\n",
       "      <td>0.705745</td>\n",
       "      <td>-0.497823</td>\n",
       "      <td>1.221170</td>\n",
       "      <td>105.280062</td>\n",
       "    </tr>\n",
       "    <tr>\n",
       "      <th>1</th>\n",
       "      <td>2acmU</td>\n",
       "      <td>1.334711</td>\n",
       "      <td>-0.340164</td>\n",
       "      <td>4.365080</td>\n",
       "      <td>73.037750</td>\n",
       "    </tr>\n",
       "    <tr>\n",
       "      <th>2</th>\n",
       "      <td>409Wp</td>\n",
       "      <td>1.022732</td>\n",
       "      <td>0.151990</td>\n",
       "      <td>1.419926</td>\n",
       "      <td>85.265647</td>\n",
       "    </tr>\n",
       "    <tr>\n",
       "      <th>3</th>\n",
       "      <td>iJLyR</td>\n",
       "      <td>-0.032172</td>\n",
       "      <td>0.139033</td>\n",
       "      <td>2.978566</td>\n",
       "      <td>168.620776</td>\n",
       "    </tr>\n",
       "    <tr>\n",
       "      <th>4</th>\n",
       "      <td>Xdl7t</td>\n",
       "      <td>1.988431</td>\n",
       "      <td>0.155413</td>\n",
       "      <td>4.751769</td>\n",
       "      <td>154.036647</td>\n",
       "    </tr>\n",
       "  </tbody>\n",
       "</table>\n",
       "</div>"
      ],
      "text/plain": [
       "      id        f0        f1        f2     product\n",
       "0  txEyH  0.705745 -0.497823  1.221170  105.280062\n",
       "1  2acmU  1.334711 -0.340164  4.365080   73.037750\n",
       "2  409Wp  1.022732  0.151990  1.419926   85.265647\n",
       "3  iJLyR -0.032172  0.139033  2.978566  168.620776\n",
       "4  Xdl7t  1.988431  0.155413  4.751769  154.036647"
      ]
     },
     "execution_count": 9,
     "metadata": {},
     "output_type": "execute_result"
    }
   ],
   "source": [
    "data_1.head()"
   ]
  },
  {
   "cell_type": "markdown",
   "id": "5ef31b83-6a70-456c-a011-1e0ab87c5986",
   "metadata": {},
   "source": [
    "Датасет загрузился корректно."
   ]
  },
  {
   "cell_type": "markdown",
   "id": "f0cbe3d7-d760-481d-ab65-8f4be53d3bed",
   "metadata": {},
   "source": [
    "##### data_2"
   ]
  },
  {
   "cell_type": "code",
   "execution_count": 10,
   "id": "16bd8981-ee24-4809-b71f-270cb9cf391e",
   "metadata": {},
   "outputs": [
    {
     "name": "stdout",
     "output_type": "stream",
     "text": [
      "<class 'pandas.core.frame.DataFrame'>\n",
      "RangeIndex: 100000 entries, 0 to 99999\n",
      "Data columns (total 5 columns):\n",
      " #   Column   Non-Null Count   Dtype  \n",
      "---  ------   --------------   -----  \n",
      " 0   id       100000 non-null  object \n",
      " 1   f0       100000 non-null  float64\n",
      " 2   f1       100000 non-null  float64\n",
      " 3   f2       100000 non-null  float64\n",
      " 4   product  100000 non-null  float64\n",
      "dtypes: float64(4), object(1)\n",
      "memory usage: 3.8+ MB\n"
     ]
    }
   ],
   "source": [
    "data_2.info()"
   ]
  },
  {
   "cell_type": "markdown",
   "id": "ce9c5046-d204-4662-9bd1-c426f21849e6",
   "metadata": {},
   "source": [
    "Датасет полный (без NaN'ов).\n",
    "Индексы также имеют строковый тип.\n",
    "\n",
    "Посмотрим на первые 5 строк."
   ]
  },
  {
   "cell_type": "code",
   "execution_count": 11,
   "id": "f6d30ad4-4d3c-472a-939d-985508f40684",
   "metadata": {},
   "outputs": [
    {
     "data": {
      "text/html": [
       "<div>\n",
       "<style scoped>\n",
       "    .dataframe tbody tr th:only-of-type {\n",
       "        vertical-align: middle;\n",
       "    }\n",
       "\n",
       "    .dataframe tbody tr th {\n",
       "        vertical-align: top;\n",
       "    }\n",
       "\n",
       "    .dataframe thead th {\n",
       "        text-align: right;\n",
       "    }\n",
       "</style>\n",
       "<table border=\"1\" class=\"dataframe\">\n",
       "  <thead>\n",
       "    <tr style=\"text-align: right;\">\n",
       "      <th></th>\n",
       "      <th>id</th>\n",
       "      <th>f0</th>\n",
       "      <th>f1</th>\n",
       "      <th>f2</th>\n",
       "      <th>product</th>\n",
       "    </tr>\n",
       "  </thead>\n",
       "  <tbody>\n",
       "    <tr>\n",
       "      <th>0</th>\n",
       "      <td>kBEdx</td>\n",
       "      <td>-15.001348</td>\n",
       "      <td>-8.276000</td>\n",
       "      <td>-0.005876</td>\n",
       "      <td>3.179103</td>\n",
       "    </tr>\n",
       "    <tr>\n",
       "      <th>1</th>\n",
       "      <td>62mP7</td>\n",
       "      <td>14.272088</td>\n",
       "      <td>-3.475083</td>\n",
       "      <td>0.999183</td>\n",
       "      <td>26.953261</td>\n",
       "    </tr>\n",
       "    <tr>\n",
       "      <th>2</th>\n",
       "      <td>vyE1P</td>\n",
       "      <td>6.263187</td>\n",
       "      <td>-5.948386</td>\n",
       "      <td>5.001160</td>\n",
       "      <td>134.766305</td>\n",
       "    </tr>\n",
       "    <tr>\n",
       "      <th>3</th>\n",
       "      <td>KcrkZ</td>\n",
       "      <td>-13.081196</td>\n",
       "      <td>-11.506057</td>\n",
       "      <td>4.999415</td>\n",
       "      <td>137.945408</td>\n",
       "    </tr>\n",
       "    <tr>\n",
       "      <th>4</th>\n",
       "      <td>AHL4O</td>\n",
       "      <td>12.702195</td>\n",
       "      <td>-8.147433</td>\n",
       "      <td>5.004363</td>\n",
       "      <td>134.766305</td>\n",
       "    </tr>\n",
       "  </tbody>\n",
       "</table>\n",
       "</div>"
      ],
      "text/plain": [
       "      id         f0         f1        f2     product\n",
       "0  kBEdx -15.001348  -8.276000 -0.005876    3.179103\n",
       "1  62mP7  14.272088  -3.475083  0.999183   26.953261\n",
       "2  vyE1P   6.263187  -5.948386  5.001160  134.766305\n",
       "3  KcrkZ -13.081196 -11.506057  4.999415  137.945408\n",
       "4  AHL4O  12.702195  -8.147433  5.004363  134.766305"
      ]
     },
     "execution_count": 11,
     "metadata": {},
     "output_type": "execute_result"
    }
   ],
   "source": [
    "data_2.head()"
   ]
  },
  {
   "cell_type": "markdown",
   "id": "2ef31c02-a934-462f-bd50-daa4f476293c",
   "metadata": {},
   "source": [
    "Датасет загрузился корректно."
   ]
  },
  {
   "cell_type": "markdown",
   "id": "e7393970-70dd-4d83-aa4a-4f7b046f6ec8",
   "metadata": {},
   "source": [
    "##### data_3"
   ]
  },
  {
   "cell_type": "code",
   "execution_count": 12,
   "id": "77b5a21d-7285-4193-9545-f7305dd44d62",
   "metadata": {},
   "outputs": [
    {
     "name": "stdout",
     "output_type": "stream",
     "text": [
      "<class 'pandas.core.frame.DataFrame'>\n",
      "RangeIndex: 100000 entries, 0 to 99999\n",
      "Data columns (total 5 columns):\n",
      " #   Column   Non-Null Count   Dtype  \n",
      "---  ------   --------------   -----  \n",
      " 0   id       100000 non-null  object \n",
      " 1   f0       100000 non-null  float64\n",
      " 2   f1       100000 non-null  float64\n",
      " 3   f2       100000 non-null  float64\n",
      " 4   product  100000 non-null  float64\n",
      "dtypes: float64(4), object(1)\n",
      "memory usage: 3.8+ MB\n"
     ]
    }
   ],
   "source": [
    "data_3.info()"
   ]
  },
  {
   "cell_type": "markdown",
   "id": "8f532660-b36f-4eb9-99d9-108214ba5687",
   "metadata": {},
   "source": [
    "Датасет полный (без NaN'ов).\n",
    "Индексы имеют строковый тип.\n",
    "\n",
    "Посмотрим на первые 5 строк."
   ]
  },
  {
   "cell_type": "code",
   "execution_count": 13,
   "id": "e031bbcb-68ce-4d2e-9f3a-ad28067bfc06",
   "metadata": {},
   "outputs": [
    {
     "data": {
      "text/html": [
       "<div>\n",
       "<style scoped>\n",
       "    .dataframe tbody tr th:only-of-type {\n",
       "        vertical-align: middle;\n",
       "    }\n",
       "\n",
       "    .dataframe tbody tr th {\n",
       "        vertical-align: top;\n",
       "    }\n",
       "\n",
       "    .dataframe thead th {\n",
       "        text-align: right;\n",
       "    }\n",
       "</style>\n",
       "<table border=\"1\" class=\"dataframe\">\n",
       "  <thead>\n",
       "    <tr style=\"text-align: right;\">\n",
       "      <th></th>\n",
       "      <th>id</th>\n",
       "      <th>f0</th>\n",
       "      <th>f1</th>\n",
       "      <th>f2</th>\n",
       "      <th>product</th>\n",
       "    </tr>\n",
       "  </thead>\n",
       "  <tbody>\n",
       "    <tr>\n",
       "      <th>0</th>\n",
       "      <td>fwXo0</td>\n",
       "      <td>-1.146987</td>\n",
       "      <td>0.963328</td>\n",
       "      <td>-0.828965</td>\n",
       "      <td>27.758673</td>\n",
       "    </tr>\n",
       "    <tr>\n",
       "      <th>1</th>\n",
       "      <td>WJtFt</td>\n",
       "      <td>0.262778</td>\n",
       "      <td>0.269839</td>\n",
       "      <td>-2.530187</td>\n",
       "      <td>56.069697</td>\n",
       "    </tr>\n",
       "    <tr>\n",
       "      <th>2</th>\n",
       "      <td>ovLUW</td>\n",
       "      <td>0.194587</td>\n",
       "      <td>0.289035</td>\n",
       "      <td>-5.586433</td>\n",
       "      <td>62.871910</td>\n",
       "    </tr>\n",
       "    <tr>\n",
       "      <th>3</th>\n",
       "      <td>q6cA6</td>\n",
       "      <td>2.236060</td>\n",
       "      <td>-0.553760</td>\n",
       "      <td>0.930038</td>\n",
       "      <td>114.572842</td>\n",
       "    </tr>\n",
       "    <tr>\n",
       "      <th>4</th>\n",
       "      <td>WPMUX</td>\n",
       "      <td>-0.515993</td>\n",
       "      <td>1.716266</td>\n",
       "      <td>5.899011</td>\n",
       "      <td>149.600746</td>\n",
       "    </tr>\n",
       "  </tbody>\n",
       "</table>\n",
       "</div>"
      ],
      "text/plain": [
       "      id        f0        f1        f2     product\n",
       "0  fwXo0 -1.146987  0.963328 -0.828965   27.758673\n",
       "1  WJtFt  0.262778  0.269839 -2.530187   56.069697\n",
       "2  ovLUW  0.194587  0.289035 -5.586433   62.871910\n",
       "3  q6cA6  2.236060 -0.553760  0.930038  114.572842\n",
       "4  WPMUX -0.515993  1.716266  5.899011  149.600746"
      ]
     },
     "execution_count": 13,
     "metadata": {},
     "output_type": "execute_result"
    }
   ],
   "source": [
    "data_3.head()"
   ]
  },
  {
   "cell_type": "markdown",
   "id": "a43f1687-8efd-4ec2-a30b-b8cb114005ff",
   "metadata": {},
   "source": [
    "Датасет загрузился корректно."
   ]
  },
  {
   "cell_type": "markdown",
   "id": "42691920-1785-468c-b5af-4ac9d82e24f8",
   "metadata": {},
   "source": [
    "## Предобработка данных"
   ]
  },
  {
   "cell_type": "markdown",
   "id": "8df058c8-03fb-43dc-b9f6-39c11eacffb6",
   "metadata": {},
   "source": [
    "Проверим данные на дубликаты"
   ]
  },
  {
   "cell_type": "code",
   "execution_count": 14,
   "id": "5907eed1-7de9-42cd-aa47-03d00242408f",
   "metadata": {},
   "outputs": [
    {
     "data": {
      "text/plain": [
       "np.int64(0)"
      ]
     },
     "execution_count": 14,
     "metadata": {},
     "output_type": "execute_result"
    }
   ],
   "source": [
    "data_1.duplicated().sum()"
   ]
  },
  {
   "cell_type": "code",
   "execution_count": 15,
   "id": "ea08c1b4-c70f-465c-adbb-71be73e4734e",
   "metadata": {},
   "outputs": [
    {
     "data": {
      "text/plain": [
       "np.int64(0)"
      ]
     },
     "execution_count": 15,
     "metadata": {},
     "output_type": "execute_result"
    }
   ],
   "source": [
    "data_2.duplicated().sum()"
   ]
  },
  {
   "cell_type": "code",
   "execution_count": 16,
   "id": "1841fe73-564a-4a06-9445-0e302f465048",
   "metadata": {},
   "outputs": [
    {
     "data": {
      "text/plain": [
       "np.int64(0)"
      ]
     },
     "execution_count": 16,
     "metadata": {},
     "output_type": "execute_result"
    }
   ],
   "source": [
    "data_3.duplicated().sum()"
   ]
  },
  {
   "cell_type": "markdown",
   "id": "0dd5610d-6d2e-44a9-95ad-c797fa321f74",
   "metadata": {},
   "source": [
    "Дубликатов в данных нет."
   ]
  },
  {
   "cell_type": "markdown",
   "id": "aa7b096f-5e3d-4ce6-98cb-7105fda6ce4b",
   "metadata": {},
   "source": [
    "## Анализ данных"
   ]
  },
  {
   "cell_type": "markdown",
   "id": "381a6ce2-0665-475e-94e3-916abe66ce70",
   "metadata": {},
   "source": [
    "Посмотрим на описательную статистику признака product («объем запасов в скважине») во всех трех датасетах."
   ]
  },
  {
   "cell_type": "code",
   "execution_count": 17,
   "id": "1d540b67-9703-4a29-b99f-83ca94d4db8a",
   "metadata": {},
   "outputs": [
    {
     "data": {
      "text/html": [
       "<div>\n",
       "<style scoped>\n",
       "    .dataframe tbody tr th:only-of-type {\n",
       "        vertical-align: middle;\n",
       "    }\n",
       "\n",
       "    .dataframe tbody tr th {\n",
       "        vertical-align: top;\n",
       "    }\n",
       "\n",
       "    .dataframe thead th {\n",
       "        text-align: right;\n",
       "    }\n",
       "</style>\n",
       "<table border=\"1\" class=\"dataframe\">\n",
       "  <thead>\n",
       "    <tr style=\"text-align: right;\">\n",
       "      <th></th>\n",
       "      <th>data_1</th>\n",
       "      <th>data_2</th>\n",
       "      <th>data_3</th>\n",
       "    </tr>\n",
       "  </thead>\n",
       "  <tbody>\n",
       "    <tr>\n",
       "      <th>count</th>\n",
       "      <td>100000.000000</td>\n",
       "      <td>100000.000000</td>\n",
       "      <td>100000.000000</td>\n",
       "    </tr>\n",
       "    <tr>\n",
       "      <th>mean</th>\n",
       "      <td>92.500000</td>\n",
       "      <td>68.825000</td>\n",
       "      <td>95.000000</td>\n",
       "    </tr>\n",
       "    <tr>\n",
       "      <th>std</th>\n",
       "      <td>44.288691</td>\n",
       "      <td>45.944423</td>\n",
       "      <td>44.749921</td>\n",
       "    </tr>\n",
       "    <tr>\n",
       "      <th>min</th>\n",
       "      <td>0.000000</td>\n",
       "      <td>0.000000</td>\n",
       "      <td>0.000000</td>\n",
       "    </tr>\n",
       "    <tr>\n",
       "      <th>25%</th>\n",
       "      <td>56.497507</td>\n",
       "      <td>26.953261</td>\n",
       "      <td>59.450441</td>\n",
       "    </tr>\n",
       "    <tr>\n",
       "      <th>50%</th>\n",
       "      <td>91.849972</td>\n",
       "      <td>57.085625</td>\n",
       "      <td>94.925613</td>\n",
       "    </tr>\n",
       "    <tr>\n",
       "      <th>75%</th>\n",
       "      <td>128.564089</td>\n",
       "      <td>107.813044</td>\n",
       "      <td>130.595027</td>\n",
       "    </tr>\n",
       "    <tr>\n",
       "      <th>max</th>\n",
       "      <td>185.364347</td>\n",
       "      <td>137.945408</td>\n",
       "      <td>190.029838</td>\n",
       "    </tr>\n",
       "  </tbody>\n",
       "</table>\n",
       "</div>"
      ],
      "text/plain": [
       "              data_1         data_2         data_3\n",
       "count  100000.000000  100000.000000  100000.000000\n",
       "mean       92.500000      68.825000      95.000000\n",
       "std        44.288691      45.944423      44.749921\n",
       "min         0.000000       0.000000       0.000000\n",
       "25%        56.497507      26.953261      59.450441\n",
       "50%        91.849972      57.085625      94.925613\n",
       "75%       128.564089     107.813044     130.595027\n",
       "max       185.364347     137.945408     190.029838"
      ]
     },
     "execution_count": 17,
     "metadata": {},
     "output_type": "execute_result"
    }
   ],
   "source": [
    "pd.DataFrame({'data_1': data_1['product'], \\\n",
    "              'data_2': data_2['product'], \\\n",
    "              'data_3': data_3['product']}).describe()"
   ]
  },
  {
   "cell_type": "markdown",
   "id": "115ab992-ba97-4479-9cba-919fce597a22",
   "metadata": {},
   "source": [
    "Видим, что аномальных значений и выбросов нет (минимальные и максимальные значения лежат в пределах «усов»)."
   ]
  },
  {
   "cell_type": "markdown",
   "id": "ea9e09b6-0caa-407f-94c5-49b26cffa9d0",
   "metadata": {},
   "source": [
    "Изучим их распределения."
   ]
  },
  {
   "cell_type": "code",
   "execution_count": 18,
   "id": "d7bbfc56-c78d-4bdc-8ce8-41ec93cc90b8",
   "metadata": {},
   "outputs": [
    {
     "data": {
      "image/png": "[encoded data removed]",
      "text/plain": [
       "<Figure size 640x480 with 1 Axes>"
      ]
     },
     "metadata": {},
     "output_type": "display_data"
    }
   ],
   "source": [
    "data_1['product'].plot(kind='hist',\n",
    "                       bins=40, \\\n",
    "                       xlabel='Величина объема запасов в скважине, тыс. бареллей', \\\n",
    "                       ylabel='Количество скважин', title='Объем запасов в скважине');"
   ]
  },
  {
   "cell_type": "markdown",
   "id": "2c38774c-94fc-4914-8793-e47ce129fe36",
   "metadata": {},
   "source": [
    "Мы видим, что распределение симметрично.\n",
    "Наблюдается группировка количества скважин относительно некоторых величин объема запасов, в результате чего образуются пики\n",
    "в распределении.\n",
    "В целом, если рассмотреть весь спектр объема запасов в скважине, то найдется скважина практически любого объема."
   ]
  },
  {
   "cell_type": "code",
   "execution_count": 19,
   "id": "d5b8d718-a8b7-463c-91d2-6dcc055eccce",
   "metadata": {},
   "outputs": [
    {
     "data": {
      "image/png": "[encoded data removed]",
      "text/plain": [
       "<Figure size 640x480 with 1 Axes>"
      ]
     },
     "metadata": {},
     "output_type": "display_data"
    }
   ],
   "source": [
    "data_2['product'].plot(kind='hist',\n",
    "                       bins=40, \\\n",
    "                       xlabel='Величина объема запасов в скважине, тыс. бареллей', \\\n",
    "                       ylabel='Количество скважин', title='Объем запасов в скважине');"
   ]
  },
  {
   "cell_type": "markdown",
   "id": "5e72ab05-5167-4e1a-b606-94a6bb1fc5e7",
   "metadata": {},
   "source": [
    "Мы видим, что характер распределения существенно отличается от первого региона: здесь мы наблюдаем регулярные и достаточно большие разрывы\n",
    "в наличии скважин определенных запасов.\n",
    "Скважины с наличествующими запасами сгруппированы и отстоят друг от друга на сравнительно равные промежутки по величине объема запасов.\n",
    "Кроме того, видим, что очень много скважин с минимаальным запасами, но примерно столько же скважин и с максимальными запасами, так что\n",
    "суммарно наблюдается средняя картина."
   ]
  },
  {
   "cell_type": "code",
   "execution_count": 20,
   "id": "c43c98d7-2541-44ec-8379-28dca9972b38",
   "metadata": {},
   "outputs": [
    {
     "data": {
      "image/png": "[encoded data removed]",
      "text/plain": [
       "<Figure size 640x480 with 1 Axes>"
      ]
     },
     "metadata": {},
     "output_type": "display_data"
    }
   ],
   "source": [
    "data_3['product'].plot(kind='hist',\n",
    "                       bins=40, \\\n",
    "                       xlabel='Величина объема запасов в скважине, тыс. бареллей', \\\n",
    "                       ylabel='Количество скважин', title='Объем запасов в скважине');"
   ]
  },
  {
   "cell_type": "markdown",
   "id": "a378a00b-421e-4ae7-88c7-8ef0cea9d0c0",
   "metadata": {},
   "source": [
    "Мы видим, что характер распределения такой же, как и в первом регионе — симметричное распределение с небольшими группировками вокруг\n",
    "некоторых значений."
   ]
  },
  {
   "cell_type": "markdown",
   "id": "15674d4c-c301-4629-9e82-025fd22887ee",
   "metadata": {},
   "source": [
    "В целом, мы видим, что характер распределения объема во втором регионе сильно отличается от такового в первом и третьем регионах (где характер распределения более-менее одинаков).\n",
    "Возможно, второй регион находится в другой географической области относительно первого и третьего регионов, либо это локальные особенности конкретной местности."
   ]
  },
  {
   "cell_type": "markdown",
   "id": "922b3d4f-c39e-43c6-8880-8ede73c9bda5",
   "metadata": {},
   "source": [
    "## Обучение и проверка модели"
   ]
  },
  {
   "cell_type": "markdown",
   "id": "13a15ed2-d7ef-49ea-948d-b4c74f153360",
   "metadata": {},
   "source": [
    "### Подготовка данных"
   ]
  },
  {
   "cell_type": "markdown",
   "id": "fa6a2dd1-4d0f-40bd-8210-9b40ce5178cb",
   "metadata": {},
   "source": [
    "Сохраним столбцы с признаками:"
   ]
  },
  {
   "cell_type": "code",
   "execution_count": 21,
   "id": "c5f36ba8-ca4f-4ac6-b550-459667fe9266",
   "metadata": {},
   "outputs": [],
   "source": [
    "feature_cols = ['f0', 'f1', 'f2']"
   ]
  },
  {
   "cell_type": "markdown",
   "id": "8d380c38-8163-4037-bad1-1f812369fb08",
   "metadata": {},
   "source": [
    "#### Первый регион"
   ]
  },
  {
   "cell_type": "markdown",
   "id": "cb42c488-1603-4f12-b143-757f779cefef",
   "metadata": {},
   "source": [
    "Выделим целевой признак product («объем запасов в скважине»).\n",
    "Разделим выборки на обучающую и валидационную в соотношении 75:25"
   ]
  },
  {
   "cell_type": "code",
   "execution_count": 22,
   "id": "f361266b-9dd6-415c-98b1-a2f8e5ad89bf",
   "metadata": {},
   "outputs": [],
   "source": [
    "X = data_1[feature_cols]\n",
    "y = data_1['product']"
   ]
  },
  {
   "cell_type": "code",
   "execution_count": 23,
   "id": "b32c54e5-7b57-429b-8bdd-dc8931313c8b",
   "metadata": {},
   "outputs": [],
   "source": [
    "X_train, X_valid, y_train_1, y_valid_1 = train_test_split(X, y, test_size=0.25, random_state=RANDOM_STATE)"
   ]
  },
  {
   "cell_type": "markdown",
   "id": "5e22fb80-347b-4642-83ef-719fbf2342a0",
   "metadata": {},
   "source": [
    "Категориальных признаков у нас нет, поэтому остается только масштабирование числовых признаков."
   ]
  },
  {
   "cell_type": "markdown",
   "id": "1778d1ba-4a57-428e-b168-7c68e9f9948a",
   "metadata": {},
   "source": [
    "Масштабируем признаки"
   ]
  },
  {
   "cell_type": "code",
   "execution_count": 24,
   "id": "971d2a75-b066-4a17-b2df-6df1ee573674",
   "metadata": {},
   "outputs": [],
   "source": [
    "scaler = StandardScaler()"
   ]
  },
  {
   "cell_type": "code",
   "execution_count": 25,
   "id": "9a1ee09f-bff9-4175-8ee1-08b86cd9be18",
   "metadata": {},
   "outputs": [],
   "source": [
    "X_train_scaled = scaler.fit_transform(X_train[feature_cols])\n",
    "X_valid_scaled = scaler.transform(X_valid[feature_cols])"
   ]
  },
  {
   "cell_type": "code",
   "execution_count": 26,
   "id": "e8641cc9-1b35-4a38-9624-8e39dc6bc116",
   "metadata": {},
   "outputs": [],
   "source": [
    "X_train_1 = pd.DataFrame(X_train_scaled, columns=feature_cols)\n",
    "X_valid_1 = pd.DataFrame(X_valid_scaled, columns=feature_cols)"
   ]
  },
  {
   "cell_type": "markdown",
   "id": "4b4b53ff-7cbf-4653-adcb-4e9d404c6179",
   "metadata": {},
   "source": [
    "Выборки готовы"
   ]
  },
  {
   "cell_type": "markdown",
   "id": "512cde7e-3b2f-4091-801d-71a019e8e1f5",
   "metadata": {},
   "source": [
    "#### Второй регион"
   ]
  },
  {
   "cell_type": "markdown",
   "id": "7609e9d0-e476-4082-b631-addeb8b3c82f",
   "metadata": {},
   "source": [
    "Выделим целевой признак product («объем запасов в скважине»).\n",
    "Разделим выборки на обучающую и валидационную в соотношении 75:25"
   ]
  },
  {
   "cell_type": "code",
   "execution_count": 27,
   "id": "23c1b67d-a163-4601-aff2-96cd489354e7",
   "metadata": {},
   "outputs": [],
   "source": [
    "X = data_2[feature_cols]\n",
    "y = data_2['product']"
   ]
  },
  {
   "cell_type": "code",
   "execution_count": 28,
   "id": "0484ce31-9d0d-4bb4-9856-0c9c14fbe777",
   "metadata": {},
   "outputs": [],
   "source": [
    "X_train, X_valid, y_train_2, y_valid_2 = train_test_split(X, y, test_size=0.25, random_state=RANDOM_STATE)"
   ]
  },
  {
   "cell_type": "markdown",
   "id": "e1ed369c-ad79-4ea9-a0a0-4f6f88a5c555",
   "metadata": {},
   "source": [
    "Масштабируем признаки"
   ]
  },
  {
   "cell_type": "code",
   "execution_count": 29,
   "id": "5b557707-f0cd-4da0-b450-f4797c09981f",
   "metadata": {},
   "outputs": [],
   "source": [
    "scaler = StandardScaler()"
   ]
  },
  {
   "cell_type": "code",
   "execution_count": 30,
   "id": "6335e1c7-33c0-40b2-99f7-e35370262946",
   "metadata": {},
   "outputs": [],
   "source": [
    "X_train_scaled = scaler.fit_transform(X_train[feature_cols])\n",
    "X_valid_scaled = scaler.transform(X_valid[feature_cols])"
   ]
  },
  {
   "cell_type": "code",
   "execution_count": 31,
   "id": "bedda599-bc83-4e91-a26e-e85f8a209251",
   "metadata": {},
   "outputs": [],
   "source": [
    "X_train_2 = pd.DataFrame(X_train_scaled, columns=feature_cols)\n",
    "X_valid_2 = pd.DataFrame(X_valid_scaled, columns=feature_cols)"
   ]
  },
  {
   "cell_type": "markdown",
   "id": "e2c848cc-2573-4afb-aa07-f9fee7154a3f",
   "metadata": {},
   "source": [
    "Выборки готовы"
   ]
  },
  {
   "cell_type": "markdown",
   "id": "b2585f16-36e0-4e27-9b9b-a3d8ddc50c02",
   "metadata": {},
   "source": [
    "#### Третий регион"
   ]
  },
  {
   "cell_type": "markdown",
   "id": "bc42988f-e80c-4497-9727-37feedbfd400",
   "metadata": {},
   "source": [
    "Выделим целевой признак product («объем запасов в скважине»).\n",
    "Разделим выборки на обучающую и валидационную в соотношении 75:25"
   ]
  },
  {
   "cell_type": "code",
   "execution_count": 32,
   "id": "22f5b23f-18ca-4085-aad1-ac0028bdc880",
   "metadata": {},
   "outputs": [],
   "source": [
    "X = data_3[feature_cols]\n",
    "y = data_3['product']"
   ]
  },
  {
   "cell_type": "code",
   "execution_count": 33,
   "id": "10645bd2-933e-4dcb-a819-5e3ff058dd4b",
   "metadata": {},
   "outputs": [],
   "source": [
    "X_train, X_valid, y_train_3, y_valid_3 = train_test_split(X, y, test_size=0.25, random_state=RANDOM_STATE)"
   ]
  },
  {
   "cell_type": "markdown",
   "id": "961834b7-41e9-455d-b1f4-ecb552d02be5",
   "metadata": {},
   "source": [
    "Масштабируем признаки"
   ]
  },
  {
   "cell_type": "code",
   "execution_count": 34,
   "id": "b6a197ca-445c-4bdc-a2de-f4cefb5742e8",
   "metadata": {},
   "outputs": [],
   "source": [
    "scaler = StandardScaler()"
   ]
  },
  {
   "cell_type": "code",
   "execution_count": 35,
   "id": "32b18f4c-015c-49a9-8e13-771b1263079c",
   "metadata": {},
   "outputs": [],
   "source": [
    "X_train_scaled = scaler.fit_transform(X_train[feature_cols])\n",
    "X_valid_scaled = scaler.transform(X_valid[feature_cols])"
   ]
  },
  {
   "cell_type": "code",
   "execution_count": 36,
   "id": "6ba9d01f-ee3e-40fc-89b4-85b28d6d0310",
   "metadata": {},
   "outputs": [],
   "source": [
    "X_train_3 = pd.DataFrame(X_train_scaled, columns=feature_cols)\n",
    "X_valid_3 = pd.DataFrame(X_valid_scaled, columns=feature_cols)"
   ]
  },
  {
   "cell_type": "markdown",
   "id": "08a4fee0-3e7a-496f-b16b-a53058dd0c8f",
   "metadata": {},
   "source": [
    "Выборки готовы"
   ]
  },
  {
   "cell_type": "markdown",
   "id": "ba73554f-dfe3-4722-b5ad-1b0e60ce3ac2",
   "metadata": {},
   "source": [
    "### Обучение и проверка"
   ]
  },
  {
   "cell_type": "markdown",
   "id": "c60f7adc-969c-4b53-9067-e44bf659ec16",
   "metadata": {},
   "source": [
    "#### Первый регион"
   ]
  },
  {
   "cell_type": "markdown",
   "id": "51f0cf2a-c526-42bf-a88d-a3fdfcb7657a",
   "metadata": {},
   "source": [
    "Инициализируем, обучаем модель линейной регрессии.\n",
    "Получаем предсказание."
   ]
  },
  {
   "cell_type": "code",
   "execution_count": 37,
   "id": "27df7dca-0986-4000-adb7-a3484c1ec6ee",
   "metadata": {},
   "outputs": [],
   "source": [
    "model_lr = LinearRegression()"
   ]
  },
  {
   "cell_type": "code",
   "execution_count": 38,
   "id": "f3c6bb97-e9da-4597-bf12-54ab82012a6b",
   "metadata": {},
   "outputs": [],
   "source": [
    "model_lr.fit(X_train_1, y_train_1);"
   ]
  },
  {
   "cell_type": "code",
   "execution_count": 39,
   "id": "3fbe3df4-7d2a-4ce7-aceb-cdfa97795786",
   "metadata": {},
   "outputs": [],
   "source": [
    "y_pred_1 = model_lr.predict(X_valid_1)"
   ]
  },
  {
   "cell_type": "markdown",
   "id": "07d5be11-338a-4d20-ad2c-be566e452ae2",
   "metadata": {},
   "source": [
    "Сохраним полученный результат вместе с индексами для корректного соотнесения конкретных скважин с ими же из валидационной выборки."
   ]
  },
  {
   "cell_type": "code",
   "execution_count": 40,
   "id": "465a8b16-d62c-4c2a-99de-0dca0cc112b6",
   "metadata": {},
   "outputs": [],
   "source": [
    "y_pred_1 = pd.Series(y_pred_1, y_valid_1.index, name='product')"
   ]
  },
  {
   "cell_type": "markdown",
   "id": "434e4d8d-9ef0-4f52-a903-1389cd58ae1a",
   "metadata": {},
   "source": [
    "##### Средний запас предсказанного сырья и RMSE модели"
   ]
  },
  {
   "cell_type": "code",
   "execution_count": 41,
   "id": "705cd4ad-e44d-4bb5-805f-76237d82a3c3",
   "metadata": {},
   "outputs": [],
   "source": [
    "# Примечание: в новой версии библиотеки sklearn вычисление RMSE будет производится иначе (не как указано в теории)\n",
    "# На всякий случай, добавил оба варианта."
   ]
  },
  {
   "cell_type": "code",
   "execution_count": 42,
   "id": "c17d3101-e27c-45b2-83c7-373ffc6f4bfd",
   "metadata": {},
   "outputs": [
    {
     "name": "stdout",
     "output_type": "stream",
     "text": [
      "Средний запас предсказанного сырья 92.592568\n",
      "RMSE модели 37.5794217150813\n"
     ]
    }
   ],
   "source": [
    "rmse = root_mean_squared_error(y_valid_1, y_pred_1)\n",
    "\n",
    "print('Средний запас предсказанного сырья', round(y_pred_1.mean(), 6))\n",
    "print('RMSE модели', rmse)"
   ]
  },
  {
   "cell_type": "markdown",
   "id": "120e2c7e-9ca3-459f-9a20-ffb409a9d8ea",
   "metadata": {},
   "source": [
    "Мы видим, что средний запас предсказанного сырья составляет 92.6 тыс. баррелей.\n",
    "При этом у модели достаточно высокий RMSE."
   ]
  },
  {
   "cell_type": "markdown",
   "id": "7e60f70d-e6b8-4eac-b342-38fa6733f76a",
   "metadata": {},
   "source": [
    "#### Второй регион"
   ]
  },
  {
   "cell_type": "markdown",
   "id": "8e059c76-b8ed-4a68-98b2-aa70c3f7aa47",
   "metadata": {},
   "source": [
    "Обучаем модель линейной регрессии.\n",
    "Получаем предсказание."
   ]
  },
  {
   "cell_type": "code",
   "execution_count": 43,
   "id": "bcf5bd84-5e12-41c1-af79-6023db9bca44",
   "metadata": {},
   "outputs": [],
   "source": [
    "model_lr.fit(X_train_2, y_train_2);"
   ]
  },
  {
   "cell_type": "code",
   "execution_count": 44,
   "id": "5f65d455-1f44-441e-9a4f-e6b1c02aa416",
   "metadata": {},
   "outputs": [],
   "source": [
    "y_pred_2 = model_lr.predict(X_valid_2)"
   ]
  },
  {
   "cell_type": "markdown",
   "id": "8ead812d-d016-4281-8a04-a23ff1c35674",
   "metadata": {},
   "source": [
    "Сохраним полученный результат вместе с индексами для корректного соотнесения конкретных скважин с ими же из валидационной выборки."
   ]
  },
  {
   "cell_type": "code",
   "execution_count": 45,
   "id": "5f0babf8-7ab0-4b09-880f-7151ed3b22aa",
   "metadata": {},
   "outputs": [],
   "source": [
    "y_pred_2 = pd.Series(y_pred_2, y_valid_2.index, name='product')"
   ]
  },
  {
   "cell_type": "markdown",
   "id": "00122e58-fd35-4f71-a4db-33ef2820f5be",
   "metadata": {},
   "source": [
    "##### Средний запас предсказанного сырья и RMSE модели"
   ]
  },
  {
   "cell_type": "code",
   "execution_count": 46,
   "id": "c88ebb6a-3c3e-486c-aebc-1f343de7e94c",
   "metadata": {},
   "outputs": [],
   "source": [
    "# Примечание: в новой версии библиотеки sklearn вычисление RMSE будет производится иначе (не как указано в теории)\n",
    "# На всякий случай, добавил оба варианта."
   ]
  },
  {
   "cell_type": "code",
   "execution_count": 47,
   "id": "5c557cf9-8f61-4687-9a13-d4b4721d3fe2",
   "metadata": {},
   "outputs": [
    {
     "name": "stdout",
     "output_type": "stream",
     "text": [
      "Средний запас предсказанного сырья 68.728547\n",
      "RMSE модели 0.893099286775617\n"
     ]
    }
   ],
   "source": [
    "rmse = root_mean_squared_error(y_valid_2, y_pred_2)\n",
    "\n",
    "print('Средний запас предсказанного сырья', round(y_pred_2.mean(), 6))\n",
    "print('RMSE модели', rmse)"
   ]
  },
  {
   "cell_type": "markdown",
   "id": "7a6e0aa0-e62c-4bd1-872b-5a8640bfb951",
   "metadata": {},
   "source": [
    "Мы видим, что средний запас предсказанного сырья во втором регионе существенно меньше такового в первом, но RMSE модели очень низкий — модель\n",
    "хорошо предсказывает запасы."
   ]
  },
  {
   "cell_type": "markdown",
   "id": "ecfee09f-ed48-4307-bae6-ecf9d03fd0dd",
   "metadata": {},
   "source": [
    "#### Третий регион"
   ]
  },
  {
   "cell_type": "markdown",
   "id": "5a72557c-2053-4332-8bcb-ccc22edfca27",
   "metadata": {},
   "source": [
    "Обучаем модель линейной регрессии.\n",
    "Получаем предсказание."
   ]
  },
  {
   "cell_type": "code",
   "execution_count": 48,
   "id": "d42a1c20-2ad2-4077-815f-15fce5d352b8",
   "metadata": {},
   "outputs": [],
   "source": [
    "model_lr.fit(X_train_3, y_train_3);"
   ]
  },
  {
   "cell_type": "code",
   "execution_count": 49,
   "id": "5cc2ba48-56cb-46d6-a6a8-311742a3808d",
   "metadata": {},
   "outputs": [],
   "source": [
    "y_pred_3 = model_lr.predict(X_valid_3)"
   ]
  },
  {
   "cell_type": "markdown",
   "id": "05110165-0b0a-4ea4-8024-53fd81b5d1d2",
   "metadata": {},
   "source": [
    "Сохраним полученный результат вместе с индексами для корректного соотнесения конкретных скважин с ими же из валидационной выборки."
   ]
  },
  {
   "cell_type": "code",
   "execution_count": 50,
   "id": "e502b7c2-2318-4b10-bbe0-4bc1eeb534d0",
   "metadata": {},
   "outputs": [],
   "source": [
    "y_pred_3 = pd.Series(y_pred_3, y_valid_3.index, name='product')"
   ]
  },
  {
   "cell_type": "markdown",
   "id": "d745b080-cf8b-4964-a45d-deae709e25b1",
   "metadata": {},
   "source": [
    "##### Средний запас предсказанного сырья и RMSE модели"
   ]
  },
  {
   "cell_type": "code",
   "execution_count": 51,
   "id": "343cf88d-c6e3-4b3f-90be-cccbd557cfcf",
   "metadata": {},
   "outputs": [],
   "source": [
    "# Примечание: в новой версии библиотеки sklearn вычисление RMSE будет производится иначе (не как указано в теории)\n",
    "# На всякий случай, добавил оба варианта."
   ]
  },
  {
   "cell_type": "code",
   "execution_count": 52,
   "id": "25d41651-0eaf-4134-8c1c-3f84a67b73c3",
   "metadata": {},
   "outputs": [
    {
     "name": "stdout",
     "output_type": "stream",
     "text": [
      "Средний запас предсказанного сырья 94.965046\n",
      "RMSE модели 40.02970873393434\n"
     ]
    }
   ],
   "source": [
    "rmse = root_mean_squared_error(y_valid_3, y_pred_3)\n",
    "\n",
    "print('Средний запас предсказанного сырья', round(y_pred_3.mean(), 6))\n",
    "print('RMSE модели', rmse)"
   ]
  },
  {
   "cell_type": "markdown",
   "id": "7115ba97-a9b2-4334-a453-b5538b52dcaf",
   "metadata": {},
   "source": [
    "Мы видим, что средний запас предсказанного сырья в первом и третьем регионах примерно одинаков (92.6 и 95.0 тыс. баррелей), равно как и RMSЕ у обоих моделей довольно высокий (37.6 и 40 соответственно) — картина похожая.\n",
    "Во втором же регионе средний запас предсказанного сырья существенно ниже — всего 68.7 тыс. баррелей, но RMSE модели очень низкий (0.89)."
   ]
  },
  {
   "cell_type": "markdown",
   "id": "397d438e-bc50-47a6-bf51-98d1f94356d1",
   "metadata": {},
   "source": [
    "Изучим вопрос об экономической целесообразности разработки месторождений в регионах."
   ]
  },
  {
   "cell_type": "markdown",
   "id": "6fb6aa3c-948f-4afd-b351-58c4b006296f",
   "metadata": {},
   "source": [
    "### Расчет прибыли"
   ]
  },
  {
   "cell_type": "markdown",
   "id": "bb15baf5-754a-40d1-9e90-596fd4c00596",
   "metadata": {},
   "source": [
    "#### Подготовка"
   ]
  },
  {
   "cell_type": "markdown",
   "id": "9efeef80-2d40-4276-8717-901626d31350",
   "metadata": {},
   "source": [
    "Ключевые значения для расчетов сохраним в отдельных переменных:"
   ]
  },
  {
   "cell_type": "code",
   "execution_count": 53,
   "id": "d5c61cf2-d706-46eb-97d2-e4841a3a48fa",
   "metadata": {},
   "outputs": [],
   "source": [
    "# Бюджет на разработку скважин в регионе\n",
    "WELL_DEV_REG_BUDGET = 10_000_000_000\n",
    "\n",
    "# Доход с единицы продукта (т.е. с 1 тыс. баррелей)\n",
    "PROD_UNIT_INCOME = 450_000\n",
    "\n",
    "# Количество исследуемых скважин в регионе\n",
    "NUM_OF_WELLS_TO_RESEARCH = 500\n",
    "\n",
    "# Количество разрабатываемых скважин в регионе\n",
    "NUM_OF_WELLS_TO_DEV = 200\n",
    "\n",
    "# Вероятность убытков\n",
    "LOSS_PROB_THRESHOLD = 0.025"
   ]
  },
  {
   "cell_type": "markdown",
   "id": "d781b71a-abe9-4eb8-9aac-174893e74262",
   "metadata": {},
   "source": [
    "Для того чтобы разработка скважины была безубыточной, доход от запаса сырья в ней не должен быть меньше бюджета на\n",
    "разработку этой скважины.\n",
    "Для расчета такого минимального запаса сырья необходимо бюджет на разработку одной скважины разделить на доход с единицы продукта."
   ]
  },
  {
   "cell_type": "code",
   "execution_count": 54,
   "id": "72c129e0-c26b-493d-b121-28beb3b4285e",
   "metadata": {},
   "outputs": [
    {
     "name": "stdout",
     "output_type": "stream",
     "text": [
      "Объем минимального запаса сырья в скважине для ее безубыточной разработки: 111.111111 тыс. баррелей\n"
     ]
    }
   ],
   "source": [
    "well_min_capacity = WELL_DEV_REG_BUDGET / NUM_OF_WELLS_TO_DEV / PROD_UNIT_INCOME\n",
    "print(f'Объем минимального запаса сырья в скважине для ее безубыточной разработки: {round(well_min_capacity, 6)} тыс. баррелей')"
   ]
  },
  {
   "cell_type": "markdown",
   "id": "1bc01440-79d6-4f63-8e7e-c5c482ac1db5",
   "metadata": {},
   "source": [
    "Если взглянуть на описательную статистику распределения признака product («объем запасов в скважине») для всех регионов (содержится в исследовательском анализе данных), то\n",
    "мы видим, что объем минимального запаса для безубыточной разработки выше средних величин запаса для каждой из скважин (92.5, 68.825, 95.0 тыс. баррелей соответственно).\n",
    "Кроме того, из описательной статистики, а также графического распределения запасов в этих регионах, мы видим, что в каждом из регионов достаточно много скважин с запасом выше рассчитанного выше требуемого минимума запаса (в первом и третьем регионах таких скважин более $25\\%$, т.к. $75\\%$-квантиль больше рассчитанного минимума).\n",
    "Для второго региона таких скважин, по крайней мере, больше $16\\%$, т.к. скважин с запасом выше 120 тыс. баррелей точно больше 16000 из 100000,— это видно из графического распределения. При этом для второго региона, как мы помним, характерно довольно более высокое качество прогноза."
   ]
  },
  {
   "cell_type": "markdown",
   "id": "76a9ebe0-f9cc-4e00-8135-5a64424f290e",
   "metadata": {},
   "source": [
    "#### Расчет"
   ]
  },
  {
   "cell_type": "markdown",
   "id": "981acc0a-5093-4c4f-80f4-91f0dd4b5e6a",
   "metadata": {},
   "source": [
    "Функция для расчета прибыли по выбранным скважинам и предсказаниям модели:"
   ]
  },
  {
   "cell_type": "code",
   "execution_count": 55,
   "id": "e729b02f-a326-42af-8cb2-5903f08924b1",
   "metadata": {},
   "outputs": [],
   "source": [
    "def get_profit(y_pred, y_valid):\n",
    "    y_pred.reset_index(drop=True, inplace=True)\n",
    "    y_valid.reset_index(drop=True, inplace=True)\n",
    "    \n",
    "    return y_valid[y_pred.sort_values(ascending=False)[:NUM_OF_WELLS_TO_DEV].index] \\\n",
    "        .sum()*PROD_UNIT_INCOME - WELL_DEV_REG_BUDGET"
   ]
  },
  {
   "cell_type": "markdown",
   "id": "2d6c55f9-1da4-4008-868e-98a291c7aaf7",
   "metadata": {},
   "source": [
    "Рассчитаем прибыль по выбранным скважинам в каждом из регионов:"
   ]
  },
  {
   "cell_type": "code",
   "execution_count": 56,
   "id": "62df42d4-b7cd-4db1-9c42-483f0281acfe",
   "metadata": {},
   "outputs": [
    {
     "name": "stdout",
     "output_type": "stream",
     "text": [
      "Прибыль по выбранным скважинам в первом регионе составляет 3320.83 млн. руб.\n"
     ]
    }
   ],
   "source": [
    "print(f'Прибыль по выбранным скважинам в первом регионе составляет {round(get_profit(y_pred_1, y_valid_1) / 1_000_000, 2)} млн. руб.')"
   ]
  },
  {
   "cell_type": "code",
   "execution_count": 57,
   "id": "5c89015a-723a-4e85-afe8-6904a1a66c38",
   "metadata": {},
   "outputs": [
    {
     "name": "stdout",
     "output_type": "stream",
     "text": [
      "Прибыль по выбранным скважинам во втором регионе составляет 2415.09 млн. руб.\n"
     ]
    }
   ],
   "source": [
    "print(f'Прибыль по выбранным скважинам во втором регионе составляет {round(get_profit(y_pred_2, y_valid_2) / 1_000_000, 2)} млн. руб.')"
   ]
  },
  {
   "cell_type": "code",
   "execution_count": 58,
   "id": "22651cc6-1266-4ef6-862b-d0c0155f5f93",
   "metadata": {},
   "outputs": [
    {
     "name": "stdout",
     "output_type": "stream",
     "text": [
      "Прибыль по выбранным скважинам в третьем регионе составляет 2710.35 млн. руб.\n"
     ]
    }
   ],
   "source": [
    "print(f'Прибыль по выбранным скважинам в третьем регионе составляет {round(get_profit(y_pred_3, y_valid_3) / 1_000_000, 2)} млн. руб.')"
   ]
  },
  {
   "cell_type": "markdown",
   "id": "2592cc85-33dc-4180-a280-6820da7c0679",
   "metadata": {},
   "source": [
    "### Распределение прибыли и расчет рисков"
   ]
  },
  {
   "cell_type": "markdown",
   "id": "d4af9f9c-d31c-4d1c-8c59-5e7145da1488",
   "metadata": {},
   "source": [
    "Функция для получения распределения прибыли техникой Bootstrap"
   ]
  },
  {
   "cell_type": "code",
   "execution_count": 59,
   "id": "2ed9c467-46e9-4965-9869-0c03629cd6de",
   "metadata": {},
   "outputs": [],
   "source": [
    "state = np.random.RandomState(RANDOM_STATE)\n",
    "def get_profit_distrib(y_pred, y_valid):\n",
    "    profit_distrib = []\n",
    "    for i in range(1000):\n",
    "        y_pred_sample = y_pred.sample(n=NUM_OF_WELLS_TO_RESEARCH, replace=True, random_state=state)\n",
    "        y_valid_sample = y_valid[y_pred_sample.index]\n",
    "        \n",
    "        profit_distrib.append(get_profit(y_pred_sample, y_valid_sample))\n",
    "\n",
    "    return pd.Series(profit_distrib, name='profit')"
   ]
  },
  {
   "cell_type": "markdown",
   "id": "650eb5b3-ffbd-4144-b76a-20257ae57653",
   "metadata": {},
   "source": [
    "Получим распределение прибыли для всех трех регионов"
   ]
  },
  {
   "cell_type": "code",
   "execution_count": 60,
   "id": "c23379b8-1385-4587-993f-f7c38ed567d2",
   "metadata": {},
   "outputs": [],
   "source": [
    "profit_distrib_1 = get_profit_distrib(y_pred_1, y_valid_1)"
   ]
  },
  {
   "cell_type": "code",
   "execution_count": 61,
   "id": "891cf171-6d30-4405-af2e-c0810778f8a9",
   "metadata": {},
   "outputs": [],
   "source": [
    "profit_distrib_2 = get_profit_distrib(y_pred_2, y_valid_2)"
   ]
  },
  {
   "cell_type": "code",
   "execution_count": 62,
   "id": "230cc794-c725-41ca-899d-f5ae9229418a",
   "metadata": {},
   "outputs": [],
   "source": [
    "profit_distrib_3 = get_profit_distrib(y_pred_3, y_valid_3)"
   ]
  },
  {
   "cell_type": "markdown",
   "id": "3ba80482-4145-4691-b6b5-4f6170041fd8",
   "metadata": {},
   "source": [
    "#### Первый регион"
   ]
  },
  {
   "cell_type": "markdown",
   "id": "e8be2b39-3f9b-4e45-9b8b-6d9f009c47af",
   "metadata": {},
   "source": [
    "##### Средняя прибыль"
   ]
  },
  {
   "cell_type": "code",
   "execution_count": 63,
   "id": "adc06e89-8fb0-4f64-b34d-e3a4c12b52bd",
   "metadata": {},
   "outputs": [
    {
     "name": "stdout",
     "output_type": "stream",
     "text": [
      "Средняя прибыль при разработке первого региона: 396.16 млн. руб.\n"
     ]
    }
   ],
   "source": [
    "print(f'Средняя прибыль при разработке первого региона: {round(profit_distrib_1.mean() / 1_000_000, 2)} млн. руб.')"
   ]
  },
  {
   "cell_type": "markdown",
   "id": "2a8f8f8f-7c50-48a7-9fc3-4920591c8329",
   "metadata": {},
   "source": [
    "##### Доверительный интервал"
   ]
  },
  {
   "cell_type": "code",
   "execution_count": 64,
   "id": "746bd549-03db-41fa-b7e9-2c1e21b62d8a",
   "metadata": {},
   "outputs": [
    {
     "name": "stdout",
     "output_type": "stream",
     "text": [
      "95% доверительный интервал: (-111.22, 909.77) млн. руб.\n"
     ]
    }
   ],
   "source": [
    "print(f'95% доверительный интервал: ({round(np.quantile(profit_distrib_1, 0.025) / 1_000_000, 2)}, '\n",
    "      f'{round(np.quantile(profit_distrib_1, 0.975) / 1_000_000, 2)}) млн. руб.')"
   ]
  },
  {
   "cell_type": "markdown",
   "id": "42c695d3-ffd6-4f44-9f7a-60e70c2995b8",
   "metadata": {},
   "source": [
    "##### Риск убытков"
   ]
  },
  {
   "cell_type": "markdown",
   "id": "0caca692-92a3-44d9-8cb1-594cf2d89b68",
   "metadata": {},
   "source": [
    "Рассчитаем риск как долю скважин с отрицательной прибылью (в процентах)"
   ]
  },
  {
   "cell_type": "code",
   "execution_count": 65,
   "id": "63f0aafa-2607-438a-89df-6e13e7dbd115",
   "metadata": {},
   "outputs": [
    {
     "name": "stdout",
     "output_type": "stream",
     "text": [
      "Риск убытков при разработке первого региона: 6.9 %\n",
      "Пороговое значение риска убытков: 2.5 %\n"
     ]
    }
   ],
   "source": [
    "print(f'Риск убытков при разработке первого региона: {len(profit_distrib_1[profit_distrib_1 < 0]) / len(profit_distrib_1) * 100} %')\n",
    "print(f'Пороговое значение риска убытков: {LOSS_PROB_THRESHOLD * 100} %')"
   ]
  },
  {
   "cell_type": "markdown",
   "id": "60b8e74d-f258-4143-8361-30aae03f63da",
   "metadata": {},
   "source": [
    "Видим, что в первом регионе риск убытков выше порогового значения.\n",
    "Т.к. необходимо оставить регионы с риском убытков строго ниже порогового значения, первый регион в дальнейшем рассматриваться не будет."
   ]
  },
  {
   "cell_type": "markdown",
   "id": "3bf17d1d-c86e-4911-9a44-192e6c1a2ce5",
   "metadata": {},
   "source": [
    "#### Второй регион"
   ]
  },
  {
   "cell_type": "markdown",
   "id": "77c93667-18d4-44c8-9892-86cc58e6dbda",
   "metadata": {},
   "source": [
    "##### Средняя прибыль"
   ]
  },
  {
   "cell_type": "code",
   "execution_count": 66,
   "id": "632667a6-be6a-4974-bb41-d4dd983ac9dd",
   "metadata": {},
   "outputs": [
    {
     "name": "stdout",
     "output_type": "stream",
     "text": [
      "Средняя прибыль для второго региона: 461.16 млн. руб.\n"
     ]
    }
   ],
   "source": [
    "print(f'Средняя прибыль для второго региона: {round(profit_distrib_2.mean() / 1_000_000, 2)} млн. руб.')"
   ]
  },
  {
   "cell_type": "markdown",
   "id": "0c8b4f97-842e-451e-bd92-deadde7c2501",
   "metadata": {},
   "source": [
    "##### Доверительный интервал"
   ]
  },
  {
   "cell_type": "code",
   "execution_count": 67,
   "id": "f9de98df-6316-4d5e-abc8-1040eafff0ac",
   "metadata": {},
   "outputs": [
    {
     "name": "stdout",
     "output_type": "stream",
     "text": [
      "95% доверительный интервал: (78.05, 862.95) млн. руб.\n"
     ]
    }
   ],
   "source": [
    "print(f'95% доверительный интервал: ({round(np.quantile(profit_distrib_2, 0.025) / 1_000_000, 2)}, ' \n",
    "    f'{round(np.quantile(profit_distrib_2, 0.975) / 1_000_000, 2)}) млн. руб.')"
   ]
  },
  {
   "cell_type": "markdown",
   "id": "8ac1d28a-8f45-4a13-9fca-e813eedbf7e7",
   "metadata": {},
   "source": [
    "##### Риск убытков"
   ]
  },
  {
   "cell_type": "code",
   "execution_count": 68,
   "id": "a6c80d4e-c71a-4cd0-a064-f8ec8b2383e5",
   "metadata": {},
   "outputs": [
    {
     "name": "stdout",
     "output_type": "stream",
     "text": [
      "Риск убытков при разработке первого региона: 0.7000000000000001 %\n",
      "Пороговое значение риска убытков: 2.5 %\n"
     ]
    }
   ],
   "source": [
    "print(f'Риск убытков при разработке первого региона: {len(profit_distrib_2[profit_distrib_2 < 0]) / len(profit_distrib_2) * 100} %')\n",
    "print(f'Пороговое значение риска убытков: {LOSS_PROB_THRESHOLD * 100} %')"
   ]
  },
  {
   "cell_type": "markdown",
   "id": "4010f854-6236-45df-921d-59c3c9b0c122",
   "metadata": {},
   "source": [
    "Видим, что риск убытков для второго региона низкий и ниже порогового значения."
   ]
  },
  {
   "cell_type": "markdown",
   "id": "118e8e8c-4d53-4402-8984-932506a754cd",
   "metadata": {},
   "source": [
    "#### Третий регион"
   ]
  },
  {
   "cell_type": "markdown",
   "id": "7b4fd1c3-de0f-4e38-9dc6-365bc08cea89",
   "metadata": {},
   "source": [
    "##### Средняя прибыль"
   ]
  },
  {
   "cell_type": "code",
   "execution_count": 69,
   "id": "f957933c-e64a-4734-8eb3-34dc86d778a7",
   "metadata": {},
   "outputs": [
    {
     "name": "stdout",
     "output_type": "stream",
     "text": [
      "Средняя прибыль для третьего региона: 392.95 млн. руб.\n"
     ]
    }
   ],
   "source": [
    "print(f'Средняя прибыль для третьего региона: {round(profit_distrib_3.mean() / 1_000_000, 2)} млн. руб.')"
   ]
  },
  {
   "cell_type": "markdown",
   "id": "efa0b2c0-f3a5-432f-9a4d-971a4ec590bb",
   "metadata": {},
   "source": [
    "##### Доверительный интервал"
   ]
  },
  {
   "cell_type": "code",
   "execution_count": 70,
   "id": "1f79dbb2-393f-462a-b966-fe8d87508107",
   "metadata": {},
   "outputs": [
    {
     "name": "stdout",
     "output_type": "stream",
     "text": [
      "95% доверительный интервал: (-112.23, 934.56) млн. руб.\n"
     ]
    }
   ],
   "source": [
    "print(f'95% доверительный интервал: ({round(np.quantile(profit_distrib_3, 0.025) / 1_000_000, 2)}, '\n",
    "      f'{round(np.quantile(profit_distrib_3, 0.975) / 1_000_000, 2)}) млн. руб.')"
   ]
  },
  {
   "cell_type": "markdown",
   "id": "08c15fe2-58c7-4c6d-9afa-28e3ec4f8789",
   "metadata": {},
   "source": [
    "##### Риск убытков"
   ]
  },
  {
   "cell_type": "code",
   "execution_count": 71,
   "id": "2dc03f37-d0ab-427d-aebc-3121f16662b4",
   "metadata": {},
   "outputs": [
    {
     "name": "stdout",
     "output_type": "stream",
     "text": [
      "Риск убытков при разработке первого региона: 6.5 %\n",
      "Пороговое значение риска убытков: 2.5 %\n"
     ]
    }
   ],
   "source": [
    "print(f'Риск убытков при разработке первого региона: {len(profit_distrib_3[profit_distrib_3 < 0]) / len(profit_distrib_3) * 100} %')\n",
    "print(f'Пороговое значение риска убытков: {LOSS_PROB_THRESHOLD * 100} %')"
   ]
  },
  {
   "cell_type": "markdown",
   "id": "d5ea9704-1278-4e0a-a702-0d5a4b4871cd",
   "metadata": {},
   "source": [
    "Видим, что для третьего риск убытков выше порогового значения.\n",
    "Т.к. необходимо оставить регионы с риском строго ниже порогового значения, то третий регион в дальнейшем нами рассматриваться не будет."
   ]
  },
  {
   "cell_type": "markdown",
   "id": "f2e0ebfa-4755-47b2-af61-ef059bf4add1",
   "metadata": {},
   "source": [
    "В итоге, для разработки месторождений предлагается выбрать второй регион, т.к., в сравнении с остальными, у него риск убытков ниже порогового значения.\n",
    "Кроме того, у него неплохая средняя прибыль."
   ]
  },
  {
   "cell_type": "markdown",
   "id": "91c182f1-08bf-48aa-bfad-4cacbb675318",
   "metadata": {},
   "source": [
    "### Общий вывод"
   ]
  },
  {
   "cell_type": "markdown",
   "id": "bb8b0a0f-fa10-4f9a-933b-37d459c53aee",
   "metadata": {},
   "source": [
    "Был проведен анализ данных и получены следующие результаты:"
   ]
  },
  {
   "cell_type": "markdown",
   "id": "0061bc0a-739f-43c7-8170-503492646ec2",
   "metadata": {},
   "source": [
    "На этапе осмотра и предобработки данных аномалий и дубликатов не обнаружено."
   ]
  },
  {
   "cell_type": "markdown",
   "id": "b9c0b19c-2747-4553-b2a4-1f4e28bca880",
   "metadata": {},
   "source": [
    "В ходе исследовательского анализа выявлен схожий характер распределения объемов запасов скважин в первом и третьем регионах.\n",
    "Во втором регионе характер распределения принципиально другой, возможно, это связано с размещением второго региона в другой географической\n",
    "области."
   ]
  },
  {
   "cell_type": "markdown",
   "id": "5b8ef8ab-be36-4a6a-87d0-08b9ea271e2a",
   "metadata": {},
   "source": [
    "Была обучена модель линейной регрессии для каждого региона, получены предсказания объемов запасов для них.\n",
    "Средний запас предсказанного сырья в первом и третьем регионах примерно одинаков (92.6 и 95.0 тыс. баррелей), равно как и RMSЕ у обоих моделей довольно высокий (37.6 и 40 соответственно) — картина похожая.\n",
    "Во втором же регионе средний запас предсказанного сырья существенно ниже — всего 68.7 тыс. баррелей, но RMSE модели очень низкий (0.89)."
   ]
  },
  {
   "cell_type": "markdown",
   "id": "71bb3f26-cc1c-45ec-b11d-28954608c410",
   "metadata": {},
   "source": [
    "Был рассчитан минимальный объем сырья в скважине необходимый для ее безубыточной разработки.\n",
    "Оказалось, что этот объем выше среднего объема запасов в скважинах для каждого из регионов.\n",
    "При этом, мы увидели, что в каждом из регионов есть достаточно количество скважин с требуемым запасом."
   ]
  },
  {
   "cell_type": "markdown",
   "id": "24fb8491-7c43-4462-bed2-3edc80728181",
   "metadata": {},
   "source": [
    "Была написана функция расчета прибыли по выбранным скважинам и предсказаниям модели и рассчитана прибыль для полученного объема сырья."
   ]
  },
  {
   "cell_type": "markdown",
   "id": "c4d162d7-9b88-4095-8840-ad8a9a7d7821",
   "metadata": {},
   "source": [
    "Техникой Bootstrap было найдено распределение прибыли для каждого из регионов.\n",
    "Были получена средняя прибыль, $95\\%$-й доверительный интервал и риск убытков для каждого из регионов.\n",
    "Выяснилось, что для первого и третьего регионов риск убытков выше порогового значения, соответственно, эти регионы для разработки\n",
    "рассматриваться не могут. Поэтому для разработки предлагается выбрать второй регион."
   ]
  }
 ],
 "metadata": {
  "ExecuteTimeLog": [
   {
    "duration": 1094,
    "start_time": "2024-10-17T16:12:29.513Z"
   },
   {
    "duration": 8,
    "start_time": "2024-10-17T16:12:30.608Z"
   },
   {
    "duration": 3,
    "start_time": "2024-10-17T16:12:30.618Z"
   },
   {
    "duration": 14,
    "start_time": "2024-10-17T16:12:30.624Z"
   },
   {
    "duration": 15,
    "start_time": "2024-10-17T16:12:30.639Z"
   },
   {
    "duration": 148,
    "start_time": "2024-10-17T16:12:30.655Z"
   },
   {
    "duration": 109,
    "start_time": "2024-10-17T16:12:30.805Z"
   },
   {
    "duration": 108,
    "start_time": "2024-10-17T16:12:30.916Z"
   },
   {
    "duration": 13,
    "start_time": "2024-10-17T16:12:31.026Z"
   },
   {
    "duration": 11,
    "start_time": "2024-10-17T16:12:31.041Z"
   },
   {
    "duration": 12,
    "start_time": "2024-10-17T16:12:31.053Z"
   },
   {
    "duration": 9,
    "start_time": "2024-10-17T16:12:31.067Z"
   },
   {
    "duration": 46,
    "start_time": "2024-10-17T16:12:31.077Z"
   },
   {
    "duration": 8,
    "start_time": "2024-10-17T16:12:31.124Z"
   },
   {
    "duration": 60,
    "start_time": "2024-10-17T16:12:31.133Z"
   },
   {
    "duration": 39,
    "start_time": "2024-10-17T16:12:31.195Z"
   },
   {
    "duration": 39,
    "start_time": "2024-10-17T16:12:31.236Z"
   },
   {
    "duration": 41,
    "start_time": "2024-10-17T16:12:31.276Z"
   },
   {
    "duration": 181,
    "start_time": "2024-10-17T16:12:31.318Z"
   },
   {
    "duration": 172,
    "start_time": "2024-10-17T16:12:31.501Z"
   },
   {
    "duration": 165,
    "start_time": "2024-10-17T16:12:31.674Z"
   },
   {
    "duration": 3,
    "start_time": "2024-10-17T16:12:31.840Z"
   },
   {
    "duration": 9,
    "start_time": "2024-10-17T16:12:31.844Z"
   },
   {
    "duration": 15,
    "start_time": "2024-10-17T16:12:31.854Z"
   },
   {
    "duration": 2,
    "start_time": "2024-10-17T16:12:31.871Z"
   },
   {
    "duration": 32,
    "start_time": "2024-10-17T16:12:31.875Z"
   },
   {
    "duration": 4,
    "start_time": "2024-10-17T16:12:31.908Z"
   },
   {
    "duration": 12,
    "start_time": "2024-10-17T16:12:31.915Z"
   },
   {
    "duration": 14,
    "start_time": "2024-10-17T16:12:31.928Z"
   },
   {
    "duration": 2,
    "start_time": "2024-10-17T16:12:31.943Z"
   },
   {
    "duration": 15,
    "start_time": "2024-10-17T16:12:31.947Z"
   },
   {
    "duration": 4,
    "start_time": "2024-10-17T16:12:31.964Z"
   },
   {
    "duration": 15,
    "start_time": "2024-10-17T16:12:31.970Z"
   },
   {
    "duration": 18,
    "start_time": "2024-10-17T16:12:31.986Z"
   },
   {
    "duration": 2,
    "start_time": "2024-10-17T16:12:32.011Z"
   },
   {
    "duration": 81,
    "start_time": "2024-10-17T16:12:32.015Z"
   },
   {
    "duration": 48,
    "start_time": "2024-10-17T16:12:32.098Z"
   },
   {
    "duration": 7,
    "start_time": "2024-10-17T16:12:32.148Z"
   },
   {
    "duration": 20,
    "start_time": "2024-10-17T16:12:32.156Z"
   },
   {
    "duration": 5,
    "start_time": "2024-10-17T16:12:32.178Z"
   },
   {
    "duration": 128,
    "start_time": "2024-10-17T16:12:32.185Z"
   },
   {
    "duration": 5,
    "start_time": "2024-10-17T16:12:32.315Z"
   },
   {
    "duration": 6,
    "start_time": "2024-10-17T16:12:32.322Z"
   },
   {
    "duration": 9,
    "start_time": "2024-10-17T16:12:32.329Z"
   },
   {
    "duration": 8,
    "start_time": "2024-10-17T16:12:32.339Z"
   },
   {
    "duration": 4,
    "start_time": "2024-10-17T16:12:32.411Z"
   },
   {
    "duration": 5,
    "start_time": "2024-10-17T16:12:32.416Z"
   },
   {
    "duration": 94,
    "start_time": "2024-10-17T16:12:32.423Z"
   },
   {
    "duration": 21,
    "start_time": "2024-10-17T16:12:32.519Z"
   },
   {
    "duration": 34,
    "start_time": "2024-10-17T16:12:32.541Z"
   },
   {
    "duration": 41,
    "start_time": "2024-10-17T16:12:32.576Z"
   },
   {
    "duration": 3,
    "start_time": "2024-10-17T16:12:32.619Z"
   },
   {
    "duration": 128,
    "start_time": "2024-10-17T16:12:32.623Z"
   },
   {
    "duration": 6,
    "start_time": "2024-10-17T16:12:32.752Z"
   },
   {
    "duration": 12,
    "start_time": "2024-10-17T16:12:32.760Z"
   },
   {
    "duration": 3,
    "start_time": "2024-10-17T16:12:32.773Z"
   },
   {
    "duration": 18,
    "start_time": "2024-10-17T16:12:32.778Z"
   },
   {
    "duration": 11,
    "start_time": "2024-10-17T16:12:32.798Z"
   },
   {
    "duration": 7,
    "start_time": "2024-10-17T16:12:32.810Z"
   },
   {
    "duration": 8,
    "start_time": "2024-10-17T16:12:32.818Z"
   },
   {
    "duration": 941,
    "start_time": "2024-10-17T16:12:32.828Z"
   },
   {
    "duration": 904,
    "start_time": "2024-10-17T16:12:33.771Z"
   },
   {
    "duration": 894,
    "start_time": "2024-10-17T16:12:34.676Z"
   },
   {
    "duration": 3,
    "start_time": "2024-10-17T16:12:35.572Z"
   },
   {
    "duration": 43,
    "start_time": "2024-10-17T16:12:35.577Z"
   },
   {
    "duration": 14,
    "start_time": "2024-10-17T16:12:35.621Z"
   },
   {
    "duration": 21,
    "start_time": "2024-10-17T16:12:35.637Z"
   },
   {
    "duration": 43,
    "start_time": "2024-10-17T16:12:35.659Z"
   },
   {
    "duration": 32,
    "start_time": "2024-10-17T16:12:35.704Z"
   },
   {
    "duration": 43,
    "start_time": "2024-10-17T16:12:35.738Z"
   },
   {
    "duration": 23,
    "start_time": "2024-10-17T16:12:35.782Z"
   },
   {
    "duration": 13,
    "start_time": "2024-10-17T16:12:35.806Z"
   },
   {
    "duration": 7,
    "start_time": "2024-10-17T16:13:40.599Z"
   },
   {
    "duration": 3,
    "start_time": "2024-10-17T16:13:41.092Z"
   }
  ],
  "kernelspec": {
   "display_name": "Python 3.11 (ipykernel)",
   "language": "python",
   "name": "python3.11"
  },
  "language_info": {
   "codemirror_mode": {
    "name": "ipython",
    "version": 3
   },
   "file_extension": ".py",
   "mimetype": "text/x-python",
   "name": "python",
   "nbconvert_exporter": "python",
   "pygments_lexer": "ipython3",
   "version": "3.11.13"
  },
  "toc": {
   "base_numbering": 1,
   "nav_menu": {},
   "number_sections": true,
   "sideBar": true,
   "skip_h1_title": true,
   "title_cell": "Table of Contents",
   "title_sidebar": "Contents",
   "toc_cell": false,
   "toc_position": {},
   "toc_section_display": true,
   "toc_window_display": false
  }
 },
 "nbformat": 4,
 "nbformat_minor": 5
}
